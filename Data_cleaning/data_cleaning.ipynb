{
 "cells": [
  {
   "cell_type": "markdown",
   "id": "ebd533f0-21de-4a0e-9c42-9450376a91cf",
   "metadata": {},
   "source": [
    "# D206 Performance Assessment\n",
    "## Sean Pharris\n",
    "## Western Governors University\n",
    "## November 30, 2021"
   ]
  },
  {
   "cell_type": "markdown",
   "id": "96b987d8-e652-4abf-a165-c2c0104b5091",
   "metadata": {},
   "source": [
    "### Part I. \n",
    "\n",
    "A. Research Question:\n",
    "\n",
    "Is there a specific price range associated with the use of the service leading to the customer dropping the service within the last month?"
   ]
  },
  {
   "cell_type": "markdown",
   "id": "86ed36e1-40dc-4d75-83a1-1de90a8b9f5d",
   "metadata": {},
   "source": [
    "B. Variables\n",
    "\n",
    "The data set contains 10,000 records from a company in the telecom industry. The data set contains a column labeled “Churn” which is the target variable in the analysis. The Churn data point is a categorical variable that is boolean. The churn data point reads “yes” if the customer has canceled their service within the last month.\n",
    "\n",
    "There are numerous more independent variables in the data set that must be taken into account. These factors will be examined to see whether they may be used to forecast our target variable. These variables are divided into three groups.\n",
    "\n",
    "Tenure - Number of months the customer has stayed with the provider (integer; represents the number of months) - example: a customer might be with the company for 10 months  \n",
    "Monthly charge - The amount charged to the customer monthly. This value reflects an average per customer (integer; represents the monthly charge) - example: the customer might have had a monthly charge of $150.00  \n",
    "Churn - Whether the customer discontinued service within the last month (binary; yes, no) - example: if the customer had canceled the service with in the last month then the variable would \"yes\"  \n",
    "Bandwidth_GB_Year - The amount of data used (integer; represents Gbs) - example: the customer had used 2000 Gbs of data within the last year then the variable would 2000  \n",
    "\n",
    "List of all data from the raw data set and their data types:"
   ]
  },
  {
   "cell_type": "markdown",
   "id": "b91101c6-3606-428e-ad3e-10d397372aa2",
   "metadata": {},
   "source": [
    "Unnamed: 0                int64  \n",
    "Unnamed: 0.1              int64  \n",
    "CaseOrder                 int64  \n",
    "Customer_id              object  \n",
    "Interaction              object  \n",
    "City                     object  \n",
    "State                    object  \n",
    "County                   object  \n",
    "Zip                       int64   \n",
    "Lat                     float64  \n",
    "Lng                     float64  \n",
    "Population                int64   \n",
    "Area                     object  \n",
    "Timezone                 object  \n",
    "Job                      object  \n",
    "Children                float64  \n",
    "Age                     float64  \n",
    "Education                object  \n",
    "Employment               object  \n",
    "Income                  float64  \n",
    "Marital                  object  \n",
    "Gender                   object  \n",
    "Churn                    object  \n",
    "Outage_sec_perweek      float64  \n",
    "Email                     int64  \n",
    "Contacts                  int64  \n",
    "Yearly_equip_failure      int64  \n",
    "Techie                   object  \n",
    "Contract                 object  \n",
    "Port_modem               object  \n",
    "Tablet                   object  \n",
    "InternetService          object  \n",
    "Phone                    object  \n",
    "Multiple                 object  \n",
    "OnlineSecurity           object  \n",
    "OnlineBackup             object  \n",
    "DeviceProtection         object  \n",
    "TechSupport              object  \n",
    "StreamingTV              object  \n",
    "StreamingMovies          object  \n",
    "PaperlessBilling         object  \n",
    "PaymentMethod            object   \n",
    "Tenure                  float64  \n",
    "MonthlyCharge           float64  \n",
    "Bandwidth_GB_Year       float64   \n",
    "item1                     int64  \n",
    "item2                     int64  \n",
    "item3                     int64   \n",
    "item4                     int64  \n",
    "item5                     int64  \n",
    "item6                     int64  \n",
    "item7                     int64  \n",
    "item8                     int64  \n",
    "dtype: object  \n",
    "\n",
    "List of all data used to answer the research question and their description:\n",
    "\n",
    "Tenure - Number of months the customer has stayed with the provider  \n",
    "Internet service - Customer’s internet service provider (DSL, fiber optic, None)  \n",
    "Online security - Whether the customer has an online security add-on (yes, no)  \n",
    "Online back up -  Whether the customer has an online backup add-on (yes, no)  \n",
    "Device protection - Whether the customer has device protection add-on (yes, no)  \n",
    "Technical support - Whether the customer has a technical support add-on (yes, no)  \n",
    "Phone - Whether the customer has a phone service (yes, no)  \n",
    "Multiple lines - Whether the customer has multiple lines (yes, no)  \n",
    "Streaming TV - Whether the customer has streaming TV (yes, no)  \n",
    "Streaming Movies - Whether the customer has streaming movies (yes, no)  \n",
    "Monthly charge - The amount charged to the customer monthly. This value reflects an average per customer  \n",
    "Churn - Whether the customer discontinued service within the last month (yes, no)  \n",
    "Bandwidth_GB_Year - The amount of data used (integer; represents Gbs)"
   ]
  },
  {
   "cell_type": "markdown",
   "id": "3c93c888-af55-470b-a7f2-12e142eb750b",
   "metadata": {
    "tags": []
   },
   "source": [
    "### Part II.\n",
    "\n",
    "C. Data Cleaning Plan\n",
    "\n",
    "\n",
    "1.  For the data cleaning plan we will start by checking for any abnormal naming conventions or mispellings. Then move on to check for null values and decide whether we will get rid of the rows or fill the null values. Lastly, we will then find the outliers in the data set and determine how to handle them.\n",
    "\n",
    "    Steps:  \n",
    "    a. Data will be imported from the churn_raw_data.CSV file and into a pandas DataFrame.  \n",
    "    b. Data labels will be identified/compared to the data dictionary provided by the telecom company.  \n",
    "    c. Check for duplicates in the data using the pandas duplicate method.  \n",
    "    d. Check the data  fr null values using the .isnull method.           \n",
    "    e. Columns containing numerical value types will first be plotted in the matplotlib histogram for analysis and the for further analysis using the matplotlib box plot. Viewing the data like such we can identify the outliers.  \n",
    "    f. Create a separate CSV file with only the necessary columns needed to answer the research question\n",
    " \n",
    "\n",
    "2.  Using the above steps is common practice in the data analysis field. \n",
    "\n",
    "    a. Importing the CSV allows the use of data cleaning methods in python/pandas that ease the task of cleaning the data. \n",
    "\n",
    "    b. Comparing the data to the data dictionary ensure us that the data correlates as the company sees fit.\n",
    "    \n",
    "    c. The integrity of the overall study depends on the data set being checked for duplicates. Duplicate data can skew the results of advanced              analytics and affect estimates of central tendency. This is also true of category label inconsistencies. This is why it was crucial to double-        check categorical labels for uniformity. This check guarantees that a simple capitalization error does not create two categories where only one        is required, causing analysis to be thrown off.\n",
    "\n",
    "    d. Null values are a hazard to our analytics, thus they must be identified. We can easily locate and assess the severity of our null data problem        using pandas. Before looking for outliers, it's also crucial to find and deal with null values. Null data can affect our analysis of visuals,          causing normal data to be mislabeled as outliers.\n",
    "    \n",
    "    e. Using boxplots to identify outliers gives you a visual depiction of the number and severity of outliers in your data set. Furthermore, the use        of standardized data in these boxplots ensures that the fluctuation in numerical data points is consistent. This allows us to use a similar            scale and metric to assess the outliers of various data points. A histogram was employed before the standardized box plot method to bring              additional clarity to the distribution of outliers. This reduced the risk of standardization skewing perception.\n",
    "\n",
    "    f. Creating a separate CSV file with only the necessary 11 columns will make it easier to compute the data for the processing unit.\n",
    "    \n",
    "\n",
    "\n",
    "3.  To evaluate the nature of clean information, Python is utilized. Python is a wonderful for analysts with a ton of packages, making it ideal for factual investigation. Python likewise takes into consideration interpretable perceptions, and packages for cleaning information and identifying anomalies. Noteworthy packages are csv(read_csv) for reading the raw churn data into Python, Jupyter Labs for usability, Numpy to handle large arrays and matrices, and matplotlib for visualizations."
   ]
  },
  {
   "cell_type": "code",
   "execution_count": 1,
   "id": "746f4651-c9de-4ca8-a240-31bf9d2bfe52",
   "metadata": {},
   "outputs": [],
   "source": [
    "# packages used to conduct data cleaning \n",
    "\n",
    "import pandas as pd\n",
    "import numpy as np\n",
    "import csv\n",
    "from matplotlib import pyplot as plt "
   ]
  },
  {
   "cell_type": "markdown",
   "id": "e5ffe05b-846c-4612-93f2-f4cc6fce63c5",
   "metadata": {},
   "source": [
    "4.  Provide the code you will use to identify the anomalies in the data."
   ]
  },
  {
   "cell_type": "code",
   "execution_count": 2,
   "id": "c9afbd6f-825c-460e-97f3-cce05d42aecc",
   "metadata": {},
   "outputs": [
    {
     "data": {
      "text/plain": [
       "Index(['Unnamed: 0', 'Unnamed: 0.1', 'CaseOrder', 'Customer_id', 'Interaction',\n",
       "       'City', 'State', 'County', 'Zip', 'Lat', 'Lng', 'Population', 'Area',\n",
       "       'Timezone', 'Job', 'Children', 'Age', 'Education', 'Employment',\n",
       "       'Income', 'Marital', 'Gender', 'Churn', 'Outage_sec_perweek', 'Email',\n",
       "       'Contacts', 'Yearly_equip_failure', 'Techie', 'Contract', 'Port_modem',\n",
       "       'Tablet', 'InternetService', 'Phone', 'Multiple', 'OnlineSecurity',\n",
       "       'OnlineBackup', 'DeviceProtection', 'TechSupport', 'StreamingTV',\n",
       "       'StreamingMovies', 'PaperlessBilling', 'PaymentMethod', 'Tenure',\n",
       "       'MonthlyCharge', 'Bandwidth_GB_Year', 'item1', 'item2', 'item3',\n",
       "       'item4', 'item5', 'item6', 'item7', 'item8'],\n",
       "      dtype='object')"
      ]
     },
     "execution_count": 2,
     "metadata": {},
     "output_type": "execute_result"
    }
   ],
   "source": [
    "# establish our initial data frame of the raw data and view columns of data\n",
    "\n",
    "df = pd.read_csv('churn_raw_data.csv')\n",
    "df.columns"
   ]
  },
  {
   "cell_type": "code",
   "execution_count": 3,
   "id": "cc7ee30b-d372-49a2-bb47-218809d3ee7b",
   "metadata": {},
   "outputs": [],
   "source": [
    "df.drop([\"Unnamed: 0\",\"Unnamed: 0.1\",\"Techie\",\"CaseOrder\"], axis=1, inplace=True)"
   ]
  },
  {
   "cell_type": "code",
   "execution_count": 4,
   "id": "ea0984aa-6ce4-401e-abba-a19058f4bcf8",
   "metadata": {},
   "outputs": [
    {
     "data": {
      "text/html": [
       "<div>\n",
       "<style scoped>\n",
       "    .dataframe tbody tr th:only-of-type {\n",
       "        vertical-align: middle;\n",
       "    }\n",
       "\n",
       "    .dataframe tbody tr th {\n",
       "        vertical-align: top;\n",
       "    }\n",
       "\n",
       "    .dataframe thead th {\n",
       "        text-align: right;\n",
       "    }\n",
       "</style>\n",
       "<table border=\"1\" class=\"dataframe\">\n",
       "  <thead>\n",
       "    <tr style=\"text-align: right;\">\n",
       "      <th></th>\n",
       "      <th>Customer_id</th>\n",
       "      <th>Interaction</th>\n",
       "      <th>City</th>\n",
       "      <th>State</th>\n",
       "      <th>County</th>\n",
       "      <th>Zip</th>\n",
       "      <th>Lat</th>\n",
       "      <th>Lng</th>\n",
       "      <th>Population</th>\n",
       "      <th>Area</th>\n",
       "      <th>...</th>\n",
       "      <th>MonthlyCharge</th>\n",
       "      <th>Bandwidth_GB_Year</th>\n",
       "      <th>item1</th>\n",
       "      <th>item2</th>\n",
       "      <th>item3</th>\n",
       "      <th>item4</th>\n",
       "      <th>item5</th>\n",
       "      <th>item6</th>\n",
       "      <th>item7</th>\n",
       "      <th>item8</th>\n",
       "    </tr>\n",
       "  </thead>\n",
       "  <tbody>\n",
       "    <tr>\n",
       "      <th>0</th>\n",
       "      <td>K409198</td>\n",
       "      <td>aa90260b-4141-4a24-8e36-b04ce1f4f77b</td>\n",
       "      <td>Point Baker</td>\n",
       "      <td>AK</td>\n",
       "      <td>Prince of Wales-Hyder</td>\n",
       "      <td>99927</td>\n",
       "      <td>56.25100</td>\n",
       "      <td>-133.37571</td>\n",
       "      <td>38</td>\n",
       "      <td>Urban</td>\n",
       "      <td>...</td>\n",
       "      <td>171.449762</td>\n",
       "      <td>904.536110</td>\n",
       "      <td>5</td>\n",
       "      <td>5</td>\n",
       "      <td>5</td>\n",
       "      <td>3</td>\n",
       "      <td>4</td>\n",
       "      <td>4</td>\n",
       "      <td>3</td>\n",
       "      <td>4</td>\n",
       "    </tr>\n",
       "    <tr>\n",
       "      <th>1</th>\n",
       "      <td>S120509</td>\n",
       "      <td>fb76459f-c047-4a9d-8af9-e0f7d4ac2524</td>\n",
       "      <td>West Branch</td>\n",
       "      <td>MI</td>\n",
       "      <td>Ogemaw</td>\n",
       "      <td>48661</td>\n",
       "      <td>44.32893</td>\n",
       "      <td>-84.24080</td>\n",
       "      <td>10446</td>\n",
       "      <td>Urban</td>\n",
       "      <td>...</td>\n",
       "      <td>242.948015</td>\n",
       "      <td>800.982766</td>\n",
       "      <td>3</td>\n",
       "      <td>4</td>\n",
       "      <td>3</td>\n",
       "      <td>3</td>\n",
       "      <td>4</td>\n",
       "      <td>3</td>\n",
       "      <td>4</td>\n",
       "      <td>4</td>\n",
       "    </tr>\n",
       "    <tr>\n",
       "      <th>2</th>\n",
       "      <td>K191035</td>\n",
       "      <td>344d114c-3736-4be5-98f7-c72c281e2d35</td>\n",
       "      <td>Yamhill</td>\n",
       "      <td>OR</td>\n",
       "      <td>Yamhill</td>\n",
       "      <td>97148</td>\n",
       "      <td>45.35589</td>\n",
       "      <td>-123.24657</td>\n",
       "      <td>3735</td>\n",
       "      <td>Urban</td>\n",
       "      <td>...</td>\n",
       "      <td>159.440398</td>\n",
       "      <td>2054.706961</td>\n",
       "      <td>4</td>\n",
       "      <td>4</td>\n",
       "      <td>2</td>\n",
       "      <td>4</td>\n",
       "      <td>4</td>\n",
       "      <td>3</td>\n",
       "      <td>3</td>\n",
       "      <td>3</td>\n",
       "    </tr>\n",
       "    <tr>\n",
       "      <th>3</th>\n",
       "      <td>D90850</td>\n",
       "      <td>abfa2b40-2d43-4994-b15a-989b8c79e311</td>\n",
       "      <td>Del Mar</td>\n",
       "      <td>CA</td>\n",
       "      <td>San Diego</td>\n",
       "      <td>92014</td>\n",
       "      <td>32.96687</td>\n",
       "      <td>-117.24798</td>\n",
       "      <td>13863</td>\n",
       "      <td>Suburban</td>\n",
       "      <td>...</td>\n",
       "      <td>120.249493</td>\n",
       "      <td>2164.579412</td>\n",
       "      <td>4</td>\n",
       "      <td>4</td>\n",
       "      <td>4</td>\n",
       "      <td>2</td>\n",
       "      <td>5</td>\n",
       "      <td>4</td>\n",
       "      <td>3</td>\n",
       "      <td>3</td>\n",
       "    </tr>\n",
       "    <tr>\n",
       "      <th>4</th>\n",
       "      <td>K662701</td>\n",
       "      <td>68a861fd-0d20-4e51-a587-8a90407ee574</td>\n",
       "      <td>Needville</td>\n",
       "      <td>TX</td>\n",
       "      <td>Fort Bend</td>\n",
       "      <td>77461</td>\n",
       "      <td>29.38012</td>\n",
       "      <td>-95.80673</td>\n",
       "      <td>11352</td>\n",
       "      <td>Suburban</td>\n",
       "      <td>...</td>\n",
       "      <td>150.761216</td>\n",
       "      <td>271.493436</td>\n",
       "      <td>4</td>\n",
       "      <td>4</td>\n",
       "      <td>4</td>\n",
       "      <td>3</td>\n",
       "      <td>4</td>\n",
       "      <td>4</td>\n",
       "      <td>4</td>\n",
       "      <td>5</td>\n",
       "    </tr>\n",
       "    <tr>\n",
       "      <th>...</th>\n",
       "      <td>...</td>\n",
       "      <td>...</td>\n",
       "      <td>...</td>\n",
       "      <td>...</td>\n",
       "      <td>...</td>\n",
       "      <td>...</td>\n",
       "      <td>...</td>\n",
       "      <td>...</td>\n",
       "      <td>...</td>\n",
       "      <td>...</td>\n",
       "      <td>...</td>\n",
       "      <td>...</td>\n",
       "      <td>...</td>\n",
       "      <td>...</td>\n",
       "      <td>...</td>\n",
       "      <td>...</td>\n",
       "      <td>...</td>\n",
       "      <td>...</td>\n",
       "      <td>...</td>\n",
       "      <td>...</td>\n",
       "      <td>...</td>\n",
       "    </tr>\n",
       "    <tr>\n",
       "      <th>9995</th>\n",
       "      <td>M324793</td>\n",
       "      <td>45deb5a2-ae04-4518-bf0b-c82db8dbe4a4</td>\n",
       "      <td>Mount Holly</td>\n",
       "      <td>VT</td>\n",
       "      <td>Rutland</td>\n",
       "      <td>5758</td>\n",
       "      <td>43.43391</td>\n",
       "      <td>-72.78734</td>\n",
       "      <td>640</td>\n",
       "      <td>Rural</td>\n",
       "      <td>...</td>\n",
       "      <td>159.828800</td>\n",
       "      <td>6511.253000</td>\n",
       "      <td>3</td>\n",
       "      <td>2</td>\n",
       "      <td>3</td>\n",
       "      <td>3</td>\n",
       "      <td>4</td>\n",
       "      <td>3</td>\n",
       "      <td>2</td>\n",
       "      <td>3</td>\n",
       "    </tr>\n",
       "    <tr>\n",
       "      <th>9996</th>\n",
       "      <td>D861732</td>\n",
       "      <td>6e96b921-0c09-4993-bbda-a1ac6411061a</td>\n",
       "      <td>Clarksville</td>\n",
       "      <td>TN</td>\n",
       "      <td>Montgomery</td>\n",
       "      <td>37042</td>\n",
       "      <td>36.56907</td>\n",
       "      <td>-87.41694</td>\n",
       "      <td>77168</td>\n",
       "      <td>Rural</td>\n",
       "      <td>...</td>\n",
       "      <td>208.856400</td>\n",
       "      <td>5695.952000</td>\n",
       "      <td>4</td>\n",
       "      <td>5</td>\n",
       "      <td>5</td>\n",
       "      <td>4</td>\n",
       "      <td>4</td>\n",
       "      <td>5</td>\n",
       "      <td>2</td>\n",
       "      <td>5</td>\n",
       "    </tr>\n",
       "    <tr>\n",
       "      <th>9997</th>\n",
       "      <td>I243405</td>\n",
       "      <td>e8307ddf-9a01-4fff-bc59-4742e03fd24f</td>\n",
       "      <td>Mobeetie</td>\n",
       "      <td>TX</td>\n",
       "      <td>Wheeler</td>\n",
       "      <td>79061</td>\n",
       "      <td>35.52039</td>\n",
       "      <td>-100.44180</td>\n",
       "      <td>406</td>\n",
       "      <td>Rural</td>\n",
       "      <td>...</td>\n",
       "      <td>168.220900</td>\n",
       "      <td>4159.306000</td>\n",
       "      <td>4</td>\n",
       "      <td>4</td>\n",
       "      <td>4</td>\n",
       "      <td>4</td>\n",
       "      <td>4</td>\n",
       "      <td>4</td>\n",
       "      <td>4</td>\n",
       "      <td>5</td>\n",
       "    </tr>\n",
       "    <tr>\n",
       "      <th>9998</th>\n",
       "      <td>I641617</td>\n",
       "      <td>3775ccfc-0052-4107-81ae-9657f81ecdf3</td>\n",
       "      <td>Carrollton</td>\n",
       "      <td>GA</td>\n",
       "      <td>Carroll</td>\n",
       "      <td>30117</td>\n",
       "      <td>33.58016</td>\n",
       "      <td>-85.13241</td>\n",
       "      <td>35575</td>\n",
       "      <td>Urban</td>\n",
       "      <td>...</td>\n",
       "      <td>252.628600</td>\n",
       "      <td>6468.457000</td>\n",
       "      <td>4</td>\n",
       "      <td>4</td>\n",
       "      <td>6</td>\n",
       "      <td>4</td>\n",
       "      <td>3</td>\n",
       "      <td>3</td>\n",
       "      <td>5</td>\n",
       "      <td>4</td>\n",
       "    </tr>\n",
       "    <tr>\n",
       "      <th>9999</th>\n",
       "      <td>T38070</td>\n",
       "      <td>9de5fb6e-bd33-4995-aec8-f01d0172a499</td>\n",
       "      <td>Clarkesville</td>\n",
       "      <td>GA</td>\n",
       "      <td>Habersham</td>\n",
       "      <td>30523</td>\n",
       "      <td>34.70783</td>\n",
       "      <td>-83.53648</td>\n",
       "      <td>12230</td>\n",
       "      <td>Urban</td>\n",
       "      <td>...</td>\n",
       "      <td>218.371000</td>\n",
       "      <td>5857.586000</td>\n",
       "      <td>2</td>\n",
       "      <td>2</td>\n",
       "      <td>3</td>\n",
       "      <td>3</td>\n",
       "      <td>3</td>\n",
       "      <td>3</td>\n",
       "      <td>4</td>\n",
       "      <td>1</td>\n",
       "    </tr>\n",
       "  </tbody>\n",
       "</table>\n",
       "<p>10000 rows × 49 columns</p>\n",
       "</div>"
      ],
      "text/plain": [
       "     Customer_id                           Interaction          City State  \\\n",
       "0        K409198  aa90260b-4141-4a24-8e36-b04ce1f4f77b   Point Baker    AK   \n",
       "1        S120509  fb76459f-c047-4a9d-8af9-e0f7d4ac2524   West Branch    MI   \n",
       "2        K191035  344d114c-3736-4be5-98f7-c72c281e2d35       Yamhill    OR   \n",
       "3         D90850  abfa2b40-2d43-4994-b15a-989b8c79e311       Del Mar    CA   \n",
       "4        K662701  68a861fd-0d20-4e51-a587-8a90407ee574     Needville    TX   \n",
       "...          ...                                   ...           ...   ...   \n",
       "9995     M324793  45deb5a2-ae04-4518-bf0b-c82db8dbe4a4   Mount Holly    VT   \n",
       "9996     D861732  6e96b921-0c09-4993-bbda-a1ac6411061a   Clarksville    TN   \n",
       "9997     I243405  e8307ddf-9a01-4fff-bc59-4742e03fd24f      Mobeetie    TX   \n",
       "9998     I641617  3775ccfc-0052-4107-81ae-9657f81ecdf3    Carrollton    GA   \n",
       "9999      T38070  9de5fb6e-bd33-4995-aec8-f01d0172a499  Clarkesville    GA   \n",
       "\n",
       "                     County    Zip       Lat        Lng  Population      Area  \\\n",
       "0     Prince of Wales-Hyder  99927  56.25100 -133.37571          38     Urban   \n",
       "1                    Ogemaw  48661  44.32893  -84.24080       10446     Urban   \n",
       "2                   Yamhill  97148  45.35589 -123.24657        3735     Urban   \n",
       "3                 San Diego  92014  32.96687 -117.24798       13863  Suburban   \n",
       "4                 Fort Bend  77461  29.38012  -95.80673       11352  Suburban   \n",
       "...                     ...    ...       ...        ...         ...       ...   \n",
       "9995                Rutland   5758  43.43391  -72.78734         640     Rural   \n",
       "9996             Montgomery  37042  36.56907  -87.41694       77168     Rural   \n",
       "9997                Wheeler  79061  35.52039 -100.44180         406     Rural   \n",
       "9998                Carroll  30117  33.58016  -85.13241       35575     Urban   \n",
       "9999              Habersham  30523  34.70783  -83.53648       12230     Urban   \n",
       "\n",
       "      ... MonthlyCharge Bandwidth_GB_Year  item1  item2 item3 item4  item5  \\\n",
       "0     ...    171.449762        904.536110      5      5     5     3      4   \n",
       "1     ...    242.948015        800.982766      3      4     3     3      4   \n",
       "2     ...    159.440398       2054.706961      4      4     2     4      4   \n",
       "3     ...    120.249493       2164.579412      4      4     4     2      5   \n",
       "4     ...    150.761216        271.493436      4      4     4     3      4   \n",
       "...   ...           ...               ...    ...    ...   ...   ...    ...   \n",
       "9995  ...    159.828800       6511.253000      3      2     3     3      4   \n",
       "9996  ...    208.856400       5695.952000      4      5     5     4      4   \n",
       "9997  ...    168.220900       4159.306000      4      4     4     4      4   \n",
       "9998  ...    252.628600       6468.457000      4      4     6     4      3   \n",
       "9999  ...    218.371000       5857.586000      2      2     3     3      3   \n",
       "\n",
       "     item6 item7 item8  \n",
       "0        4     3     4  \n",
       "1        3     4     4  \n",
       "2        3     3     3  \n",
       "3        4     3     3  \n",
       "4        4     4     5  \n",
       "...    ...   ...   ...  \n",
       "9995     3     2     3  \n",
       "9996     5     2     5  \n",
       "9997     4     4     5  \n",
       "9998     3     5     4  \n",
       "9999     3     4     1  \n",
       "\n",
       "[10000 rows x 49 columns]"
      ]
     },
     "execution_count": 4,
     "metadata": {},
     "output_type": "execute_result"
    }
   ],
   "source": [
    "# fill null values with NaN using Numpy's np.nan\n",
    "\n",
    "df.fillna(np.nan)\n",
    "df"
   ]
  },
  {
   "cell_type": "code",
   "execution_count": 5,
   "id": "80663e27-19ed-4e73-83f0-d6cedb04b639",
   "metadata": {},
   "outputs": [
    {
     "data": {
      "text/plain": [
       "False    10000\n",
       "dtype: int64"
      ]
     },
     "execution_count": 5,
     "metadata": {},
     "output_type": "execute_result"
    }
   ],
   "source": [
    "# find the duplicates returning True if it is a duplicate and False if it is not - then get a count of the amount\n",
    "\n",
    "df.duplicated().value_counts()"
   ]
  },
  {
   "cell_type": "code",
   "execution_count": 6,
   "id": "a3ad25f8-41ae-4c13-9fe8-ee262336f2bd",
   "metadata": {},
   "outputs": [
    {
     "data": {
      "text/plain": [
       "Customer_id                0\n",
       "Interaction                0\n",
       "City                       0\n",
       "State                      0\n",
       "County                     0\n",
       "Zip                        0\n",
       "Lat                        0\n",
       "Lng                        0\n",
       "Population                 0\n",
       "Area                       0\n",
       "Timezone                   0\n",
       "Job                        0\n",
       "Children                2495\n",
       "Age                     2475\n",
       "Education                  0\n",
       "Employment                 0\n",
       "Income                  2490\n",
       "Marital                    0\n",
       "Gender                     0\n",
       "Churn                      0\n",
       "Outage_sec_perweek         0\n",
       "Email                      0\n",
       "Contacts                   0\n",
       "Yearly_equip_failure       0\n",
       "Contract                   0\n",
       "Port_modem                 0\n",
       "Tablet                     0\n",
       "InternetService            0\n",
       "Phone                   1026\n",
       "Multiple                   0\n",
       "OnlineSecurity             0\n",
       "OnlineBackup               0\n",
       "DeviceProtection           0\n",
       "TechSupport              991\n",
       "StreamingTV                0\n",
       "StreamingMovies            0\n",
       "PaperlessBilling           0\n",
       "PaymentMethod              0\n",
       "Tenure                   931\n",
       "MonthlyCharge              0\n",
       "Bandwidth_GB_Year       1021\n",
       "item1                      0\n",
       "item2                      0\n",
       "item3                      0\n",
       "item4                      0\n",
       "item5                      0\n",
       "item6                      0\n",
       "item7                      0\n",
       "item8                      0\n",
       "dtype: int64"
      ]
     },
     "execution_count": 6,
     "metadata": {},
     "output_type": "execute_result"
    }
   ],
   "source": [
    "# Find the null values for each column\n",
    "\n",
    "df.isnull().sum()"
   ]
  },
  {
   "cell_type": "code",
   "execution_count": 7,
   "id": "d9f01846-4694-4899-a091-84db1f55c529",
   "metadata": {},
   "outputs": [
    {
     "data": {
      "text/plain": [
       "(10000, 49)"
      ]
     },
     "execution_count": 7,
     "metadata": {},
     "output_type": "execute_result"
    }
   ],
   "source": [
    "# Amount of (rows, columns) prior to null values removed\n",
    "\n",
    "df.shape"
   ]
  },
  {
   "cell_type": "code",
   "execution_count": 8,
   "id": "5616a26e-5067-40a2-b103-f67fd9c40fd9",
   "metadata": {},
   "outputs": [
    {
     "data": {
      "text/plain": [
       "(9991, 49)"
      ]
     },
     "execution_count": 8,
     "metadata": {},
     "output_type": "execute_result"
    }
   ],
   "source": [
    "# Remove rows where all three values are null\n",
    "\n",
    "df.dropna(subset=['Tenure', 'TechSupport', 'Phone'], how='all', inplace=True)\n",
    "\n",
    "# Amount of (rows, columns) after null rows removed\n",
    "\n",
    "df.shape"
   ]
  },
  {
   "cell_type": "code",
   "execution_count": 9,
   "id": "540f70b7-a1a2-4c50-b215-a4deaaa696de",
   "metadata": {},
   "outputs": [
    {
     "data": {
      "text/plain": [
       "No     7344\n",
       "Yes    2647\n",
       "Name: Churn, dtype: int64"
      ]
     },
     "execution_count": 9,
     "metadata": {},
     "output_type": "execute_result"
    }
   ],
   "source": [
    "# Find the amount of customers who have discontinued there service within the last month\n",
    "\n",
    "df['Churn'].value_counts()"
   ]
  },
  {
   "cell_type": "code",
   "execution_count": 10,
   "id": "5e5bb51e-3426-4982-bb04-2b2dae1969df",
   "metadata": {},
   "outputs": [],
   "source": [
    "# Remove the customers who did NOT discontinue there service within the last month\n",
    "\n",
    "#df.drop(df.loc[df['Churn']=='No'].index, inplace=True)"
   ]
  },
  {
   "cell_type": "code",
   "execution_count": 11,
   "id": "1fc37263-c5e6-430b-8f72-4abcb134fe7e",
   "metadata": {},
   "outputs": [
    {
     "data": {
      "text/plain": [
       "(9991, 49)"
      ]
     },
     "execution_count": 11,
     "metadata": {},
     "output_type": "execute_result"
    }
   ],
   "source": [
    "# The remains of the data set\n",
    "\n",
    "df.shape"
   ]
  },
  {
   "cell_type": "code",
   "execution_count": 12,
   "id": "c5936f53-a3bf-468b-9c38-7a81b06eb5f7",
   "metadata": {},
   "outputs": [
    {
     "data": {
      "text/plain": [
       "1021"
      ]
     },
     "execution_count": 12,
     "metadata": {},
     "output_type": "execute_result"
    }
   ],
   "source": [
    "# Find null values for the Bandwidth\n",
    "\n",
    "df[\"Bandwidth_GB_Year\"].isnull().sum()"
   ]
  },
  {
   "cell_type": "code",
   "execution_count": 13,
   "id": "6f4f7da1-a24b-4834-b30d-0ab7ccb151ac",
   "metadata": {},
   "outputs": [
    {
     "data": {
      "text/plain": [
       "3398.614451219487"
      ]
     },
     "execution_count": 13,
     "metadata": {},
     "output_type": "execute_result"
    }
   ],
   "source": [
    "# find the mean to fill the null values\n",
    "\n",
    "df[\"Bandwidth_GB_Year\"].mean()"
   ]
  },
  {
   "cell_type": "code",
   "execution_count": 14,
   "id": "dd73454f-e64f-4440-ac32-f2386fbfa305",
   "metadata": {},
   "outputs": [
    {
     "data": {
      "text/plain": [
       "922"
      ]
     },
     "execution_count": 14,
     "metadata": {},
     "output_type": "execute_result"
    }
   ],
   "source": [
    "# fill null values with the mean\n",
    "\n",
    "df[\"Bandwidth_GB_Year\"].fillna(df[\"Bandwidth_GB_Year\"].mean(), inplace=True)\n",
    "\n",
    "# find null values for the Tenure\n",
    "\n",
    "df[\"Tenure\"].isnull().sum()"
   ]
  },
  {
   "cell_type": "code",
   "execution_count": 15,
   "id": "f6a71d02-ec3b-4d70-9860-93058a967dc8",
   "metadata": {},
   "outputs": [
    {
     "data": {
      "text/plain": [
       "34.49885764604521"
      ]
     },
     "execution_count": 15,
     "metadata": {},
     "output_type": "execute_result"
    }
   ],
   "source": [
    "# find the mean to fill the null values\n",
    "\n",
    "df[\"Tenure\"].mean()"
   ]
  },
  {
   "cell_type": "code",
   "execution_count": 16,
   "id": "186ccfdc-2e30-4396-a788-ffb020ab816e",
   "metadata": {},
   "outputs": [],
   "source": [
    "# fill null values with the mean\n",
    "\n",
    "df[\"Tenure\"].fillna(df[\"Tenure\"].mean(), inplace=True)"
   ]
  },
  {
   "cell_type": "code",
   "execution_count": 17,
   "id": "455a0f99-2f10-4a81-a4ea-2fcc4c201a75",
   "metadata": {},
   "outputs": [
    {
     "data": {
      "text/plain": [
       "0"
      ]
     },
     "execution_count": 17,
     "metadata": {},
     "output_type": "execute_result"
    }
   ],
   "source": [
    "df[\"Tenure\"].isnull().sum()"
   ]
  },
  {
   "cell_type": "code",
   "execution_count": 18,
   "id": "076e980e-8b5b-4462-b061-f3384a23ed1c",
   "metadata": {},
   "outputs": [],
   "source": [
    "# fill null values with the mean\n",
    "\n",
    "df[\"Children\"].fillna(df[\"Children\"].mean(), inplace=True)"
   ]
  },
  {
   "cell_type": "code",
   "execution_count": 19,
   "id": "6d272d12-8267-4f02-84f7-36c594b380c3",
   "metadata": {},
   "outputs": [
    {
     "data": {
      "text/plain": [
       "0"
      ]
     },
     "execution_count": 19,
     "metadata": {},
     "output_type": "execute_result"
    }
   ],
   "source": [
    "df[\"Children\"].isnull().sum()"
   ]
  },
  {
   "cell_type": "code",
   "execution_count": 20,
   "id": "c72cef50-b6e0-40bd-8691-588f2c4abf97",
   "metadata": {},
   "outputs": [],
   "source": [
    "# fill null values with the mean\n",
    "\n",
    "df[\"Age\"].fillna(df[\"Age\"].mean(), inplace=True)"
   ]
  },
  {
   "cell_type": "code",
   "execution_count": 21,
   "id": "728a6a7f-9b80-4b63-986f-032f8fd5ef92",
   "metadata": {},
   "outputs": [
    {
     "data": {
      "text/plain": [
       "0"
      ]
     },
     "execution_count": 21,
     "metadata": {},
     "output_type": "execute_result"
    }
   ],
   "source": [
    "df[\"Age\"].isnull().sum()"
   ]
  },
  {
   "cell_type": "code",
   "execution_count": 22,
   "id": "3ac0a649-f3ca-4f32-8dc4-c96f0481cd38",
   "metadata": {},
   "outputs": [],
   "source": [
    "# fill null values with the mean\n",
    "\n",
    "df[\"Income\"].fillna(df[\"Income\"].mean(), inplace=True)"
   ]
  },
  {
   "cell_type": "code",
   "execution_count": 23,
   "id": "094ceb5b-ef67-41e1-9869-17f7fba12a8c",
   "metadata": {},
   "outputs": [
    {
     "data": {
      "text/plain": [
       "0"
      ]
     },
     "execution_count": 23,
     "metadata": {},
     "output_type": "execute_result"
    }
   ],
   "source": [
    "df[\"Income\"].isnull().sum()"
   ]
  },
  {
   "cell_type": "code",
   "execution_count": 24,
   "id": "ad54a926-920b-47e2-bfe3-a22d4e9053f6",
   "metadata": {},
   "outputs": [
    {
     "data": {
      "text/plain": [
       "Customer_id                0\n",
       "Interaction                0\n",
       "City                       0\n",
       "State                      0\n",
       "County                     0\n",
       "Zip                        0\n",
       "Lat                        0\n",
       "Lng                        0\n",
       "Population                 0\n",
       "Area                       0\n",
       "Timezone                   0\n",
       "Job                        0\n",
       "Children                   0\n",
       "Age                        0\n",
       "Education                  0\n",
       "Employment                 0\n",
       "Income                     0\n",
       "Marital                    0\n",
       "Gender                     0\n",
       "Churn                      0\n",
       "Outage_sec_perweek         0\n",
       "Email                      0\n",
       "Contacts                   0\n",
       "Yearly_equip_failure       0\n",
       "Contract                   0\n",
       "Port_modem                 0\n",
       "Tablet                     0\n",
       "InternetService            0\n",
       "Phone                   1017\n",
       "Multiple                   0\n",
       "OnlineSecurity             0\n",
       "OnlineBackup               0\n",
       "DeviceProtection           0\n",
       "TechSupport              982\n",
       "StreamingTV                0\n",
       "StreamingMovies            0\n",
       "PaperlessBilling           0\n",
       "PaymentMethod              0\n",
       "Tenure                     0\n",
       "MonthlyCharge              0\n",
       "Bandwidth_GB_Year          0\n",
       "item1                      0\n",
       "item2                      0\n",
       "item3                      0\n",
       "item4                      0\n",
       "item5                      0\n",
       "item6                      0\n",
       "item7                      0\n",
       "item8                      0\n",
       "dtype: int64"
      ]
     },
     "execution_count": 24,
     "metadata": {},
     "output_type": "execute_result"
    }
   ],
   "source": [
    "# Find the null values for each column\n",
    "\n",
    "df.isnull().sum()"
   ]
  },
  {
   "cell_type": "code",
   "execution_count": 25,
   "id": "0685a0d7-2272-4011-85d3-e3d3eb52d2c7",
   "metadata": {},
   "outputs": [
    {
     "name": "stdout",
     "output_type": "stream",
     "text": [
      "['K409198' 'S120509' 'K191035' ... 'I243405' 'I641617' 'T38070']\n",
      "['aa90260b-4141-4a24-8e36-b04ce1f4f77b'\n",
      " 'fb76459f-c047-4a9d-8af9-e0f7d4ac2524'\n",
      " '344d114c-3736-4be5-98f7-c72c281e2d35' ...\n",
      " 'e8307ddf-9a01-4fff-bc59-4742e03fd24f'\n",
      " '3775ccfc-0052-4107-81ae-9657f81ecdf3'\n",
      " '9de5fb6e-bd33-4995-aec8-f01d0172a499']\n",
      "['Point Baker' 'West Branch' 'Yamhill' ... 'Haubstadt' 'West Kill'\n",
      " 'Clarkesville']\n",
      "['AK' 'MI' 'OR' 'CA' 'TX' 'GA' 'TN' 'OK' 'FL' 'OH' 'PA' 'PR' 'IA' 'ME'\n",
      " 'IL' 'WI' 'NC' 'AL' 'NM' 'VT' 'MD' 'NY' 'WA' 'CT' 'NJ' 'DC' 'ND' 'LA'\n",
      " 'NE' 'WV' 'AZ' 'MO' 'WY' 'MT' 'VA' 'KY' 'MN' 'KS' 'MA' 'IN' 'SC' 'NH'\n",
      " 'DE' 'MS' 'ID' 'AR' 'SD' 'CO' 'HI' 'UT' 'RI' 'NV']\n",
      "['Prince of Wales-Hyder' 'Ogemaw' 'Yamhill' ... 'Billings' 'Haralson'\n",
      " 'Briscoe']\n",
      "[99927 48661 97148 ...  5758 37042 30523]\n",
      "[56.251   44.32893 45.35589 ... 43.43391 36.56907 34.70783]\n",
      "[-133.37571  -84.2408  -123.24657 ...  -72.78734  -87.41694  -83.53648]\n",
      "[   38 10446  3735 ...  4261 77168 12230]\n",
      "['Urban' 'Suburban' 'Rural']\n",
      "['America/Sitka' 'America/Detroit' 'America/Los_Angeles' 'America/Chicago'\n",
      " 'America/New_York' 'America/Puerto_Rico' 'America/Denver'\n",
      " 'America/Menominee' 'America/Phoenix' 'America/Indiana/Indianapolis'\n",
      " 'America/Boise' 'America/Kentucky/Louisville' 'Pacific/Honolulu'\n",
      " 'America/Indiana/Petersburg' 'America/Nome' 'America/Anchorage'\n",
      " 'America/Indiana/Knox' 'America/Juneau' 'America/Toronto'\n",
      " 'America/Indiana/Winamac' 'America/Indiana/Vincennes'\n",
      " 'America/North_Dakota/New_Salem' 'America/Indiana/Tell_City'\n",
      " 'America/Indiana/Marengo' 'America/Ojinaga']\n",
      "['Environmental health practitioner' 'Programmer, multimedia'\n",
      " 'Chief Financial Officer' 'Solicitor' 'Medical illustrator'\n",
      " 'Chief Technology Officer' 'Surveyor, hydrographic'\n",
      " 'Sales promotion account executive' 'Teaching laboratory technician'\n",
      " 'Museum education officer' 'Teacher, special educational needs'\n",
      " 'Maintenance engineer' 'Engineer, broadcasting (operations)'\n",
      " 'Learning disability nurse' 'Automotive engineer'\n",
      " 'Amenity horticulturist' 'Applications developer' 'Immunologist'\n",
      " 'Engineer, electrical' 'Broadcast presenter' 'Counsellor'\n",
      " 'Geophysical data processor' 'Designer, multimedia' 'Event organiser'\n",
      " 'Equality and diversity officer' 'Psychiatrist'\n",
      " 'Surveyor, commercial/residential' 'Civil Service administrator'\n",
      " 'Radiographer, diagnostic' 'Air traffic controller' 'Dietitian'\n",
      " 'Therapist, occupational' 'Building services engineer'\n",
      " 'Information officer' 'Outdoor activities/education manager'\n",
      " 'Market researcher' 'Surveyor, insurance' 'Office manager'\n",
      " 'Editorial assistant' 'Customer service manager'\n",
      " 'Production designer, theatre/television/film' 'Analytical chemist'\n",
      " 'Print production planner' 'Conservation officer, nature'\n",
      " 'Librarian, public' 'Financial adviser' 'Surveyor, building'\n",
      " 'Horticulturist, amenity' 'Diagnostic radiographer'\n",
      " 'Doctor, general practice' 'Insurance risk surveyor' 'Heritage manager'\n",
      " 'Legal executive' 'Professor Emeritus' 'Radio producer'\n",
      " \"Barrister's clerk\" 'Engineer, automotive' 'Recruitment consultant'\n",
      " 'Commercial horticulturist' 'Pharmacist, community'\n",
      " 'Forest/woodland manager' 'Designer, graphic'\n",
      " 'Civil engineer, consulting' 'Science writer'\n",
      " 'Health and safety inspector' 'Administrator, Civil Service'\n",
      " 'Technical sales engineer' 'Special educational needs teacher'\n",
      " 'Sports therapist' 'Engineer, communications' 'Oceanographer'\n",
      " 'Archaeologist' 'Personal assistant' 'Animal nutritionist' 'Hydrologist'\n",
      " 'Arts development officer' 'Herpetologist' 'Medical sales representative'\n",
      " 'Scientist, research (physical sciences)' 'Higher education lecturer'\n",
      " 'Nurse, adult' 'Chiropodist' 'Therapeutic radiographer'\n",
      " 'Designer, television/film set' 'Education officer, environmental'\n",
      " 'Colour technologist' 'Academic librarian' 'Mudlogger'\n",
      " 'Designer, textile' 'Chief Strategy Officer' 'Loss adjuster, chartered'\n",
      " 'Pharmacologist' 'Hydrographic surveyor' 'Engineer, manufacturing'\n",
      " 'Research scientist (medical)' 'Wellsite geologist'\n",
      " 'Embryologist, clinical' 'Occupational psychologist'\n",
      " 'Sales professional, IT' 'Advertising copywriter'\n",
      " 'Radiographer, therapeutic' 'English as a second language teacher'\n",
      " 'Occupational therapist'\n",
      " 'Armed forces logistics/support/administrative officer'\n",
      " 'Technical author' 'Regulatory affairs officer' 'Optician, dispensing'\n",
      " 'Theme park manager' 'IT trainer' 'Contracting civil engineer'\n",
      " 'Psychologist, sport and exercise' 'Manufacturing engineer' 'Musician'\n",
      " 'Senior tax professional/tax inspector' 'Engineer, biomedical'\n",
      " 'Facilities manager' 'Osteopath' 'Corporate investment banker'\n",
      " 'Psychotherapist' 'Copywriter, advertising' 'Horticultural consultant'\n",
      " 'Microbiologist' 'Educational psychologist'\n",
      " 'Sport and exercise psychologist' 'Risk manager' 'Health visitor'\n",
      " 'Visual merchandiser' 'Clinical biochemist' 'Water quality scientist'\n",
      " 'Optometrist' 'Petroleum engineer' 'Building control surveyor'\n",
      " 'Financial planner' 'Theatre director' 'Secretary, company'\n",
      " 'Materials engineer' 'Civil Service fast streamer'\n",
      " 'Health service manager' 'Scientist, forensic' 'Immigration officer'\n",
      " 'Dealer' 'Planning and development surveyor' 'Broadcast engineer'\n",
      " 'Local government officer' 'Nature conservation officer'\n",
      " 'Private music teacher' 'Geologist, wellsite' 'Gaffer' 'Curator'\n",
      " 'Editor, commissioning' 'Barrister' 'TEFL teacher'\n",
      " 'Public relations account executive' 'Audiological scientist'\n",
      " 'Travel agency manager' 'Land' 'Music therapist' 'Librarian, academic'\n",
      " 'Film/video editor' 'Journalist, broadcasting' 'Waste management officer'\n",
      " 'Scientist, water quality' 'Sub' 'Neurosurgeon'\n",
      " 'Scientist, research (maths)' 'Public house manager' 'Building surveyor'\n",
      " 'Animator' 'Production assistant, television' 'Transport planner'\n",
      " 'Geneticist, molecular' 'Merchant navy officer'\n",
      " 'Research scientist (life sciences)' 'Engineer, building services'\n",
      " 'Solicitor, Scotland' 'Hospital pharmacist' 'Engineer, petroleum'\n",
      " 'Oncologist' 'IT technical support officer' 'Site engineer'\n",
      " 'Early years teacher' 'Plant breeder/geneticist'\n",
      " 'Chartered management accountant' 'Runner, broadcasting/film/video'\n",
      " 'Newspaper journalist' 'Naval architect' 'Agricultural engineer'\n",
      " 'Meteorologist' 'Designer, ceramics/pottery'\n",
      " 'Environmental education officer' 'Textile designer'\n",
      " 'Engineer, materials' 'Magazine journalist' 'Conference centre manager'\n",
      " 'Dance movement psychotherapist' 'Warden/ranger'\n",
      " 'Teacher, English as a foreign language'\n",
      " 'Producer, television/film/video' 'Make' 'Pharmacist, hospital'\n",
      " 'Therapist, horticultural' 'Journalist, newspaper' 'Retail merchandiser'\n",
      " 'Nurse, mental health' 'Chief of Staff' 'Systems analyst'\n",
      " 'Electronics engineer' 'Quantity surveyor' 'Minerals surveyor'\n",
      " 'Scientist, research (life sciences)' 'Archivist' 'Brewing technologist'\n",
      " 'Investment banker, operational' 'Accountant, chartered certified'\n",
      " 'Surveyor, minerals' 'Hospital doctor' 'Theatre stage manager'\n",
      " 'Operational researcher' 'Tax inspector' 'Television camera operator'\n",
      " 'Arts administrator' 'Patent attorney' 'Bonds trader' 'Ship broker'\n",
      " 'Furniture conservator/restorer' 'Media planner'\n",
      " 'Radio broadcast assistant' 'Mental health nurse' 'Purchasing manager'\n",
      " 'Scientist, biomedical' 'Photographer' 'Sports coach'\n",
      " 'Environmental manager' 'Estate agent' 'Public librarian'\n",
      " 'Designer, blown glass/stained glass' 'Occupational hygienist' 'Surgeon'\n",
      " 'Youth worker' 'Hotel manager' 'Programmer, systems'\n",
      " \"Politician's assistant\" 'Social researcher' 'Publishing copy'\n",
      " 'Tax adviser' 'Quarry manager' 'Buyer, industrial' 'Production manager'\n",
      " 'Police officer' 'Theatre manager' 'Sports administrator'\n",
      " 'Research scientist (maths)' 'Therapist, music' 'Soil scientist'\n",
      " 'Holiday representative' 'Producer, radio' 'Intelligence analyst'\n",
      " 'Geochemist' 'Probation officer' 'Fish farm manager'\n",
      " 'Chartered accountant' 'Architect' 'Psychiatric nurse' 'Farm manager'\n",
      " 'Geoscientist' 'Lecturer, further education' 'Horticulturist, commercial'\n",
      " 'Surveyor, quantity' 'Clothing/textile technologist' 'Technical brewer'\n",
      " 'Landscape architect' 'Information systems manager' 'Sales executive'\n",
      " 'Exercise physiologist' 'Administrator, arts' 'Careers adviser'\n",
      " 'Lobbyist' 'Claims inspector/assessor' 'Recycling officer'\n",
      " 'Product/process development scientist' 'Paramedic' 'Fine artist'\n",
      " 'Teacher, secondary school' 'Data processing manager'\n",
      " 'Government social research officer' 'Product manager'\n",
      " 'Accounting technician' 'Engineer, land' 'Lawyer' 'Restaurant manager'\n",
      " 'Catering manager' 'Contractor' 'Research officer, government'\n",
      " 'Medical secretary' 'Podiatrist' 'Phytotherapist'\n",
      " 'Surveyor, building control' 'Comptroller'\n",
      " 'Lighting technician, broadcasting/film/video' 'Paediatric nurse'\n",
      " 'Designer, furniture' 'Adult guidance worker'\n",
      " 'Clinical molecular geneticist' 'Games developer' 'Metallurgist'\n",
      " 'Armed forces technical officer' 'Risk analyst'\n",
      " 'Careers information officer' 'Garment/textile technologist'\n",
      " 'Multimedia specialist' 'Trade union research officer'\n",
      " 'Museum/gallery exhibitions officer' 'Armed forces operational officer'\n",
      " 'Air broker' 'Mechanical engineer' 'Ceramics designer' 'Airline pilot'\n",
      " 'Trading standards officer' 'Advice worker' 'Music tutor'\n",
      " 'Leisure centre manager' 'Surveyor, rural practice'\n",
      " 'Scientist, physiological' 'Fisheries officer'\n",
      " 'Research officer, trade union' 'Licensed conveyancer'\n",
      " \"Nurse, children's\" 'Museum/gallery curator' 'Psychologist, occupational'\n",
      " 'Astronomer' 'Therapist, drama' 'Therapist, speech and language'\n",
      " 'Surveyor, land/geomatics' 'Production assistant, radio'\n",
      " 'Human resources officer' 'Fast food restaurant manager' 'Orthoptist'\n",
      " 'Public relations officer' 'Bookseller' 'Health and safety adviser'\n",
      " 'Clinical cytogeneticist' 'Ergonomist'\n",
      " 'Psychologist, prison and probation services' 'Actuary'\n",
      " 'Scientist, clinical (histocompatibility and immunogenetics)'\n",
      " 'Community development worker' 'Consulting civil engineer'\n",
      " 'Television production assistant' 'Veterinary surgeon'\n",
      " 'Teacher, adult education' 'Civil engineer, contracting'\n",
      " 'Architectural technologist' 'Volunteer coordinator'\n",
      " 'Primary school teacher' 'Insurance underwriter'\n",
      " 'Research officer, political party' 'Radiation protection practitioner'\n",
      " 'Psychotherapist, child' 'Interior and spatial designer'\n",
      " 'Therapist, nutritional' 'Jewellery designer' 'Press sub'\n",
      " 'Clinical scientist, histocompatibility and immunogenetics'\n",
      " 'Administrator, sports' 'Insurance account manager'\n",
      " 'Museum/gallery conservator' 'Furniture designer' 'Haematologist'\n",
      " 'Associate Professor' 'Physicist, medical' 'Pathologist'\n",
      " 'Chartered public finance accountant' 'Printmaker' 'Surveyor, mining'\n",
      " 'Chief Marketing Officer' 'General practice doctor' 'Chemical engineer'\n",
      " 'Forensic scientist' 'Marketing executive' 'Art gallery manager'\n",
      " 'Therapist, sports' 'Insurance claims handler' 'Secondary school teacher'\n",
      " 'Development worker, international aid' 'Quality manager'\n",
      " 'Conservator, furniture' 'Tour manager'\n",
      " 'Control and instrumentation engineer' 'Adult nurse'\n",
      " 'Diplomatic Services operational officer' 'Cartographer' 'Chiropractor'\n",
      " 'Land/geomatics surveyor' 'Statistician' 'Financial trader'\n",
      " 'Special effects artist' 'Clinical psychologist'\n",
      " 'Further education lecturer' 'Engineer, water' 'Energy manager'\n",
      " 'Education administrator' 'Art therapist' 'Television floor manager'\n",
      " 'Legal secretary' 'Merchandiser, retail' 'Web designer'\n",
      " 'Nurse, learning disability' 'International aid/development worker'\n",
      " 'Warehouse manager' 'Engineer, mining' 'Exhibition designer'\n",
      " 'Administrator, local government' 'Water engineer' 'Physiotherapist'\n",
      " 'Engineer, electronics' 'Equities trader' 'Telecommunications researcher'\n",
      " 'Hydrogeologist' 'Community education officer' 'Engineer, energy'\n",
      " 'Scientist, audiological' 'Patent examiner' 'Retail manager'\n",
      " 'Engineer, aeronautical' 'Engineer, site' 'Engineer, civil (contracting)'\n",
      " 'Proofreader' 'Scientist, marine' 'Speech and language therapist'\n",
      " 'IT sales professional' 'Buyer, retail' 'Network engineer'\n",
      " 'Commercial art gallery manager'\n",
      " 'Chartered legal executive (England and Wales)' 'Presenter, broadcasting'\n",
      " 'Surveyor, planning and development'\n",
      " 'Research scientist (physical sciences)' 'Commissioning editor'\n",
      " 'Operational investment banker' 'Seismic interpreter' 'Charity officer'\n",
      " 'English as a foreign language teacher' 'Scientist, research (medical)'\n",
      " 'Designer, interior/spatial' 'Lexicographer' 'Therapist, art'\n",
      " 'Clinical embryologist' 'Child psychotherapist' 'Midwife'\n",
      " 'Pensions consultant' 'Tree surgeon' 'Health physicist' 'Artist'\n",
      " 'Company secretary' 'Fashion designer' 'IT consultant'\n",
      " 'Teacher, early years/pre' 'Geographical information systems officer'\n",
      " 'Tourist information centre manager' 'Biomedical engineer'\n",
      " 'Biomedical scientist' 'Financial risk analyst' 'Multimedia programmer'\n",
      " 'Engineer, control and instrumentation' 'Insurance broker'\n",
      " 'Drilling engineer' 'Development worker, community'\n",
      " 'Designer, industrial/product' 'Medical technical officer'\n",
      " 'Advertising account executive' 'Counselling psychologist'\n",
      " 'Tourism officer' 'Dancer' 'Social research officer, government'\n",
      " 'Teacher, music' 'Translator' 'Race relations officer'\n",
      " 'Engineer, civil (consulting)'\n",
      " 'Historic buildings inspector/conservation officer' 'Financial manager'\n",
      " 'Financial controller' 'Designer, jewellery' 'Retail banker'\n",
      " 'Administrator, charities/voluntary organisations'\n",
      " 'Magazine features editor' 'Psychotherapist, dance movement' 'Barista'\n",
      " 'Passenger transport manager' 'Mining engineer'\n",
      " 'Administrator, education'\n",
      " 'Programme researcher, broadcasting/film/video' 'Ranger/warden' 'Actor'\n",
      " 'Pension scheme manager' 'Investment analyst' 'Physiological scientist'\n",
      " 'Advertising art director' 'Sports development officer'\n",
      " 'Manufacturing systems engineer' 'Accommodation manager'\n",
      " 'Television/film/video producer' 'Accountant, chartered'\n",
      " 'Engineer, agricultural' 'Horticultural therapist' 'Economist'\n",
      " 'Training and development officer' 'Engineer, maintenance'\n",
      " 'Logistics and distribution manager' 'Psychologist, clinical'\n",
      " 'Accountant, chartered management' 'Rural practice surveyor'\n",
      " 'Biochemist, clinical' 'Set designer' 'Nutritional therapist'\n",
      " 'Illustrator' 'Designer, exhibition/display'\n",
      " 'Armed forces training and education officer' 'Location manager'\n",
      " 'Charity fundraiser' 'Community pharmacist'\n",
      " 'Geophysicist/field seismologist' 'Designer, fashion/clothing'\n",
      " 'Computer games developer' 'Acupuncturist' 'Database administrator'\n",
      " 'Stage manager' 'Operations geologist' 'Marine scientist'\n",
      " 'Glass blower/designer' 'Corporate treasurer' 'Ecologist'\n",
      " 'Structural engineer' 'Housing manager/officer' 'Chief Operating Officer'\n",
      " 'Engineer, manufacturing systems' 'Herbalist' 'Editor, film/video'\n",
      " 'Retail buyer' 'Doctor, hospital' 'Prison officer' 'Ophthalmologist'\n",
      " 'Chemist, analytical' 'Chartered certified accountant' 'Industrial buyer'\n",
      " 'Video editor' 'Publishing rights manager' 'Engineer, drilling'\n",
      " 'Food technologist' 'Arboriculturist' 'Engineer, technical sales'\n",
      " 'Systems developer' 'Firefighter' 'Education officer, museum'\n",
      " 'Media buyer' 'Records manager' 'Aid worker' 'Pilot, airline'\n",
      " 'Advertising account planner' 'Psychologist, counselling'\n",
      " 'Environmental consultant' 'Copy' 'Trade mark attorney'\n",
      " 'Psychologist, forensic' 'Social worker' 'Administrator'\n",
      " 'Agricultural consultant' 'Education officer, community'\n",
      " 'Management consultant' 'Field trials officer' 'Graphic designer'\n",
      " 'Teacher, primary school' 'Homeopath' 'Cabin crew'\n",
      " 'Editor, magazine features' 'Medical physicist'\n",
      " 'Medical laboratory scientific officer' 'Press photographer'\n",
      " 'Field seismologist' 'Estate manager/land agent'\n",
      " 'Industrial/product designer' 'Software engineer' 'Air cabin crew'\n",
      " 'Freight forwarder' 'Engineer, structural' 'Fitness centre manager'\n",
      " 'Interpreter' 'Scientific laboratory technician' 'Data scientist'\n",
      " 'Electrical engineer' 'Clinical research associate'\n",
      " 'Engineering geologist' 'Call centre manager' 'Psychologist, educational'\n",
      " 'Conservator, museum/gallery' 'Emergency planning/management officer'\n",
      " 'Communications engineer' 'Conservation officer, historic buildings'\n",
      " 'Cytogeneticist' 'Personnel officer' 'Dramatherapist'\n",
      " 'Investment banker, corporate' 'Camera operator'\n",
      " 'Chartered loss adjuster' 'Scientist, product/process development'\n",
      " 'Learning mentor' 'Lecturer, higher education'\n",
      " 'Sound technician, broadcasting/film/video' 'Health promotion specialist'\n",
      " 'Restaurant manager, fast food' 'Engineer, maintenance (IT)'\n",
      " 'Energy engineer' 'Dispensing optician' 'Chief Executive Officer'\n",
      " 'Ambulance person' 'Public affairs consultant' 'Product designer'\n",
      " 'Community arts worker' 'Higher education careers adviser' 'Dentist'\n",
      " 'Exhibitions officer, museum/gallery' 'Futures trader'\n",
      " 'Commercial/residential surveyor' 'Engineer, production'\n",
      " 'Animal technologist' 'Banker' 'Programmer, applications' 'Best boy'\n",
      " 'Secretary/administrator' 'Journalist, magazine' 'Production engineer'\n",
      " 'Accountant, chartered public finance' 'Geologist, engineering'\n",
      " 'Aeronautical engineer' 'Engineer, chemical' 'Forensic psychologist'\n",
      " 'Broadcast journalist' 'Town planner' 'Toxicologist' 'Writer']\n",
      "[ 2.09643858  1.          4.          0.          3.          2.\n",
      "  7.          5.          9.          6.         10.          8.        ]\n",
      "[68.         27.         50.         48.         83.         53.28216044\n",
      " 49.         86.         23.         56.         30.         39.\n",
      " 63.         60.         61.         52.         75.         77.\n",
      " 47.         70.         69.         45.         40.         82.\n",
      " 26.         25.         66.         72.         41.         44.\n",
      " 43.         84.         59.         31.         51.         58.\n",
      " 73.         33.         42.         81.         87.         54.\n",
      " 67.         46.         24.         20.         71.         32.\n",
      " 29.         80.         53.         79.         65.         35.\n",
      " 34.         74.         55.         76.         57.         38.\n",
      " 78.         19.         36.         88.         62.         37.\n",
      " 28.         22.         85.         89.         18.         21.\n",
      " 64.        ]\n",
      "[\"Master's Degree\" 'Regular High School Diploma' 'Doctorate Degree'\n",
      " 'No Schooling Completed' \"Associate's Degree\" \"Bachelor's Degree\"\n",
      " 'Some College, Less than 1 Year' 'GED or Alternative Credential'\n",
      " 'Some College, 1 or More Years, No Degree'\n",
      " '9th Grade to 12th Grade, No Diploma' 'Nursery School to 8th Grade'\n",
      " 'Professional School Degree']\n",
      "['Part Time' 'Retired' 'Student' 'Full Time' 'Unemployed']\n",
      "[28561.99       21704.77       39939.55047448 ... 56384.35\n",
      " 55723.74       16667.58      ]\n",
      "['Widowed' 'Married' 'Separated' 'Never Married' 'Divorced']\n",
      "['Male' 'Female' 'Prefer not to answer']\n",
      "['No' 'Yes']\n",
      "[ 6.97256609 12.01454108 10.24561565 ...  4.837696   12.07646\n",
      " 12.64176   ]\n",
      "[10 12  9 15 16 20 18 17 14 13 11  8  6  5 19  3  7 21  4  2  1 23 22]\n",
      "[0 2 3 1 4 5 6 7]\n",
      "[1 0 3 2 4 6]\n",
      "['One year' 'Month-to-month' 'Two Year']\n",
      "['Yes' 'No']\n",
      "['Yes' 'No']\n",
      "['Fiber Optic' 'DSL' 'None']\n",
      "['Yes' 'No' nan]\n",
      "['No' 'Yes']\n",
      "['Yes' 'No']\n",
      "['Yes' 'No']\n",
      "['No' 'Yes']\n",
      "['No' 'Yes' nan]\n",
      "['No' 'Yes']\n",
      "['Yes' 'No']\n",
      "['Yes' 'No']\n",
      "['Credit Card (automatic)' 'Bank Transfer(automatic)' 'Mailed Check'\n",
      " 'Electronic Check']\n",
      "[ 6.79551295  1.156681   15.75414408 ... 61.04037    71.0956\n",
      " 63.35086   ]\n",
      "[171.4497621 242.9480155 159.4403984 ... 168.2209    252.6286\n",
      " 218.371    ]\n",
      "[ 904.5361102  800.9827661 2054.706961  ... 4159.306     6468.457\n",
      " 5857.586    ]\n",
      "[5 3 4 6 2 1 7]\n",
      "[5 4 3 2 6 1 7]\n",
      "[5 3 2 4 6 1 7 8]\n",
      "[3 4 2 5 7 6 1]\n",
      "[4 5 1 2 3 7 6]\n",
      "[4 3 5 2 6 7 1 8]\n",
      "[3 4 5 2 6 7 1]\n",
      "[4 3 5 2 1 6 7 8]\n"
     ]
    }
   ],
   "source": [
    "# make sure there are no weird values in the Yes/No columns\n",
    "\n",
    "for col in df:\n",
    "    print(df[col].unique())"
   ]
  },
  {
   "cell_type": "code",
   "execution_count": 26,
   "id": "76b3626e-1322-4d2e-af42-d9a24dcb326f",
   "metadata": {},
   "outputs": [],
   "source": [
    "df.drop(df.loc[df['Age']>=99].index, inplace=True)"
   ]
  },
  {
   "cell_type": "code",
   "execution_count": 27,
   "id": "b68b3b7b-68fb-4359-98b3-f9e88a84b7bf",
   "metadata": {},
   "outputs": [
    {
     "data": {
      "text/plain": [
       "<function matplotlib.pyplot.show(close=None, block=None)>"
      ]
     },
     "execution_count": 27,
     "metadata": {},
     "output_type": "execute_result"
    },
    {
     "data": {
      "image/png": "[encoded data removed]",
      "text/plain": [
       "<Figure size 432x288 with 4 Axes>"
      ]
     },
     "metadata": {
      "needs_background": "light"
     },
     "output_type": "display_data"
    }
   ],
   "source": [
    "# create historgrams with necessary vaariables to answer are research question\n",
    "\n",
    "df[['Tenure', 'MonthlyCharge', 'Bandwidth_GB_Year']].hist()\n",
    "plt.show"
   ]
  },
  {
   "cell_type": "code",
   "execution_count": 28,
   "id": "29c1e70b-fc0c-4444-8d96-95094bfc744d",
   "metadata": {},
   "outputs": [
    {
     "data": {
      "text/plain": [
       "<function matplotlib.pyplot.show(close=None, block=None)>"
      ]
     },
     "execution_count": 28,
     "metadata": {},
     "output_type": "execute_result"
    },
    {
     "data": {
      "image/png": "[encoded data removed]",
      "text/plain": [
       "<Figure size 432x288 with 1 Axes>"
      ]
     },
     "metadata": {
      "needs_background": "light"
     },
     "output_type": "display_data"
    }
   ],
   "source": [
    "# use a boxplot to identify outliers\n",
    "\n",
    "df[['Tenure', 'MonthlyCharge', 'Bandwidth_GB_Year','Churn',]].boxplot()\n",
    "plt.show"
   ]
  },
  {
   "cell_type": "code",
   "execution_count": 29,
   "id": "9ab40a27-1a91-4d10-a035-7994efcd820f",
   "metadata": {},
   "outputs": [],
   "source": [
    "# Changing the Yes/No to 1/0\n",
    "df['Churn'].replace(('Yes', 'No'), (1, 0), inplace=True)"
   ]
  },
  {
   "cell_type": "code",
   "execution_count": 30,
   "id": "c71a55c9-69d5-4da9-a881-172bdb00231e",
   "metadata": {},
   "outputs": [
    {
     "data": {
      "text/plain": [
       "0"
      ]
     },
     "execution_count": 30,
     "metadata": {},
     "output_type": "execute_result"
    }
   ],
   "source": [
    "df['Churn'].isnull().sum()"
   ]
  },
  {
   "cell_type": "code",
   "execution_count": 31,
   "id": "72db61f4-03ec-4668-af09-db28697774f8",
   "metadata": {},
   "outputs": [
    {
     "data": {
      "text/plain": [
       "0"
      ]
     },
     "execution_count": 31,
     "metadata": {},
     "output_type": "execute_result"
    }
   ],
   "source": [
    "df['Tenure'].isnull().sum()"
   ]
  },
  {
   "cell_type": "code",
   "execution_count": 32,
   "id": "36631fcb-9741-4357-b6f0-9d49b0527fc8",
   "metadata": {},
   "outputs": [
    {
     "data": {
      "text/plain": [
       "0"
      ]
     },
     "execution_count": 32,
     "metadata": {},
     "output_type": "execute_result"
    }
   ],
   "source": [
    "df['MonthlyCharge'].isnull().sum()"
   ]
  },
  {
   "cell_type": "code",
   "execution_count": 33,
   "id": "a8970b8d-5d54-48a4-a265-f86df8651dce",
   "metadata": {},
   "outputs": [
    {
     "data": {
      "text/plain": [
       "0"
      ]
     },
     "execution_count": 33,
     "metadata": {},
     "output_type": "execute_result"
    }
   ],
   "source": [
    "df['Bandwidth_GB_Year'].isnull().sum()"
   ]
  },
  {
   "cell_type": "markdown",
   "id": "bf390657-1af4-47c9-901b-657285ad8b91",
   "metadata": {},
   "source": [
    "### Principal Component Analysis "
   ]
  },
  {
   "cell_type": "code",
   "execution_count": 62,
   "id": "c96b4c84-6382-4fa8-983b-ab49434a26bb",
   "metadata": {},
   "outputs": [
    {
     "name": "stdout",
     "output_type": "stream",
     "text": [
      "['PC1', 'PC2', 'PC3', 'PC4']\n"
     ]
    }
   ],
   "source": [
    "# create an array of the principal components\n",
    "pca_data = df[['MonthlyCharge', 'Bandwidth_GB_Year','Tenure','Churn']]\n",
    "# Normalize the data to make it compariable\n",
    "pca_data = (pca_data - pca_data.mean()) / pca_data.std()\n",
    "# use sklearn packages to conduct the PCA\n",
    "from sklearn.decomposition import PCA\n",
    "# Turn the principal components into PC(integer)\n",
    "pca_names = []\n",
    "for i, col in enumerate(pca_data.columns):\n",
    "    pca_names.append('PC' + str(i + 1))\n",
    "print(pca_names)"
   ]
  },
  {
   "cell_type": "code",
   "execution_count": 66,
   "id": "4b096f64-0772-4cdd-9f1e-588b8d21546e",
   "metadata": {},
   "outputs": [],
   "source": [
    "# selecting the amount of PCs\n",
    "pca = PCA(n_components = 4)"
   ]
  },
  {
   "cell_type": "code",
   "execution_count": 67,
   "id": "97170166-336a-4e38-9161-012ae66e5e07",
   "metadata": {},
   "outputs": [
    {
     "data": {
      "text/plain": [
       "PCA(n_components=4)"
      ]
     },
     "execution_count": 36,
     "metadata": {},
     "output_type": "execute_result"
    }
   ],
   "source": [
    "# fit the PCs into the PCA from the sklearn package\n",
    "pca.fit(pca_data)"
   ]
  },
  {
   "cell_type": "code",
   "execution_count": 68,
   "id": "83625703-d396-4bc6-bd1a-d84354822d3b",
   "metadata": {},
   "outputs": [
    {
     "data": {
      "text/plain": [
       "(9991, 4)"
      ]
     },
     "execution_count": 37,
     "metadata": {},
     "output_type": "execute_result"
    }
   ],
   "source": [
    "pca_data.shape"
   ]
  },
  {
   "cell_type": "code",
   "execution_count": 69,
   "id": "cd5583d3-8532-4d5f-98e9-149bd0624ef1",
   "metadata": {},
   "outputs": [
    {
     "data": {
      "text/html": [
       "<div>\n",
       "<style scoped>\n",
       "    .dataframe tbody tr th:only-of-type {\n",
       "        vertical-align: middle;\n",
       "    }\n",
       "\n",
       "    .dataframe tbody tr th {\n",
       "        vertical-align: top;\n",
       "    }\n",
       "\n",
       "    .dataframe thead th {\n",
       "        text-align: right;\n",
       "    }\n",
       "</style>\n",
       "<table border=\"1\" class=\"dataframe\">\n",
       "  <thead>\n",
       "    <tr style=\"text-align: right;\">\n",
       "      <th></th>\n",
       "      <th>MonthlyCharge</th>\n",
       "      <th>Bandwidth_GB_Year</th>\n",
       "      <th>Tenure</th>\n",
       "      <th>Churn</th>\n",
       "    </tr>\n",
       "  </thead>\n",
       "  <tbody>\n",
       "    <tr>\n",
       "      <th>0</th>\n",
       "      <td>-0.060274</td>\n",
       "      <td>-1.203471</td>\n",
       "      <td>-1.099805</td>\n",
       "      <td>-0.600328</td>\n",
       "    </tr>\n",
       "    <tr>\n",
       "      <th>1</th>\n",
       "      <td>1.589689</td>\n",
       "      <td>-1.253439</td>\n",
       "      <td>-1.323663</td>\n",
       "      <td>1.665588</td>\n",
       "    </tr>\n",
       "    <tr>\n",
       "      <th>2</th>\n",
       "      <td>-0.337414</td>\n",
       "      <td>-0.648477</td>\n",
       "      <td>-0.744153</td>\n",
       "      <td>-0.600328</td>\n",
       "    </tr>\n",
       "    <tr>\n",
       "      <th>3</th>\n",
       "      <td>-1.241821</td>\n",
       "      <td>-0.595461</td>\n",
       "      <td>-0.691231</td>\n",
       "      <td>-0.600328</td>\n",
       "    </tr>\n",
       "    <tr>\n",
       "      <th>4</th>\n",
       "      <td>-0.537703</td>\n",
       "      <td>-1.508934</td>\n",
       "      <td>-1.303246</td>\n",
       "      <td>1.665588</td>\n",
       "    </tr>\n",
       "    <tr>\n",
       "      <th>...</th>\n",
       "      <td>...</td>\n",
       "      <td>...</td>\n",
       "      <td>...</td>\n",
       "      <td>...</td>\n",
       "    </tr>\n",
       "    <tr>\n",
       "      <th>9995</th>\n",
       "      <td>-0.328451</td>\n",
       "      <td>1.501946</td>\n",
       "      <td>1.337800</td>\n",
       "      <td>-0.600328</td>\n",
       "    </tr>\n",
       "    <tr>\n",
       "      <th>9996</th>\n",
       "      <td>0.802958</td>\n",
       "      <td>1.108537</td>\n",
       "      <td>1.053681</td>\n",
       "      <td>-0.600328</td>\n",
       "    </tr>\n",
       "    <tr>\n",
       "      <th>9997</th>\n",
       "      <td>-0.134786</td>\n",
       "      <td>0.367057</td>\n",
       "      <td>0.000000</td>\n",
       "      <td>-0.600328</td>\n",
       "    </tr>\n",
       "    <tr>\n",
       "      <th>9998</th>\n",
       "      <td>1.813087</td>\n",
       "      <td>1.481295</td>\n",
       "      <td>1.452867</td>\n",
       "      <td>-0.600328</td>\n",
       "    </tr>\n",
       "    <tr>\n",
       "      <th>9999</th>\n",
       "      <td>1.022526</td>\n",
       "      <td>1.186531</td>\n",
       "      <td>1.145406</td>\n",
       "      <td>-0.600328</td>\n",
       "    </tr>\n",
       "  </tbody>\n",
       "</table>\n",
       "<p>9991 rows × 4 columns</p>\n",
       "</div>"
      ],
      "text/plain": [
       "      MonthlyCharge  Bandwidth_GB_Year    Tenure     Churn\n",
       "0         -0.060274          -1.203471 -1.099805 -0.600328\n",
       "1          1.589689          -1.253439 -1.323663  1.665588\n",
       "2         -0.337414          -0.648477 -0.744153 -0.600328\n",
       "3         -1.241821          -0.595461 -0.691231 -0.600328\n",
       "4         -0.537703          -1.508934 -1.303246  1.665588\n",
       "...             ...                ...       ...       ...\n",
       "9995      -0.328451           1.501946  1.337800 -0.600328\n",
       "9996       0.802958           1.108537  1.053681 -0.600328\n",
       "9997      -0.134786           0.367057  0.000000 -0.600328\n",
       "9998       1.813087           1.481295  1.452867 -0.600328\n",
       "9999       1.022526           1.186531  1.145406 -0.600328\n",
       "\n",
       "[9991 rows x 4 columns]"
      ]
     },
     "execution_count": 38,
     "metadata": {},
     "output_type": "execute_result"
    }
   ],
   "source": [
    "pca_data"
   ]
  },
  {
   "cell_type": "code",
   "execution_count": 70,
   "id": "cf8f1d36-54fb-4286-97ab-bf3929e15e91",
   "metadata": {},
   "outputs": [
    {
     "data": {
      "image/png": "[encoded data removed]",
      "text/plain": [
       "<Figure size 432x288 with 1 Axes>"
      ]
     },
     "metadata": {
      "needs_background": "light"
     },
     "output_type": "display_data"
    }
   ],
   "source": [
    "# Explained variance PCA histogram \n",
    "\n",
    "per_var = np.round(pca.explained_variance_ratio_* 100, decimals=1)\n",
    "labels = ['PC' + str(x) for x in range(1, len(per_var)+1)]\n",
    "plt.bar(x=range(1,len(per_var)+1), height=per_var, tick_label=labels)\n",
    "plt.ylabel('Explained Variance')\n",
    "plt.xlabel('Principal Component')\n",
    "plt.title('PCA Histogram')\n",
    "plt.show()"
   ]
  },
  {
   "cell_type": "code",
   "execution_count": 71,
   "id": "2c3764ab-d78d-4d1a-bd06-fa6702e0c9b9",
   "metadata": {},
   "outputs": [
    {
     "data": {
      "image/png": "[encoded data removed]",
      "text/plain": [
       "<Figure size 432x288 with 1 Axes>"
      ]
     },
     "metadata": {
      "needs_background": "light"
     },
     "output_type": "display_data"
    }
   ],
   "source": [
    "# explained variance as a line graph\n",
    "\n",
    "import seaborn as sns\n",
    "\n",
    "pca.fit(pca_data)\n",
    "churn_pca = pd.DataFrame(pca.transform(pca_data),\n",
    "columns = pca_names)                                 \n",
    "plt.plot(pca.explained_variance_ratio_)\n",
    "plt.xlabel('Number of Components')\n",
    "plt.ylabel('Explained Variance')\n",
    "plt.show()"
   ]
  },
  {
   "cell_type": "code",
   "execution_count": 55,
   "id": "b933e225-d1d4-49f3-b308-7c1989797bfa",
   "metadata": {},
   "outputs": [
    {
     "name": "stdout",
     "output_type": "stream",
     "text": [
      "                        PC1       PC2       PC3       PC4\n",
      "MonthlyCharge      0.116058  0.831041 -0.542797 -0.035680\n",
      "Bandwidth_GB_Year -0.609440  0.277195  0.248064  0.700150\n",
      "Tenure            -0.622946  0.214136  0.241493 -0.712577\n",
      "Churn              0.476500  0.432065  0.765191 -0.027400\n"
     ]
    }
   ],
   "source": [
    "# variance by column\n",
    "variances = pd.DataFrame(pca.components_.T, columns = pca_names, index = pca_data.columns)\n",
    "print(variances)"
   ]
  },
  {
   "cell_type": "code",
   "execution_count": 73,
   "id": "5bd322de-52e4-4257-af21-467f6b35ef71",
   "metadata": {},
   "outputs": [
    {
     "name": "stdout",
     "output_type": "stream",
     "text": [
      "           PC1       PC2\n",
      "0     1.125510 -0.878574\n",
      "1     2.566615  1.409848\n",
      "2     0.533559 -0.878890\n",
      "3     0.363316 -1.604460\n",
      "4     2.462704 -0.424551\n",
      "...        ...       ...\n",
      "9986 -2.072898  0.170465\n",
      "9987 -1.524839  0.940821\n",
      "9988 -0.525399 -0.269647\n",
      "9989 -1.883450  1.969087\n",
      "9990 -1.604029  1.164552\n",
      "\n",
      "[9991 rows x 2 columns]\n"
     ]
    }
   ],
   "source": [
    "# the graph above shows that 2 components are responsible for most of the variance\n",
    "pca_data = churn_pca.iloc[ : , 0:3]\n",
    "print(pca_data)"
   ]
  },
  {
   "cell_type": "code",
   "execution_count": 54,
   "id": "7f30e8c4-f5f0-45d8-9084-df98152885a1",
   "metadata": {},
   "outputs": [
    {
     "name": "stdout",
     "output_type": "stream",
     "text": [
      "PC1 explained variation: 55.76730397186089\n",
      "PC2 explained variation: 30.230277113567283\n",
      "PC3 explained variation: 11.430200048381382\n",
      "PC4 explained variation: 2.5722188661904446\n"
     ]
    }
   ],
   "source": [
    "print('PC1 explained variation: {}' .format(pca.explained_variance_ratio_[0] * 100))\n",
    "print('PC2 explained variation: {}' .format(pca.explained_variance_ratio_[1] * 100))\n",
    "print('PC3 explained variation: {}' .format(pca.explained_variance_ratio_[2] * 100))\n",
    "print('PC4 explained variation: {}' .format(pca.explained_variance_ratio_[3] * 100))"
   ]
  },
  {
   "cell_type": "markdown",
   "id": "e6bd2e45-7a55-447d-ba5c-57cd8beda7ff",
   "metadata": {},
   "source": [
    "### Part III.\n",
    "\n",
    "D1.  An unamed column was found and removed. We found no duplicate rows to delete. Null values where found in the Tenure, Bandwidth_GB_Year, TechSupport, Income, Age, Children and Phone columns. No abnormal naming conventions where found nor abnormal values in the column. The only outliers found were in the Bandwidth_GB_Year but I did not remove them because I believe they will help us find our answer with more context.\n",
    "\n",
    "D2.  The null values in the Tenure and Bandwidth_GB_Year columns were the main anomalies of focus. These are two of our main variables to help us answer our research question and I believe filling the null values with the mean rather than removing the rows is a safer route for comparison.\n",
    "Also mean values were filled in the Income, Age, and Children with the mean as it is a safe route. I left the outliers in the Bandwidth_GB_Year column as I believe this helps us understand where the customers that use the data more are still visable.\n",
    "\n",
    "D3. \n",
    "    - Removed unamed 0, unamed 0.1, Techie, and CustomerID columns\n",
    "    - Removed customers that did not cancel the service in the last month\n",
    "    - Identified and handled the null values\n",
    "    - Looked for duplicate rows but found none\n",
    "    - Identified the outliers and decided to leave them\n",
    "\n",
    "D4.  See above for code.\n",
    "\n",
    "D5.  See attached file cleaned_data.csv."
   ]
  },
  {
   "cell_type": "code",
   "execution_count": 57,
   "id": "a3aab6de-421b-4ee1-ad9e-fc772e004b48",
   "metadata": {},
   "outputs": [],
   "source": [
    "# clean data set\n",
    "df.to_csv('cleaned_data.csv')"
   ]
  },
  {
   "cell_type": "markdown",
   "id": "fc03e386-2fb4-4438-8f10-cef4d9285592",
   "metadata": {},
   "source": [
    "D6.  The limitations to the data set hinder us from answering the question naturally with real data. Those hindrances being the null values and being replaced with averages and not having more details on the other services that leave us with only yes/no answers. \n",
    "\n",
    "D7.  If we had more accurate values for the Tenure and Bandwidth_GB_Year fields then we could have a more accurate analysis using real data. The averages used to fill the null gaps are not incorrect but not as accurate than the true data. "
   ]
  },
  {
   "cell_type": "markdown",
   "id": "d97727eb-2e0b-42a9-9521-c57b3ac615d6",
   "metadata": {},
   "source": [
    "E1.  The determined Principal Components are the following:   \n",
    "    - PC1 - Monthly_Charge  \n",
    "    - PC2 - Bandwidth_GB_Year\n",
    "\n",
    "E2.  The principal components were identified by putting monthly_charge, Bandwidth_GB_Year, Tenure, and Churn into Sklearn's PCA package and looking at the variances between them. First we normalized the data by standardizing it across all columns, Then we fit it into the PCA method. We can then looked at two different graphs and the numerical data its self. PC1 and PC2 explained over 85% of the variances and that is how we determined the principal componenets. \n",
    "\n",
    "E3.  The organization can benefit from the PCA by determining how the prices are affecting the customer base and if they customer is using the full extent of their services by utilizing the companies data. The company can then use this information to make decisions on how they can attempt to impede the churn rate of the customers.  "
   ]
  },
  {
   "cell_type": "code",
   "execution_count": null,
   "id": "43faeca2-33fa-45da-b03a-8a22bfa22ce7",
   "metadata": {},
   "outputs": [],
   "source": []
  }
 ],
 "metadata": {
  "kernelspec": {
   "display_name": "Python 3 (ipykernel)",
   "language": "python",
   "name": "python3"
  },
  "language_info": {
   "codemirror_mode": {
    "name": "ipython",
    "version": 3
   },
   "file_extension": ".py",
   "mimetype": "text/x-python",
   "name": "python",
   "nbconvert_exporter": "python",
   "pygments_lexer": "ipython3",
   "version": "3.9.5"
  }
 },
 "nbformat": 4,
 "nbformat_minor": 5
}
