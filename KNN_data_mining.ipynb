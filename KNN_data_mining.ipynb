{
 "cells": [
  {
   "cell_type": "markdown",
   "id": "976cd229",
   "metadata": {
    "papermill": {
     "duration": 0.050234,
     "end_time": "2022-03-04T14:16:14.544391",
     "exception": false,
     "start_time": "2022-03-04T14:16:14.494157",
     "status": "completed"
    },
    "tags": []
   },
   "source": [
    "# Sean Pharris\n",
    "# Model: K Nearest Neighbor\n",
    "# Data set: Customer data of a telecommunications company\n",
    "# Date: Jan 21, 2022"
   ]
  },
  {
   "cell_type": "markdown",
   "id": "5afcd192",
   "metadata": {
    "papermill": {
     "duration": 0.049906,
     "end_time": "2022-03-04T14:16:14.643072",
     "exception": false,
     "start_time": "2022-03-04T14:16:14.593166",
     "status": "completed"
    },
    "tags": []
   },
   "source": [
    "## Part I: Research Question\n",
    "\n",
    "A.\n",
    "\n",
    "1.  What customers are likely to discontinue their services in the next few months?\n",
    "\n",
    "2.  The goal of identifying the results to our research question can help the stakeholders to understand the turn over of customers in detail.\n",
    " \n",
    "\n",
    "## Part II: Method Justification\n",
    "\n",
    "B.  \n",
    "\n",
    "1.  The K Nearest Neighbor algorithim will classify our data case by case to determine whether each data point will be a point indicating customer churn or not. That method includes:\n",
    "    * Classifying all points\n",
    "    * Determining what K will be (K is the number of surrounding points to classify the point at focus)\n",
    "    * Generalizing the overall outcome with the number of total points\n",
    "    \n",
    "    Outcome: What customers will be at risk of customer churn\n",
    "\n",
    "2.  Assumptions:\n",
    "* KNN assumes that the data is in a feature space. More exactly, the data points are in a metric space. The data can be scalars or possibly even multidimensional vectors. Since the points are in feature space, they have a notion of distance – This need not necessarily be Euclidean distance although it is the one commonly used (Thirumuruganathan, S. (2010)).\n",
    "\n",
    "* Each of the training data consists of a set of vectors and class label associated with each vector. In the simplest case , it will be either + or – (for positive or negative classes). But KNN , can work equally well with arbitrary number of classes (Thirumuruganathan, S. (2010)).\n",
    "\n",
    "* We are also given a single number \"k\" . This number decides how many neighbors (where neighbors is defined based on the distance metric) influence the classification. This is usually a odd number if the number of classes is 2. If k=1 , then the algorithm is simply called the nearest neighbor algorithm (Thirumuruganathan, S. (2010)).\n",
    "\n",
    "3.  The benefits of Python are vast but the main reason are the versatility, ease of use, and strong support from the community. There are many packages that make it easy to undertake the task of doing data analysis/data prediction.\n",
    "\n",
    "* Some of those packages are:\n",
    "    * Pandas and Numpy - make it easy to handle large sets of data\n",
    "    * Seaborn and Matplotlib - make data visualization a breeze\n",
    "    * Statsmodels and ScikitLearn - allow for easy data exploration and prediction\n",
    " \n",
    "\n",
    "## Part III: Data Preparation\n",
    "\n",
    "C.  \n",
    "\n",
    "1.  The customers that have already discontinued their services in the last month have the binary variable as \"yes\" in the \"Churn\" column and \"no\" for those customers that have no discontinued their services. We will preprocess the data as 1s for \"yes\" and 0s for \"no\" to process the data. \n",
    "\n",
    "2.  The initial data set will include the variables below and our dependent variable will be \"Churn\", which is categorical.\n",
    "\n",
    "* Continuous:\n",
    "\n",
    "    'Population', 'Children', 'Age', 'Income', 'Outage_sec_perweek', 'Email', 'Contacts', 'Yearly_equip_failure', 'Tenure', 'MonthlyCharge', 'Bandwidth_GB_Year', 'TimelyResponse', 'TimelyFixes', 'TimelyReplacements', 'Reliability', 'Options', 'RespectfulResponse', 'CourteousExchange', 'EvidenceOfActiveListening'\n",
    "       \n",
    "* Categorical: \n",
    "\n",
    "    'Area', 'TimeZone', 'Job', 'Marital', 'Gender', 'Techie', 'Contract', 'Port_modem', 'Tablet', 'InternetService', 'Phone', 'Multiple', 'OnlineSecurity','OnlineBackup', 'DeviceProtection', 'TechSupport', 'StreamingTV', 'StreamingMovies', 'PaperlessBilling', 'PaymentMethod'\n",
    "\n",
    "\n",
    "3.  Steps to prepare data:\n",
    "    1. Read the data into the data frame (\"df\") using Pandas \"read_csv()\"\n",
    "    2. Drop unneeded columns\n",
    "    3. Changing the names of columns to make the data more understandable\n",
    "    4. Make sure there are no null values\n",
    "    5. Create dummy variables for categorical columns\n",
    "    6. Remove the outliers of numerical data types"
   ]
  },
  {
   "cell_type": "code",
   "execution_count": 1,
   "id": "56b8451e",
   "metadata": {
    "_cell_guid": "b1076dfc-b9ad-4769-8c92-a6c4dae69d19",
    "_uuid": "8f2839f25d086af736a60e9eeb907d3b93b6e0e5",
    "execution": {
     "iopub.execute_input": "2022-03-04T14:16:14.744598Z",
     "iopub.status.busy": "2022-03-04T14:16:14.743311Z",
     "iopub.status.idle": "2022-03-04T14:16:14.760127Z",
     "shell.execute_reply": "2022-03-04T14:16:14.760733Z",
     "shell.execute_reply.started": "2022-01-25T11:42:57.778211Z"
    },
    "papermill": {
     "duration": 0.069235,
     "end_time": "2022-03-04T14:16:14.761031",
     "exception": false,
     "start_time": "2022-03-04T14:16:14.691796",
     "status": "completed"
    },
    "tags": []
   },
   "outputs": [
    {
     "name": "stdout",
     "output_type": "stream",
     "text": [
      "/kaggle/input/clean-churn-data/churn_clean.csv\n",
      "/kaggle/input/clean-churn-data/D207 D208 D209 Churn Data Consideration and Dictionary.pdf\n"
     ]
    }
   ],
   "source": [
    "# This Python 3 environment comes with many helpful analytics libraries installed\n",
    "# It is defined by the kaggle/python Docker image: https://github.com/kaggle/docker-python\n",
    "# For example, here's several helpful packages to load\n",
    "\n",
    "import numpy as np # linear algebra\n",
    "import pandas as pd # data processing, CSV file I/O (e.g. pd.read_csv)\n",
    "\n",
    "# Input data files are available in the read-only \"../input/\" directory\n",
    "# For example, running this (by clicking run or pressing Shift+Enter) will list all files under the input directory\n",
    "\n",
    "import os\n",
    "for dirname, _, filenames in os.walk('/kaggle/input'):\n",
    "    for filename in filenames:\n",
    "        print(os.path.join(dirname, filename))\n",
    "\n",
    "# You can write up to 20GB to the current directory (/kaggle/working/) that gets preserved as output when you create a version using \"Save & Run All\" \n",
    "# You can also write temporary files to /kaggle/temp/, but they won't be saved outside of the current session"
   ]
  },
  {
   "cell_type": "code",
   "execution_count": 2,
   "id": "012d4a00",
   "metadata": {
    "execution": {
     "iopub.execute_input": "2022-03-04T14:16:14.863331Z",
     "iopub.status.busy": "2022-03-04T14:16:14.862721Z",
     "iopub.status.idle": "2022-03-04T14:16:14.865873Z",
     "shell.execute_reply": "2022-03-04T14:16:14.866420Z",
     "shell.execute_reply.started": "2022-01-25T11:42:57.816492Z"
    },
    "papermill": {
     "duration": 0.055433,
     "end_time": "2022-03-04T14:16:14.866602",
     "exception": false,
     "start_time": "2022-03-04T14:16:14.811169",
     "status": "completed"
    },
    "tags": []
   },
   "outputs": [],
   "source": [
    "import warnings\n",
    "\n",
    "warnings.filterwarnings('ignore')"
   ]
  },
  {
   "cell_type": "markdown",
   "id": "13c43cef",
   "metadata": {
    "papermill": {
     "duration": 0.049346,
     "end_time": "2022-03-04T14:16:14.966883",
     "exception": false,
     "start_time": "2022-03-04T14:16:14.917537",
     "status": "completed"
    },
    "tags": []
   },
   "source": [
    "### Import the data"
   ]
  },
  {
   "cell_type": "code",
   "execution_count": 3,
   "id": "eedd9245",
   "metadata": {
    "execution": {
     "iopub.execute_input": "2022-03-04T14:16:15.068872Z",
     "iopub.status.busy": "2022-03-04T14:16:15.068203Z",
     "iopub.status.idle": "2022-03-04T14:16:15.233179Z",
     "shell.execute_reply": "2022-03-04T14:16:15.233706Z",
     "shell.execute_reply.started": "2022-01-25T11:42:57.822074Z"
    },
    "papermill": {
     "duration": 0.217769,
     "end_time": "2022-03-04T14:16:15.233894",
     "exception": false,
     "start_time": "2022-03-04T14:16:15.016125",
     "status": "completed"
    },
    "tags": []
   },
   "outputs": [],
   "source": [
    "# Read in data set into the data frame \n",
    "df = pd.read_csv('../input/clean-churn-data/churn_clean.csv')"
   ]
  },
  {
   "cell_type": "markdown",
   "id": "490ba91e",
   "metadata": {
    "papermill": {
     "duration": 0.048453,
     "end_time": "2022-03-04T14:16:15.333519",
     "exception": false,
     "start_time": "2022-03-04T14:16:15.285066",
     "status": "completed"
    },
    "tags": []
   },
   "source": [
    "### Removing unneeded columns"
   ]
  },
  {
   "cell_type": "code",
   "execution_count": 4,
   "id": "32c50177",
   "metadata": {
    "execution": {
     "iopub.execute_input": "2022-03-04T14:16:15.517199Z",
     "iopub.status.busy": "2022-03-04T14:16:15.516470Z",
     "iopub.status.idle": "2022-03-04T14:16:15.526817Z",
     "shell.execute_reply": "2022-03-04T14:16:15.527407Z",
     "shell.execute_reply.started": "2022-01-25T11:42:58.004821Z"
    },
    "papermill": {
     "duration": 0.145307,
     "end_time": "2022-03-04T14:16:15.527575",
     "exception": false,
     "start_time": "2022-03-04T14:16:15.382268",
     "status": "completed"
    },
    "tags": []
   },
   "outputs": [],
   "source": [
    "# Drop unnecessary columns\n",
    "df.drop(columns=['CaseOrder','UID', 'Customer_id','Interaction', 'Job','State','City','County','Zip','Lat','Lng', 'TimeZone', 'Marital'], inplace=True)"
   ]
  },
  {
   "cell_type": "code",
   "execution_count": 5,
   "id": "133ff986",
   "metadata": {
    "execution": {
     "iopub.execute_input": "2022-03-04T14:16:15.628543Z",
     "iopub.status.busy": "2022-03-04T14:16:15.627879Z",
     "iopub.status.idle": "2022-03-04T14:16:15.655925Z",
     "shell.execute_reply": "2022-03-04T14:16:15.656416Z",
     "shell.execute_reply.started": "2022-01-25T11:42:58.027013Z"
    },
    "papermill": {
     "duration": 0.080232,
     "end_time": "2022-03-04T14:16:15.656598",
     "exception": false,
     "start_time": "2022-03-04T14:16:15.576366",
     "status": "completed"
    },
    "tags": []
   },
   "outputs": [
    {
     "data": {
      "text/html": [
       "<div>\n",
       "<style scoped>\n",
       "    .dataframe tbody tr th:only-of-type {\n",
       "        vertical-align: middle;\n",
       "    }\n",
       "\n",
       "    .dataframe tbody tr th {\n",
       "        vertical-align: top;\n",
       "    }\n",
       "\n",
       "    .dataframe thead th {\n",
       "        text-align: right;\n",
       "    }\n",
       "</style>\n",
       "<table border=\"1\" class=\"dataframe\">\n",
       "  <thead>\n",
       "    <tr style=\"text-align: right;\">\n",
       "      <th></th>\n",
       "      <th>Population</th>\n",
       "      <th>Area</th>\n",
       "      <th>Children</th>\n",
       "      <th>Age</th>\n",
       "      <th>Income</th>\n",
       "      <th>Gender</th>\n",
       "      <th>Churn</th>\n",
       "      <th>Outage_sec_perweek</th>\n",
       "      <th>Email</th>\n",
       "      <th>Contacts</th>\n",
       "      <th>...</th>\n",
       "      <th>MonthlyCharge</th>\n",
       "      <th>Bandwidth_GB_Year</th>\n",
       "      <th>Item1</th>\n",
       "      <th>Item2</th>\n",
       "      <th>Item3</th>\n",
       "      <th>Item4</th>\n",
       "      <th>Item5</th>\n",
       "      <th>Item6</th>\n",
       "      <th>Item7</th>\n",
       "      <th>Item8</th>\n",
       "    </tr>\n",
       "  </thead>\n",
       "  <tbody>\n",
       "    <tr>\n",
       "      <th>0</th>\n",
       "      <td>38</td>\n",
       "      <td>Urban</td>\n",
       "      <td>0</td>\n",
       "      <td>68</td>\n",
       "      <td>28561.99</td>\n",
       "      <td>Male</td>\n",
       "      <td>No</td>\n",
       "      <td>7.978323</td>\n",
       "      <td>10</td>\n",
       "      <td>0</td>\n",
       "      <td>...</td>\n",
       "      <td>172.455519</td>\n",
       "      <td>904.536110</td>\n",
       "      <td>5</td>\n",
       "      <td>5</td>\n",
       "      <td>5</td>\n",
       "      <td>3</td>\n",
       "      <td>4</td>\n",
       "      <td>4</td>\n",
       "      <td>3</td>\n",
       "      <td>4</td>\n",
       "    </tr>\n",
       "    <tr>\n",
       "      <th>1</th>\n",
       "      <td>10446</td>\n",
       "      <td>Urban</td>\n",
       "      <td>1</td>\n",
       "      <td>27</td>\n",
       "      <td>21704.77</td>\n",
       "      <td>Female</td>\n",
       "      <td>Yes</td>\n",
       "      <td>11.699080</td>\n",
       "      <td>12</td>\n",
       "      <td>0</td>\n",
       "      <td>...</td>\n",
       "      <td>242.632554</td>\n",
       "      <td>800.982766</td>\n",
       "      <td>3</td>\n",
       "      <td>4</td>\n",
       "      <td>3</td>\n",
       "      <td>3</td>\n",
       "      <td>4</td>\n",
       "      <td>3</td>\n",
       "      <td>4</td>\n",
       "      <td>4</td>\n",
       "    </tr>\n",
       "    <tr>\n",
       "      <th>2</th>\n",
       "      <td>3735</td>\n",
       "      <td>Urban</td>\n",
       "      <td>4</td>\n",
       "      <td>50</td>\n",
       "      <td>9609.57</td>\n",
       "      <td>Female</td>\n",
       "      <td>No</td>\n",
       "      <td>10.752800</td>\n",
       "      <td>9</td>\n",
       "      <td>0</td>\n",
       "      <td>...</td>\n",
       "      <td>159.947583</td>\n",
       "      <td>2054.706961</td>\n",
       "      <td>4</td>\n",
       "      <td>4</td>\n",
       "      <td>2</td>\n",
       "      <td>4</td>\n",
       "      <td>4</td>\n",
       "      <td>3</td>\n",
       "      <td>3</td>\n",
       "      <td>3</td>\n",
       "    </tr>\n",
       "    <tr>\n",
       "      <th>3</th>\n",
       "      <td>13863</td>\n",
       "      <td>Suburban</td>\n",
       "      <td>1</td>\n",
       "      <td>48</td>\n",
       "      <td>18925.23</td>\n",
       "      <td>Male</td>\n",
       "      <td>No</td>\n",
       "      <td>14.913540</td>\n",
       "      <td>15</td>\n",
       "      <td>2</td>\n",
       "      <td>...</td>\n",
       "      <td>119.956840</td>\n",
       "      <td>2164.579412</td>\n",
       "      <td>4</td>\n",
       "      <td>4</td>\n",
       "      <td>4</td>\n",
       "      <td>2</td>\n",
       "      <td>5</td>\n",
       "      <td>4</td>\n",
       "      <td>3</td>\n",
       "      <td>3</td>\n",
       "    </tr>\n",
       "    <tr>\n",
       "      <th>4</th>\n",
       "      <td>11352</td>\n",
       "      <td>Suburban</td>\n",
       "      <td>0</td>\n",
       "      <td>83</td>\n",
       "      <td>40074.19</td>\n",
       "      <td>Male</td>\n",
       "      <td>Yes</td>\n",
       "      <td>8.147417</td>\n",
       "      <td>16</td>\n",
       "      <td>2</td>\n",
       "      <td>...</td>\n",
       "      <td>149.948316</td>\n",
       "      <td>271.493436</td>\n",
       "      <td>4</td>\n",
       "      <td>4</td>\n",
       "      <td>4</td>\n",
       "      <td>3</td>\n",
       "      <td>4</td>\n",
       "      <td>4</td>\n",
       "      <td>4</td>\n",
       "      <td>5</td>\n",
       "    </tr>\n",
       "  </tbody>\n",
       "</table>\n",
       "<p>5 rows × 37 columns</p>\n",
       "</div>"
      ],
      "text/plain": [
       "   Population      Area  Children  Age    Income  Gender Churn  \\\n",
       "0          38     Urban         0   68  28561.99    Male    No   \n",
       "1       10446     Urban         1   27  21704.77  Female   Yes   \n",
       "2        3735     Urban         4   50   9609.57  Female    No   \n",
       "3       13863  Suburban         1   48  18925.23    Male    No   \n",
       "4       11352  Suburban         0   83  40074.19    Male   Yes   \n",
       "\n",
       "   Outage_sec_perweek  Email  Contacts  ...  MonthlyCharge Bandwidth_GB_Year  \\\n",
       "0            7.978323     10         0  ...     172.455519        904.536110   \n",
       "1           11.699080     12         0  ...     242.632554        800.982766   \n",
       "2           10.752800      9         0  ...     159.947583       2054.706961   \n",
       "3           14.913540     15         2  ...     119.956840       2164.579412   \n",
       "4            8.147417     16         2  ...     149.948316        271.493436   \n",
       "\n",
       "  Item1 Item2 Item3 Item4 Item5 Item6 Item7 Item8  \n",
       "0     5     5     5     3     4     4     3     4  \n",
       "1     3     4     3     3     4     3     4     4  \n",
       "2     4     4     2     4     4     3     3     3  \n",
       "3     4     4     4     2     5     4     3     3  \n",
       "4     4     4     4     3     4     4     4     5  \n",
       "\n",
       "[5 rows x 37 columns]"
      ]
     },
     "execution_count": 5,
     "metadata": {},
     "output_type": "execute_result"
    }
   ],
   "source": [
    "df.head()"
   ]
  },
  {
   "cell_type": "markdown",
   "id": "8ab32d22",
   "metadata": {
    "papermill": {
     "duration": 0.050486,
     "end_time": "2022-03-04T14:16:15.756502",
     "exception": false,
     "start_time": "2022-03-04T14:16:15.706016",
     "status": "completed"
    },
    "tags": []
   },
   "source": [
    "### Changing the name of columns to make the data more understandable"
   ]
  },
  {
   "cell_type": "code",
   "execution_count": 6,
   "id": "4214f6f2",
   "metadata": {
    "execution": {
     "iopub.execute_input": "2022-03-04T14:16:15.861889Z",
     "iopub.status.busy": "2022-03-04T14:16:15.861212Z",
     "iopub.status.idle": "2022-03-04T14:16:15.864185Z",
     "shell.execute_reply": "2022-03-04T14:16:15.863646Z",
     "shell.execute_reply.started": "2022-01-25T11:42:58.066317Z"
    },
    "papermill": {
     "duration": 0.058318,
     "end_time": "2022-03-04T14:16:15.864319",
     "exception": false,
     "start_time": "2022-03-04T14:16:15.806001",
     "status": "completed"
    },
    "tags": []
   },
   "outputs": [],
   "source": [
    "# Renaming the survey columns\n",
    "df.rename(columns = {'Item1':'TimelyResponse', \n",
    "                    'Item2':'TimelyFixes', \n",
    "                     'Item3':'TimelyReplacements', \n",
    "                     'Item4':'Reliability', \n",
    "                     'Item5':'Options', \n",
    "                     'Item6':'RespectfulResponse', \n",
    "                     'Item7':'CourteousExchange', \n",
    "                     'Item8':'EvidenceOfActiveListening'}, \n",
    "          inplace=True)"
   ]
  },
  {
   "cell_type": "code",
   "execution_count": 7,
   "id": "5ec89930",
   "metadata": {
    "execution": {
     "iopub.execute_input": "2022-03-04T14:16:15.971282Z",
     "iopub.status.busy": "2022-03-04T14:16:15.970571Z",
     "iopub.status.idle": "2022-03-04T14:16:15.973078Z",
     "shell.execute_reply": "2022-03-04T14:16:15.973694Z",
     "shell.execute_reply.started": "2022-01-25T11:42:58.07374Z"
    },
    "papermill": {
     "duration": 0.059414,
     "end_time": "2022-03-04T14:16:15.973862",
     "exception": false,
     "start_time": "2022-03-04T14:16:15.914448",
     "status": "completed"
    },
    "tags": []
   },
   "outputs": [
    {
     "data": {
      "text/plain": [
       "Index(['Population', 'Area', 'Children', 'Age', 'Income', 'Gender', 'Churn',\n",
       "       'Outage_sec_perweek', 'Email', 'Contacts', 'Yearly_equip_failure',\n",
       "       'Techie', 'Contract', 'Port_modem', 'Tablet', 'InternetService',\n",
       "       'Phone', 'Multiple', 'OnlineSecurity', 'OnlineBackup',\n",
       "       'DeviceProtection', 'TechSupport', 'StreamingTV', 'StreamingMovies',\n",
       "       'PaperlessBilling', 'PaymentMethod', 'Tenure', 'MonthlyCharge',\n",
       "       'Bandwidth_GB_Year', 'TimelyResponse', 'TimelyFixes',\n",
       "       'TimelyReplacements', 'Reliability', 'Options', 'RespectfulResponse',\n",
       "       'CourteousExchange', 'EvidenceOfActiveListening'],\n",
       "      dtype='object')"
      ]
     },
     "execution_count": 7,
     "metadata": {},
     "output_type": "execute_result"
    }
   ],
   "source": [
    "df.columns"
   ]
  },
  {
   "cell_type": "markdown",
   "id": "ead0b279",
   "metadata": {
    "papermill": {
     "duration": 0.053706,
     "end_time": "2022-03-04T14:16:16.077853",
     "exception": false,
     "start_time": "2022-03-04T14:16:16.024147",
     "status": "completed"
    },
    "tags": []
   },
   "source": [
    "### Check for null values in the data set"
   ]
  },
  {
   "cell_type": "code",
   "execution_count": 8,
   "id": "66bcabb3",
   "metadata": {
    "execution": {
     "iopub.execute_input": "2022-03-04T14:16:16.188082Z",
     "iopub.status.busy": "2022-03-04T14:16:16.187440Z",
     "iopub.status.idle": "2022-03-04T14:16:16.215951Z",
     "shell.execute_reply": "2022-03-04T14:16:16.216613Z",
     "shell.execute_reply.started": "2022-01-25T11:42:58.088986Z"
    },
    "papermill": {
     "duration": 0.084838,
     "end_time": "2022-03-04T14:16:16.216786",
     "exception": false,
     "start_time": "2022-03-04T14:16:16.131948",
     "status": "completed"
    },
    "tags": []
   },
   "outputs": [
    {
     "data": {
      "text/plain": [
       "Population                   0\n",
       "Area                         0\n",
       "Children                     0\n",
       "Age                          0\n",
       "Income                       0\n",
       "Gender                       0\n",
       "Churn                        0\n",
       "Outage_sec_perweek           0\n",
       "Email                        0\n",
       "Contacts                     0\n",
       "Yearly_equip_failure         0\n",
       "Techie                       0\n",
       "Contract                     0\n",
       "Port_modem                   0\n",
       "Tablet                       0\n",
       "InternetService              0\n",
       "Phone                        0\n",
       "Multiple                     0\n",
       "OnlineSecurity               0\n",
       "OnlineBackup                 0\n",
       "DeviceProtection             0\n",
       "TechSupport                  0\n",
       "StreamingTV                  0\n",
       "StreamingMovies              0\n",
       "PaperlessBilling             0\n",
       "PaymentMethod                0\n",
       "Tenure                       0\n",
       "MonthlyCharge                0\n",
       "Bandwidth_GB_Year            0\n",
       "TimelyResponse               0\n",
       "TimelyFixes                  0\n",
       "TimelyReplacements           0\n",
       "Reliability                  0\n",
       "Options                      0\n",
       "RespectfulResponse           0\n",
       "CourteousExchange            0\n",
       "EvidenceOfActiveListening    0\n",
       "dtype: int64"
      ]
     },
     "execution_count": 8,
     "metadata": {},
     "output_type": "execute_result"
    }
   ],
   "source": [
    "df.isnull().sum()"
   ]
  },
  {
   "cell_type": "markdown",
   "id": "10ad4851",
   "metadata": {
    "papermill": {
     "duration": 0.050117,
     "end_time": "2022-03-04T14:16:16.319531",
     "exception": false,
     "start_time": "2022-03-04T14:16:16.269414",
     "status": "completed"
    },
    "tags": []
   },
   "source": [
    "### Below, we will find our categorical data types"
   ]
  },
  {
   "cell_type": "code",
   "execution_count": 9,
   "id": "6fb6ee29",
   "metadata": {
    "execution": {
     "iopub.execute_input": "2022-03-04T14:16:16.424213Z",
     "iopub.status.busy": "2022-03-04T14:16:16.423523Z",
     "iopub.status.idle": "2022-03-04T14:16:16.432393Z",
     "shell.execute_reply": "2022-03-04T14:16:16.433045Z",
     "shell.execute_reply.started": "2022-01-25T11:42:58.128252Z"
    },
    "papermill": {
     "duration": 0.06271,
     "end_time": "2022-03-04T14:16:16.433220",
     "exception": false,
     "start_time": "2022-03-04T14:16:16.370510",
     "status": "completed"
    },
    "tags": []
   },
   "outputs": [
    {
     "name": "stdout",
     "output_type": "stream",
     "text": [
      "There are 18 categorical variables\n",
      "\n",
      "The categorical variables are : ['Area', 'Gender', 'Churn', 'Techie', 'Contract', 'Port_modem', 'Tablet', 'InternetService', 'Phone', 'Multiple', 'OnlineSecurity', 'OnlineBackup', 'DeviceProtection', 'TechSupport', 'StreamingTV', 'StreamingMovies', 'PaperlessBilling', 'PaymentMethod']\n"
     ]
    }
   ],
   "source": [
    "# find categorical variables\n",
    "\n",
    "categorical = [var for var in df.columns if df[var].dtype=='O']\n",
    "\n",
    "print('There are {} categorical variables\\n'.format(len(categorical)))\n",
    "\n",
    "print('The categorical variables are :', categorical)"
   ]
  },
  {
   "cell_type": "code",
   "execution_count": 10,
   "id": "db310d39",
   "metadata": {
    "execution": {
     "iopub.execute_input": "2022-03-04T14:16:16.540811Z",
     "iopub.status.busy": "2022-03-04T14:16:16.540091Z",
     "iopub.status.idle": "2022-03-04T14:16:16.543451Z",
     "shell.execute_reply": "2022-03-04T14:16:16.542852Z",
     "shell.execute_reply.started": "2022-01-25T11:42:58.146265Z"
    },
    "papermill": {
     "duration": 0.059079,
     "end_time": "2022-03-04T14:16:16.543613",
     "exception": false,
     "start_time": "2022-03-04T14:16:16.484534",
     "status": "completed"
    },
    "tags": []
   },
   "outputs": [
    {
     "name": "stdout",
     "output_type": "stream",
     "text": [
      "['Area', 'Gender', 'Churn', 'Techie', 'Contract', 'Port_modem', 'Tablet', 'InternetService', 'Phone', 'Multiple', 'OnlineSecurity', 'OnlineBackup', 'DeviceProtection', 'TechSupport', 'StreamingTV', 'StreamingMovies', 'PaperlessBilling', 'PaymentMethod']\n"
     ]
    }
   ],
   "source": [
    "# view the categorical variables\n",
    "\n",
    "print(categorical)"
   ]
  },
  {
   "cell_type": "code",
   "execution_count": 11,
   "id": "1c0e6e1b",
   "metadata": {
    "execution": {
     "iopub.execute_input": "2022-03-04T14:16:16.648926Z",
     "iopub.status.busy": "2022-03-04T14:16:16.648301Z",
     "iopub.status.idle": "2022-03-04T14:16:16.699120Z",
     "shell.execute_reply": "2022-03-04T14:16:16.697946Z",
     "shell.execute_reply.started": "2022-01-25T11:42:58.153413Z"
    },
    "papermill": {
     "duration": 0.104857,
     "end_time": "2022-03-04T14:16:16.699350",
     "exception": false,
     "start_time": "2022-03-04T14:16:16.594493",
     "status": "completed"
    },
    "tags": []
   },
   "outputs": [
    {
     "name": "stdout",
     "output_type": "stream",
     "text": [
      "Population  contains  5933  labels\n",
      "Area  contains  3  labels\n",
      "Children  contains  11  labels\n",
      "Age  contains  72  labels\n",
      "Income  contains  9993  labels\n",
      "Gender  contains  3  labels\n",
      "Churn  contains  2  labels\n",
      "Outage_sec_perweek  contains  9986  labels\n",
      "Email  contains  23  labels\n",
      "Contacts  contains  8  labels\n",
      "Yearly_equip_failure  contains  6  labels\n",
      "Techie  contains  2  labels\n",
      "Contract  contains  3  labels\n",
      "Port_modem  contains  2  labels\n",
      "Tablet  contains  2  labels\n",
      "InternetService  contains  3  labels\n",
      "Phone  contains  2  labels\n",
      "Multiple  contains  2  labels\n",
      "OnlineSecurity  contains  2  labels\n",
      "OnlineBackup  contains  2  labels\n",
      "DeviceProtection  contains  2  labels\n",
      "TechSupport  contains  2  labels\n",
      "StreamingTV  contains  2  labels\n",
      "StreamingMovies  contains  2  labels\n",
      "PaperlessBilling  contains  2  labels\n",
      "PaymentMethod  contains  4  labels\n",
      "Tenure  contains  9996  labels\n",
      "MonthlyCharge  contains  750  labels\n",
      "Bandwidth_GB_Year  contains  10000  labels\n",
      "TimelyResponse  contains  7  labels\n",
      "TimelyFixes  contains  7  labels\n",
      "TimelyReplacements  contains  8  labels\n",
      "Reliability  contains  7  labels\n",
      "Options  contains  7  labels\n",
      "RespectfulResponse  contains  8  labels\n",
      "CourteousExchange  contains  7  labels\n",
      "EvidenceOfActiveListening  contains  8  labels\n"
     ]
    }
   ],
   "source": [
    "# check for cardinality in categorical variables\n",
    "\n",
    "for var in df:\n",
    "    print(var, ' contains ', len(df[var].unique()), ' labels')"
   ]
  },
  {
   "cell_type": "markdown",
   "id": "aa680f3c",
   "metadata": {
    "papermill": {
     "duration": 0.051402,
     "end_time": "2022-03-04T14:16:16.804108",
     "exception": false,
     "start_time": "2022-03-04T14:16:16.752706",
     "status": "completed"
    },
    "tags": []
   },
   "source": [
    "## Below we will find out numerical data types and remove outliers"
   ]
  },
  {
   "cell_type": "code",
   "execution_count": 12,
   "id": "21fb2834",
   "metadata": {
    "execution": {
     "iopub.execute_input": "2022-03-04T14:16:16.913935Z",
     "iopub.status.busy": "2022-03-04T14:16:16.913271Z",
     "iopub.status.idle": "2022-03-04T14:16:16.916454Z",
     "shell.execute_reply": "2022-03-04T14:16:16.916940Z",
     "shell.execute_reply.started": "2022-01-25T11:42:58.214137Z"
    },
    "papermill": {
     "duration": 0.060849,
     "end_time": "2022-03-04T14:16:16.917109",
     "exception": false,
     "start_time": "2022-03-04T14:16:16.856260",
     "status": "completed"
    },
    "tags": []
   },
   "outputs": [
    {
     "name": "stdout",
     "output_type": "stream",
     "text": [
      "There are 19 numerical variables\n",
      "\n",
      "The numerical variables are : ['Population', 'Children', 'Age', 'Income', 'Outage_sec_perweek', 'Email', 'Contacts', 'Yearly_equip_failure', 'Tenure', 'MonthlyCharge', 'Bandwidth_GB_Year', 'TimelyResponse', 'TimelyFixes', 'TimelyReplacements', 'Reliability', 'Options', 'RespectfulResponse', 'CourteousExchange', 'EvidenceOfActiveListening']\n"
     ]
    }
   ],
   "source": [
    "# find numerical variables\n",
    "\n",
    "numerical = [var for var in df.columns if df[var].dtype!='O']\n",
    "\n",
    "print('There are {} numerical variables\\n'.format(len(numerical)))\n",
    "\n",
    "print('The numerical variables are :', numerical)"
   ]
  },
  {
   "cell_type": "markdown",
   "id": "22907612",
   "metadata": {
    "papermill": {
     "duration": 0.05123,
     "end_time": "2022-03-04T14:16:17.020156",
     "exception": false,
     "start_time": "2022-03-04T14:16:16.968926",
     "status": "completed"
    },
    "tags": []
   },
   "source": [
    "#### Now we will look for outliers"
   ]
  },
  {
   "cell_type": "code",
   "execution_count": 13,
   "id": "0b3e9131",
   "metadata": {
    "execution": {
     "iopub.execute_input": "2022-03-04T14:16:17.133638Z",
     "iopub.status.busy": "2022-03-04T14:16:17.132838Z",
     "iopub.status.idle": "2022-03-04T14:16:17.193236Z",
     "shell.execute_reply": "2022-03-04T14:16:17.192574Z",
     "shell.execute_reply.started": "2022-01-25T11:42:58.222648Z"
    },
    "papermill": {
     "duration": 0.120903,
     "end_time": "2022-03-04T14:16:17.193371",
     "exception": false,
     "start_time": "2022-03-04T14:16:17.072468",
     "status": "completed"
    },
    "tags": []
   },
   "outputs": [
    {
     "name": "stdout",
     "output_type": "stream",
     "text": [
      "       Population  Children      Age    Income  Outage_sec_perweek    Email  \\\n",
      "count     10000.0   10000.0  10000.0   10000.0             10000.0  10000.0   \n",
      "mean       9757.0       2.0     53.0   39807.0                10.0     12.0   \n",
      "std       14433.0       2.0     21.0   28200.0                 3.0      3.0   \n",
      "min           0.0       0.0     18.0     349.0                 0.0      1.0   \n",
      "25%         738.0       0.0     35.0   19225.0                 8.0     10.0   \n",
      "50%        2910.0       1.0     53.0   33171.0                10.0     12.0   \n",
      "75%       13168.0       3.0     71.0   53246.0                12.0     14.0   \n",
      "max      111850.0      10.0     89.0  258901.0                21.0     23.0   \n",
      "\n",
      "       Contacts  Yearly_equip_failure   Tenure  MonthlyCharge  \\\n",
      "count   10000.0               10000.0  10000.0        10000.0   \n",
      "mean        1.0                   0.0     35.0          173.0   \n",
      "std         1.0                   1.0     26.0           43.0   \n",
      "min         0.0                   0.0      1.0           80.0   \n",
      "25%         0.0                   0.0      8.0          140.0   \n",
      "50%         1.0                   0.0     35.0          167.0   \n",
      "75%         2.0                   1.0     61.0          201.0   \n",
      "max         7.0                   6.0     72.0          290.0   \n",
      "\n",
      "       Bandwidth_GB_Year  TimelyResponse  TimelyFixes  TimelyReplacements  \\\n",
      "count            10000.0         10000.0      10000.0             10000.0   \n",
      "mean              3392.0             3.0          4.0                 3.0   \n",
      "std               2185.0             1.0          1.0                 1.0   \n",
      "min                156.0             1.0          1.0                 1.0   \n",
      "25%               1236.0             3.0          3.0                 3.0   \n",
      "50%               3280.0             3.0          4.0                 3.0   \n",
      "75%               5586.0             4.0          4.0                 4.0   \n",
      "max               7159.0             7.0          7.0                 8.0   \n",
      "\n",
      "       Reliability  Options  RespectfulResponse  CourteousExchange  \\\n",
      "count      10000.0  10000.0             10000.0            10000.0   \n",
      "mean           3.0      3.0                 3.0                4.0   \n",
      "std            1.0      1.0                 1.0                1.0   \n",
      "min            1.0      1.0                 1.0                1.0   \n",
      "25%            3.0      3.0                 3.0                3.0   \n",
      "50%            3.0      3.0                 3.0                4.0   \n",
      "75%            4.0      4.0                 4.0                4.0   \n",
      "max            7.0      7.0                 8.0                7.0   \n",
      "\n",
      "       EvidenceOfActiveListening  \n",
      "count                    10000.0  \n",
      "mean                         3.0  \n",
      "std                          1.0  \n",
      "min                          1.0  \n",
      "25%                          3.0  \n",
      "50%                          3.0  \n",
      "75%                          4.0  \n",
      "max                          8.0   2\n"
     ]
    }
   ],
   "source": [
    "# view summary statistics in numerical variables\n",
    "\n",
    "print(round(df.describe()),2)"
   ]
  },
  {
   "cell_type": "markdown",
   "id": "6ac6daca",
   "metadata": {
    "papermill": {
     "duration": 0.051601,
     "end_time": "2022-03-04T14:16:17.297005",
     "exception": false,
     "start_time": "2022-03-04T14:16:17.245404",
     "status": "completed"
    },
    "tags": []
   },
   "source": [
    "Variables that may contain outliers:\n",
    "\n",
    "* Population\n",
    "* Income\n",
    "* Bandwidth_GB_Year"
   ]
  },
  {
   "cell_type": "code",
   "execution_count": 14,
   "id": "7375bc10",
   "metadata": {
    "execution": {
     "iopub.execute_input": "2022-03-04T14:16:17.412351Z",
     "iopub.status.busy": "2022-03-04T14:16:17.411306Z",
     "iopub.status.idle": "2022-03-04T14:16:18.039856Z",
     "shell.execute_reply": "2022-03-04T14:16:18.040364Z",
     "shell.execute_reply.started": "2022-01-25T11:42:58.314866Z"
    },
    "papermill": {
     "duration": 0.69169,
     "end_time": "2022-03-04T14:16:18.040528",
     "exception": false,
     "start_time": "2022-03-04T14:16:17.348838",
     "status": "completed"
    },
    "tags": []
   },
   "outputs": [
    {
     "data": {
      "text/plain": [
       "Text(0, 0.5, 'Bandwidth_GB_Year')"
      ]
     },
     "execution_count": 14,
     "metadata": {},
     "output_type": "execute_result"
    },
    {
     "data": {
      "image/png": "[encoded data removed]",
      "text/plain": [
       "<Figure size 1080x720 with 3 Axes>"
      ]
     },
     "metadata": {
      "needs_background": "light"
     },
     "output_type": "display_data"
    }
   ],
   "source": [
    "# draw boxplots to visualize outliers\n",
    "import matplotlib.pyplot as plt\n",
    "\n",
    "plt.figure(figsize=(15,10))\n",
    "\n",
    "\n",
    "plt.subplot(2, 2, 1)\n",
    "fig = df.boxplot(column='Population')\n",
    "fig.set_title('')\n",
    "fig.set_ylabel('Population')\n",
    "\n",
    "\n",
    "plt.subplot(2, 2, 2)\n",
    "fig = df.boxplot(column='Income')\n",
    "fig.set_title('')\n",
    "fig.set_ylabel('Income')\n",
    "\n",
    "\n",
    "plt.subplot(2, 2, 3)\n",
    "fig = df.boxplot(column='Bandwidth_GB_Year')\n",
    "fig.set_title('')\n",
    "fig.set_ylabel('Bandwidth_GB_Year')"
   ]
  },
  {
   "cell_type": "code",
   "execution_count": 15,
   "id": "578d1da5",
   "metadata": {
    "execution": {
     "iopub.execute_input": "2022-03-04T14:16:18.151360Z",
     "iopub.status.busy": "2022-03-04T14:16:18.150662Z",
     "iopub.status.idle": "2022-03-04T14:16:18.733803Z",
     "shell.execute_reply": "2022-03-04T14:16:18.734288Z",
     "shell.execute_reply.started": "2022-01-25T11:42:58.982873Z"
    },
    "papermill": {
     "duration": 0.639855,
     "end_time": "2022-03-04T14:16:18.734463",
     "exception": false,
     "start_time": "2022-03-04T14:16:18.094608",
     "status": "completed"
    },
    "tags": []
   },
   "outputs": [
    {
     "data": {
      "text/plain": [
       "Text(0, 0.5, 'Churn')"
      ]
     },
     "execution_count": 15,
     "metadata": {},
     "output_type": "execute_result"
    },
    {
     "data": {
      "image/png": "[encoded data removed]",
      "text/plain": [
       "<Figure size 1080x720 with 3 Axes>"
      ]
     },
     "metadata": {
      "needs_background": "light"
     },
     "output_type": "display_data"
    }
   ],
   "source": [
    "# plot histogram to check distribution\n",
    "\n",
    "plt.figure(figsize=(15,10))\n",
    "\n",
    "\n",
    "plt.subplot(2, 2, 1)\n",
    "fig = df.Population.hist(bins=10)\n",
    "fig.set_xlabel('Population')\n",
    "fig.set_ylabel('Churn')\n",
    "\n",
    "\n",
    "plt.subplot(2, 2, 2)\n",
    "fig = df.Income.hist(bins=10)\n",
    "fig.set_xlabel('Income')\n",
    "fig.set_ylabel('Churn')\n",
    "\n",
    "\n",
    "plt.subplot(2, 2, 3)\n",
    "fig = df.Bandwidth_GB_Year.hist(bins=10)\n",
    "fig.set_xlabel('Bandwidth_GB_Year')\n",
    "fig.set_ylabel('Churn')"
   ]
  },
  {
   "cell_type": "markdown",
   "id": "3e66a1ce",
   "metadata": {
    "papermill": {
     "duration": 0.054639,
     "end_time": "2022-03-04T14:16:18.847201",
     "exception": false,
     "start_time": "2022-03-04T14:16:18.792562",
     "status": "completed"
    },
    "tags": []
   },
   "source": [
    "Removing the outliers in our numerical data types\n",
    "* Bandwidth_GB_Year does not appear to be skewed.\n",
    "* Population and income apprear to be skewed so we will conduct an interquantile range now."
   ]
  },
  {
   "cell_type": "code",
   "execution_count": 16,
   "id": "5841e3ed",
   "metadata": {
    "execution": {
     "iopub.execute_input": "2022-03-04T14:16:18.963627Z",
     "iopub.status.busy": "2022-03-04T14:16:18.962934Z",
     "iopub.status.idle": "2022-03-04T14:16:18.973397Z",
     "shell.execute_reply": "2022-03-04T14:16:18.974024Z",
     "shell.execute_reply.started": "2022-01-25T11:42:59.599879Z"
    },
    "papermill": {
     "duration": 0.070151,
     "end_time": "2022-03-04T14:16:18.974207",
     "exception": false,
     "start_time": "2022-03-04T14:16:18.904056",
     "status": "completed"
    },
    "tags": []
   },
   "outputs": [
    {
     "name": "stdout",
     "output_type": "stream",
     "text": [
      "Population outliers are values < -36552.0 or > 50458.0\n"
     ]
    }
   ],
   "source": [
    "# find outliers for Population\n",
    "\n",
    "IQR = df.Population.quantile(0.75) - df.Population.quantile(0.25)\n",
    "lower = df.Population.quantile(0.25) - (IQR * 3)\n",
    "upper = df.Population.quantile(0.75) + (IQR * 3)\n",
    "print('Population outliers are values < {lowerboundary} or > {upperboundary}'.format(lowerboundary=lower, upperboundary=upper))"
   ]
  },
  {
   "cell_type": "code",
   "execution_count": 17,
   "id": "c7695ea7",
   "metadata": {
    "execution": {
     "iopub.execute_input": "2022-03-04T14:16:19.088220Z",
     "iopub.status.busy": "2022-03-04T14:16:19.087589Z",
     "iopub.status.idle": "2022-03-04T14:16:19.097859Z",
     "shell.execute_reply": "2022-03-04T14:16:19.098348Z",
     "shell.execute_reply.started": "2022-01-25T11:42:59.616259Z"
    },
    "papermill": {
     "duration": 0.068872,
     "end_time": "2022-03-04T14:16:19.098520",
     "exception": false,
     "start_time": "2022-03-04T14:16:19.029648",
     "status": "completed"
    },
    "tags": []
   },
   "outputs": [
    {
     "name": "stdout",
     "output_type": "stream",
     "text": [
      "Income outliers are values < -82839.64 or > 155310.5275\n"
     ]
    }
   ],
   "source": [
    "# find outliers for Income\n",
    "\n",
    "IQR = df.Income.quantile(0.75) - df.Income.quantile(0.25)\n",
    "lower = df.Income.quantile(0.25) - (IQR * 3)\n",
    "upper = df.Income.quantile(0.75) + (IQR * 3)\n",
    "print('Income outliers are values < {lowerboundary} or > {upperboundary}'.format(lowerboundary=lower, upperboundary=upper))"
   ]
  },
  {
   "cell_type": "markdown",
   "id": "949d635a",
   "metadata": {
    "papermill": {
     "duration": 0.055275,
     "end_time": "2022-03-04T14:16:19.210909",
     "exception": false,
     "start_time": "2022-03-04T14:16:19.155634",
     "status": "completed"
    },
    "tags": []
   },
   "source": [
    "Fixing the outliers in our numerical data types\n",
    "\n",
    "* We have seen that the Population and Income columns contain outliers. \n",
    "* We will use top-coding approach to cap maximum values and remove outliers from the above variables."
   ]
  },
  {
   "cell_type": "code",
   "execution_count": 18,
   "id": "65bde27a",
   "metadata": {
    "execution": {
     "iopub.execute_input": "2022-03-04T14:16:19.329160Z",
     "iopub.status.busy": "2022-03-04T14:16:19.328502Z",
     "iopub.status.idle": "2022-03-04T14:16:19.331905Z",
     "shell.execute_reply": "2022-03-04T14:16:19.332351Z",
     "shell.execute_reply.started": "2022-01-25T11:42:59.635568Z"
    },
    "papermill": {
     "duration": 0.066175,
     "end_time": "2022-03-04T14:16:19.332519",
     "exception": false,
     "start_time": "2022-03-04T14:16:19.266344",
     "status": "completed"
    },
    "tags": []
   },
   "outputs": [],
   "source": [
    "def max_value(df3, variable, top):\n",
    "    return np.where(df3[variable]>top, top, df3[variable])\n",
    "\n",
    "for df3 in [df]:\n",
    "    df3['Population'] = max_value(df3, 'Population', 50458.0)\n",
    "    df3['Income'] = max_value(df3, 'Income', 155310.5275)"
   ]
  },
  {
   "cell_type": "code",
   "execution_count": 19,
   "id": "1c638519",
   "metadata": {
    "execution": {
     "iopub.execute_input": "2022-03-04T14:16:19.446578Z",
     "iopub.status.busy": "2022-03-04T14:16:19.445961Z",
     "iopub.status.idle": "2022-03-04T14:16:19.451958Z",
     "shell.execute_reply": "2022-03-04T14:16:19.451390Z",
     "shell.execute_reply.started": "2022-01-25T11:42:59.646446Z"
    },
    "papermill": {
     "duration": 0.064227,
     "end_time": "2022-03-04T14:16:19.452099",
     "exception": false,
     "start_time": "2022-03-04T14:16:19.387872",
     "status": "completed"
    },
    "tags": []
   },
   "outputs": [
    {
     "name": "stdout",
     "output_type": "stream",
     "text": [
      "50458.0 155310.5275\n"
     ]
    }
   ],
   "source": [
    "print(df.Population.max(), df.Income.max())"
   ]
  },
  {
   "cell_type": "code",
   "execution_count": 20,
   "id": "11a20825",
   "metadata": {
    "execution": {
     "iopub.execute_input": "2022-03-04T14:16:19.568539Z",
     "iopub.status.busy": "2022-03-04T14:16:19.567572Z",
     "iopub.status.idle": "2022-03-04T14:16:19.979528Z",
     "shell.execute_reply": "2022-03-04T14:16:19.978454Z",
     "shell.execute_reply.started": "2022-01-25T11:42:59.661425Z"
    },
    "papermill": {
     "duration": 0.471335,
     "end_time": "2022-03-04T14:16:19.979694",
     "exception": false,
     "start_time": "2022-03-04T14:16:19.508359",
     "status": "completed"
    },
    "tags": []
   },
   "outputs": [
    {
     "data": {
      "text/plain": [
       "Text(0, 0.5, 'Churn')"
      ]
     },
     "execution_count": 20,
     "metadata": {},
     "output_type": "execute_result"
    },
    {
     "data": {
      "image/png": "[encoded data removed]",
      "text/plain": [
       "<Figure size 1080x720 with 2 Axes>"
      ]
     },
     "metadata": {
      "needs_background": "light"
     },
     "output_type": "display_data"
    }
   ],
   "source": [
    "# plot histogram to check distribution of removed outliers \n",
    "\n",
    "plt.figure(figsize=(15,10))\n",
    "\n",
    "\n",
    "plt.subplot(2, 2, 1)\n",
    "fig = df.Population.hist(bins=10)\n",
    "fig.set_xlabel('Population')\n",
    "fig.set_ylabel('Churn')\n",
    "\n",
    "\n",
    "plt.subplot(2, 2, 2)\n",
    "fig = df.Income.hist(bins=10)\n",
    "fig.set_xlabel('Income')\n",
    "fig.set_ylabel('Churn')"
   ]
  },
  {
   "cell_type": "markdown",
   "id": "57d66746",
   "metadata": {
    "papermill": {
     "duration": 0.057376,
     "end_time": "2022-03-04T14:16:20.094471",
     "exception": false,
     "start_time": "2022-03-04T14:16:20.037095",
     "status": "completed"
    },
    "tags": []
   },
   "source": [
    "### C4.  Provide a copy of the cleaned data set."
   ]
  },
  {
   "cell_type": "code",
   "execution_count": 21,
   "id": "f8ac927d",
   "metadata": {
    "execution": {
     "iopub.execute_input": "2022-03-04T14:16:20.214807Z",
     "iopub.status.busy": "2022-03-04T14:16:20.214095Z",
     "iopub.status.idle": "2022-03-04T14:16:20.405568Z",
     "shell.execute_reply": "2022-03-04T14:16:20.405033Z",
     "shell.execute_reply.started": "2022-01-25T11:43:00.104018Z"
    },
    "papermill": {
     "duration": 0.253272,
     "end_time": "2022-03-04T14:16:20.405736",
     "exception": false,
     "start_time": "2022-03-04T14:16:20.152464",
     "status": "completed"
    },
    "tags": []
   },
   "outputs": [],
   "source": [
    "# Desired data set\n",
    "df.to_csv('KNN_churn.csv', index=False)"
   ]
  },
  {
   "cell_type": "markdown",
   "id": "685ffedd",
   "metadata": {
    "papermill": {
     "duration": 0.056576,
     "end_time": "2022-03-04T14:16:20.519042",
     "exception": false,
     "start_time": "2022-03-04T14:16:20.462466",
     "status": "completed"
    },
    "tags": []
   },
   "source": [
    "### D1.  Split the data into training and test data sets and provide the file(s)."
   ]
  },
  {
   "cell_type": "code",
   "execution_count": 22,
   "id": "f264882b",
   "metadata": {
    "execution": {
     "iopub.execute_input": "2022-03-04T14:16:20.640889Z",
     "iopub.status.busy": "2022-03-04T14:16:20.640168Z",
     "iopub.status.idle": "2022-03-04T14:16:21.705497Z",
     "shell.execute_reply": "2022-03-04T14:16:21.704978Z",
     "shell.execute_reply.started": "2022-01-25T11:43:00.297835Z"
    },
    "papermill": {
     "duration": 1.129144,
     "end_time": "2022-03-04T14:16:21.705656",
     "exception": false,
     "start_time": "2022-03-04T14:16:20.576512",
     "status": "completed"
    },
    "tags": []
   },
   "outputs": [
    {
     "data": {
      "text/plain": [
       "((8000, 37), (2000, 37))"
      ]
     },
     "execution_count": 22,
     "metadata": {},
     "output_type": "execute_result"
    }
   ],
   "source": [
    "from sklearn.model_selection import train_test_split\n",
    "\n",
    "# Create arrays for the features and the response variable\n",
    "\n",
    "train, test = train_test_split(df, test_size = 0.2, random_state = 0)\n",
    "\n",
    "# check the shape of X_train and X_test\n",
    "\n",
    "train.shape, test.shape"
   ]
  },
  {
   "cell_type": "code",
   "execution_count": 23,
   "id": "2a035820",
   "metadata": {
    "execution": {
     "iopub.execute_input": "2022-03-04T14:16:21.829790Z",
     "iopub.status.busy": "2022-03-04T14:16:21.829067Z",
     "iopub.status.idle": "2022-03-04T14:16:22.019045Z",
     "shell.execute_reply": "2022-03-04T14:16:22.019534Z",
     "shell.execute_reply.started": "2022-01-25T11:43:01.182281Z"
    },
    "papermill": {
     "duration": 0.255548,
     "end_time": "2022-03-04T14:16:22.019752",
     "exception": false,
     "start_time": "2022-03-04T14:16:21.764204",
     "status": "completed"
    },
    "tags": []
   },
   "outputs": [],
   "source": [
    "# Put training and test data into their own CSVs.\n",
    "\n",
    "train.to_csv('training_churn.csv', index=False)\n",
    "\n",
    "test.to_csv('test_churn.csv', index=False)"
   ]
  },
  {
   "cell_type": "markdown",
   "id": "5b377f51",
   "metadata": {
    "papermill": {
     "duration": 0.05793,
     "end_time": "2022-03-04T14:16:22.136735",
     "exception": false,
     "start_time": "2022-03-04T14:16:22.078805",
     "status": "completed"
    },
    "tags": []
   },
   "source": [
    "### Now that we have split the test/training data, we will split the dependent variable \"Churn\" from the independent variables."
   ]
  },
  {
   "cell_type": "code",
   "execution_count": 24,
   "id": "0092cd57",
   "metadata": {
    "execution": {
     "iopub.execute_input": "2022-03-04T14:16:22.256665Z",
     "iopub.status.busy": "2022-03-04T14:16:22.255996Z",
     "iopub.status.idle": "2022-03-04T14:16:22.262660Z",
     "shell.execute_reply": "2022-03-04T14:16:22.263178Z",
     "shell.execute_reply.started": "2022-01-25T11:43:01.380003Z"
    },
    "papermill": {
     "duration": 0.068458,
     "end_time": "2022-03-04T14:16:22.263345",
     "exception": false,
     "start_time": "2022-03-04T14:16:22.194887",
     "status": "completed"
    },
    "tags": []
   },
   "outputs": [],
   "source": [
    "# create target(predictor) variable \n",
    "\n",
    "X = df.drop(['Churn'], axis=1)\n",
    "\n",
    "y = df['Churn']"
   ]
  },
  {
   "cell_type": "code",
   "execution_count": 25,
   "id": "8c0b8b3f",
   "metadata": {
    "execution": {
     "iopub.execute_input": "2022-03-04T14:16:22.381737Z",
     "iopub.status.busy": "2022-03-04T14:16:22.381018Z",
     "iopub.status.idle": "2022-03-04T14:16:22.386463Z",
     "shell.execute_reply": "2022-03-04T14:16:22.387055Z",
     "shell.execute_reply.started": "2022-01-25T11:43:01.390447Z"
    },
    "papermill": {
     "duration": 0.06611,
     "end_time": "2022-03-04T14:16:22.387228",
     "exception": false,
     "start_time": "2022-03-04T14:16:22.321118",
     "status": "completed"
    },
    "tags": []
   },
   "outputs": [
    {
     "data": {
      "text/plain": [
       "['Area',\n",
       " 'Gender',\n",
       " 'Techie',\n",
       " 'Contract',\n",
       " 'Port_modem',\n",
       " 'Tablet',\n",
       " 'InternetService',\n",
       " 'Phone',\n",
       " 'Multiple',\n",
       " 'OnlineSecurity',\n",
       " 'OnlineBackup',\n",
       " 'DeviceProtection',\n",
       " 'TechSupport',\n",
       " 'StreamingTV',\n",
       " 'StreamingMovies',\n",
       " 'PaperlessBilling',\n",
       " 'PaymentMethod']"
      ]
     },
     "execution_count": 25,
     "metadata": {},
     "output_type": "execute_result"
    }
   ],
   "source": [
    "# removing churn from categorical list because we will loop through the categorical in the encoding below\n",
    "\n",
    "categorical.remove('Churn')\n",
    "\n",
    "categorical"
   ]
  },
  {
   "cell_type": "code",
   "execution_count": 26,
   "id": "3a6d8a77",
   "metadata": {
    "execution": {
     "iopub.execute_input": "2022-03-04T14:16:22.506096Z",
     "iopub.status.busy": "2022-03-04T14:16:22.505438Z",
     "iopub.status.idle": "2022-03-04T14:16:22.582953Z",
     "shell.execute_reply": "2022-03-04T14:16:22.582278Z",
     "shell.execute_reply.started": "2022-01-25T11:43:01.403517Z"
    },
    "papermill": {
     "duration": 0.137696,
     "end_time": "2022-03-04T14:16:22.583099",
     "exception": false,
     "start_time": "2022-03-04T14:16:22.445403",
     "status": "completed"
    },
    "tags": []
   },
   "outputs": [],
   "source": [
    "from sklearn import preprocessing\n",
    "\n",
    "le = preprocessing.LabelEncoder()\n",
    "for feature in categorical:\n",
    "    X.loc[:, feature] = le.fit_transform(X.loc[:, feature])"
   ]
  },
  {
   "cell_type": "code",
   "execution_count": 27,
   "id": "41631fec",
   "metadata": {
    "execution": {
     "iopub.execute_input": "2022-03-04T14:16:22.708299Z",
     "iopub.status.busy": "2022-03-04T14:16:22.707345Z",
     "iopub.status.idle": "2022-03-04T14:16:22.729360Z",
     "shell.execute_reply": "2022-03-04T14:16:22.728796Z",
     "shell.execute_reply.started": "2022-01-25T11:43:01.486037Z"
    },
    "papermill": {
     "duration": 0.087426,
     "end_time": "2022-03-04T14:16:22.729518",
     "exception": false,
     "start_time": "2022-03-04T14:16:22.642092",
     "status": "completed"
    },
    "tags": []
   },
   "outputs": [],
   "source": [
    "# normalizaing/feature scaling the data\n",
    "\n",
    "from sklearn.preprocessing import StandardScaler\n",
    "\n",
    "scaler = StandardScaler()\n",
    "\n",
    "X = pd.DataFrame(scaler.fit_transform(X), columns = X.columns)"
   ]
  },
  {
   "cell_type": "code",
   "execution_count": 28,
   "id": "a07eb08d",
   "metadata": {
    "execution": {
     "iopub.execute_input": "2022-03-04T14:16:22.850136Z",
     "iopub.status.busy": "2022-03-04T14:16:22.849430Z",
     "iopub.status.idle": "2022-03-04T14:16:22.861480Z",
     "shell.execute_reply": "2022-03-04T14:16:22.862102Z",
     "shell.execute_reply.started": "2022-01-25T11:43:01.515477Z"
    },
    "papermill": {
     "duration": 0.074416,
     "end_time": "2022-03-04T14:16:22.862280",
     "exception": false,
     "start_time": "2022-03-04T14:16:22.787864",
     "status": "completed"
    },
    "tags": []
   },
   "outputs": [
    {
     "data": {
      "text/plain": [
       "((8000, 36), (2000, 36))"
      ]
     },
     "execution_count": 28,
     "metadata": {},
     "output_type": "execute_result"
    }
   ],
   "source": [
    "# split X and y into training and testing sets\n",
    "\n",
    "from sklearn.model_selection import cross_val_score, train_test_split\n",
    "\n",
    "# Set seed for reproducibility\n",
    "\n",
    "X_train, X_test, y_train, y_test = train_test_split(X, y, test_size = 0.2, random_state = 0)\n",
    "\n",
    "# check the shape of X_train and X_test\n",
    "\n",
    "X_train.shape, X_test.shape"
   ]
  },
  {
   "cell_type": "markdown",
   "id": "ea2cfc24",
   "metadata": {
    "execution": {
     "iopub.execute_input": "2022-01-21T13:07:59.720383Z",
     "iopub.status.busy": "2022-01-21T13:07:59.72Z",
     "iopub.status.idle": "2022-01-21T13:07:59.727422Z",
     "shell.execute_reply": "2022-01-21T13:07:59.725986Z",
     "shell.execute_reply.started": "2022-01-21T13:07:59.720339Z"
    },
    "papermill": {
     "duration": 0.05929,
     "end_time": "2022-03-04T14:16:22.981482",
     "exception": false,
     "start_time": "2022-03-04T14:16:22.922192",
     "status": "completed"
    },
    "tags": []
   },
   "source": [
    "## Part IV: Analysis\n",
    "\n",
    "### D2.  Analysis and intermediate calculations"
   ]
  },
  {
   "cell_type": "code",
   "execution_count": 29,
   "id": "9fdc8b74",
   "metadata": {
    "execution": {
     "iopub.execute_input": "2022-03-04T14:16:23.101892Z",
     "iopub.status.busy": "2022-03-04T14:16:23.101224Z",
     "iopub.status.idle": "2022-03-04T14:16:24.817920Z",
     "shell.execute_reply": "2022-03-04T14:16:24.818397Z",
     "shell.execute_reply.started": "2022-01-25T11:43:01.529873Z"
    },
    "papermill": {
     "duration": 1.777989,
     "end_time": "2022-03-04T14:16:24.818596",
     "exception": false,
     "start_time": "2022-03-04T14:16:23.040607",
     "status": "completed"
    },
    "tags": []
   },
   "outputs": [],
   "source": [
    "from sklearn.decomposition import PCA\n",
    "from sklearn.pipeline import make_pipeline\n",
    "from sklearn.neighbors import KNeighborsClassifier\n",
    "\n",
    "n_neighbors = 3\n",
    "random_state = 0\n",
    "\n",
    "# Create a k-NN classifier with 3 neighbors\n",
    "knn = KNeighborsClassifier(n_neighbors=3)\n",
    "\n",
    "# Fit the method's model\n",
    "knn.fit(X_train, y_train)\n",
    "\n",
    "# predict the results and get accuracy of the model\n",
    "y_pred = knn.predict(X_test)"
   ]
  },
  {
   "cell_type": "markdown",
   "id": "08243740",
   "metadata": {
    "papermill": {
     "duration": 0.058508,
     "end_time": "2022-03-04T14:16:24.937367",
     "exception": false,
     "start_time": "2022-03-04T14:16:24.878859",
     "status": "completed"
    },
    "tags": []
   },
   "source": [
    "### D3.  Code is above.\n",
    " \n",
    "\n",
    "## Part V: Data Summary and Implications\n",
    "\n",
    "### E1.  Accuracy and AUC"
   ]
  },
  {
   "cell_type": "code",
   "execution_count": 30,
   "id": "c8c95158",
   "metadata": {
    "execution": {
     "iopub.execute_input": "2022-03-04T14:16:25.057798Z",
     "iopub.status.busy": "2022-03-04T14:16:25.057090Z",
     "iopub.status.idle": "2022-03-04T14:16:25.063103Z",
     "shell.execute_reply": "2022-03-04T14:16:25.063555Z",
     "shell.execute_reply.started": "2022-01-25T11:43:03.221435Z"
    },
    "papermill": {
     "duration": 0.068334,
     "end_time": "2022-03-04T14:16:25.063755",
     "exception": false,
     "start_time": "2022-03-04T14:16:24.995421",
     "status": "completed"
    },
    "tags": []
   },
   "outputs": [
    {
     "data": {
      "text/plain": [
       "array([0, 0, 1, ..., 1, 1, 0])"
      ]
     },
     "execution_count": 30,
     "metadata": {},
     "output_type": "execute_result"
    }
   ],
   "source": [
    "measure = le.fit_transform(y_pred)\n",
    "measure_test = le.fit_transform(y_test)\n",
    "measure_test"
   ]
  },
  {
   "cell_type": "code",
   "execution_count": 31,
   "id": "144fba15",
   "metadata": {
    "execution": {
     "iopub.execute_input": "2022-03-04T14:16:25.190655Z",
     "iopub.status.busy": "2022-03-04T14:16:25.189965Z",
     "iopub.status.idle": "2022-03-04T14:16:26.656402Z",
     "shell.execute_reply": "2022-03-04T14:16:26.655615Z",
     "shell.execute_reply.started": "2022-01-25T11:43:03.231624Z"
    },
    "papermill": {
     "duration": 1.534663,
     "end_time": "2022-03-04T14:16:26.656633",
     "exception": false,
     "start_time": "2022-03-04T14:16:25.121970",
     "status": "completed"
    },
    "tags": []
   },
   "outputs": [
    {
     "name": "stdout",
     "output_type": "stream",
     "text": [
      "Model accuracy: 0.8065\n",
      "MSE accuracy: 0.1935\n",
      "('R-squared value:', 0.8065)\n"
     ]
    }
   ],
   "source": [
    "from sklearn.metrics import accuracy_score\n",
    "from sklearn.metrics import mean_squared_error\n",
    "from math import sqrt\n",
    "mse = mean_squared_error(measure_test, measure)\n",
    "\n",
    "\n",
    "model_acc = 'Model accuracy: {0:0.4f}'. format(accuracy_score(y_test, y_pred))\n",
    "print(model_acc)\n",
    "mse_acc = 'MSE accuracy: {0:0.4f}'. format(mse)\n",
    "print(mse_acc)\n",
    "r_squared = 'R-squared value:', knn.score(X_test,y_test)\n",
    "print(r_squared)"
   ]
  },
  {
   "cell_type": "code",
   "execution_count": 32,
   "id": "dbfedb15",
   "metadata": {
    "execution": {
     "iopub.execute_input": "2022-03-04T14:16:26.811653Z",
     "iopub.status.busy": "2022-03-04T14:16:26.793418Z",
     "iopub.status.idle": "2022-03-04T14:16:26.883352Z",
     "shell.execute_reply": "2022-03-04T14:16:26.882816Z",
     "shell.execute_reply.started": "2022-01-25T11:43:04.729338Z"
    },
    "papermill": {
     "duration": 0.167177,
     "end_time": "2022-03-04T14:16:26.883494",
     "exception": false,
     "start_time": "2022-03-04T14:16:26.716317",
     "status": "completed"
    },
    "tags": []
   },
   "outputs": [
    {
     "name": "stdout",
     "output_type": "stream",
     "text": [
      "              precision    recall  f1-score   support\n",
      "\n",
      "          No       0.86      0.89      0.87      1486\n",
      "         Yes       0.64      0.58      0.61       514\n",
      "\n",
      "    accuracy                           0.81      2000\n",
      "   macro avg       0.75      0.73      0.74      2000\n",
      "weighted avg       0.80      0.81      0.80      2000\n",
      "\n"
     ]
    }
   ],
   "source": [
    "from sklearn.metrics import classification_report\n",
    "\n",
    "initial_model_report = classification_report(y_test, y_pred)\n",
    "# classification metrics\n",
    "print(initial_model_report)"
   ]
  },
  {
   "cell_type": "code",
   "execution_count": 33,
   "id": "5b0a1534",
   "metadata": {
    "execution": {
     "iopub.execute_input": "2022-03-04T14:16:27.020262Z",
     "iopub.status.busy": "2022-03-04T14:16:27.010409Z",
     "iopub.status.idle": "2022-03-04T14:16:27.025032Z",
     "shell.execute_reply": "2022-03-04T14:16:27.025757Z",
     "shell.execute_reply.started": "2022-01-25T11:43:04.834413Z"
    },
    "papermill": {
     "duration": 0.082792,
     "end_time": "2022-03-04T14:16:27.025981",
     "exception": false,
     "start_time": "2022-03-04T14:16:26.943189",
     "status": "completed"
    },
    "tags": []
   },
   "outputs": [
    {
     "name": "stdout",
     "output_type": "stream",
     "text": [
      "[[1316  170]\n",
      " [ 217  297]]\n"
     ]
    }
   ],
   "source": [
    "# Import sklearn confusion_matrix & generate results\n",
    "\n",
    "from sklearn.metrics import confusion_matrix\n",
    "\n",
    "cfm = confusion_matrix(y_test, y_pred)\n",
    "print(cfm)"
   ]
  },
  {
   "cell_type": "code",
   "execution_count": 34,
   "id": "a3c840da",
   "metadata": {
    "execution": {
     "iopub.execute_input": "2022-03-04T14:16:27.150198Z",
     "iopub.status.busy": "2022-03-04T14:16:27.149522Z",
     "iopub.status.idle": "2022-03-04T14:16:27.670037Z",
     "shell.execute_reply": "2022-03-04T14:16:27.670564Z",
     "shell.execute_reply.started": "2022-01-25T11:43:04.855781Z"
    },
    "papermill": {
     "duration": 0.583473,
     "end_time": "2022-03-04T14:16:27.670762",
     "exception": false,
     "start_time": "2022-03-04T14:16:27.087289",
     "status": "completed"
    },
    "tags": []
   },
   "outputs": [
    {
     "data": {
      "text/plain": [
       "<AxesSubplot:>"
      ]
     },
     "execution_count": 34,
     "metadata": {},
     "output_type": "execute_result"
    },
    {
     "data": {
      "image/png": "[encoded data removed]",
      "text/plain": [
       "<Figure size 432x288 with 2 Axes>"
      ]
     },
     "metadata": {
      "needs_background": "light"
     },
     "output_type": "display_data"
    }
   ],
   "source": [
    "import seaborn as sns\n",
    "\n",
    "# chart confusion matrix\n",
    "categories = ['True Negative', 'False Positive', 'False Negative', 'True Positive']\n",
    "\n",
    "cat_amount = [\"{0:0.0f}\".format(value) for value in cfm.flatten()]\n",
    "\n",
    "cat_percent = [\"{0:.2%}\".format(value) for value in cfm.flatten()/np.sum(cfm)]\n",
    "\n",
    "labels = [f\"{v1}\\n{v2}\\n{v3}\" for v1, v2, v3 in zip(categories,cat_amount,cat_percent)]\n",
    "\n",
    "labels = np.asarray(labels).reshape(2,2)\n",
    "\n",
    "sns.heatmap(cfm, annot=labels, fmt='', cmap='Greens')"
   ]
  },
  {
   "cell_type": "code",
   "execution_count": 35,
   "id": "4f1dabb3",
   "metadata": {
    "execution": {
     "iopub.execute_input": "2022-03-04T14:16:27.797868Z",
     "iopub.status.busy": "2022-03-04T14:16:27.797235Z",
     "iopub.status.idle": "2022-03-04T14:16:27.805123Z",
     "shell.execute_reply": "2022-03-04T14:16:27.805631Z",
     "shell.execute_reply.started": "2022-01-25T11:45:59.13999Z"
    },
    "papermill": {
     "duration": 0.073915,
     "end_time": "2022-03-04T14:16:27.805794",
     "exception": false,
     "start_time": "2022-03-04T14:16:27.731879",
     "status": "completed"
    },
    "tags": []
   },
   "outputs": [
    {
     "name": "stdout",
     "output_type": "stream",
     "text": [
      "The AUC on validation dataset is 0.7317099674785678\n"
     ]
    }
   ],
   "source": [
    "from sklearn.metrics import roc_auc_score\n",
    "\n",
    "auc_est = (roc_auc_score(measure_test, measure))\n",
    "\n",
    "print(\"The AUC on validation dataset is\", auc_est)"
   ]
  },
  {
   "cell_type": "code",
   "execution_count": 36,
   "id": "02ac87b5",
   "metadata": {
    "execution": {
     "iopub.execute_input": "2022-03-04T14:16:27.934109Z",
     "iopub.status.busy": "2022-03-04T14:16:27.933342Z",
     "iopub.status.idle": "2022-03-04T14:16:28.131281Z",
     "shell.execute_reply": "2022-03-04T14:16:28.130726Z",
     "shell.execute_reply.started": "2022-01-25T11:57:00.185888Z"
    },
    "papermill": {
     "duration": 0.264665,
     "end_time": "2022-03-04T14:16:28.131420",
     "exception": false,
     "start_time": "2022-03-04T14:16:27.866755",
     "status": "completed"
    },
    "tags": []
   },
   "outputs": [
    {
     "data": {
      "image/png": "[encoded data removed]",
      "text/plain": [
       "<Figure size 432x288 with 1 Axes>"
      ]
     },
     "metadata": {
      "needs_background": "light"
     },
     "output_type": "display_data"
    }
   ],
   "source": [
    "from sklearn import metrics\n",
    "\n",
    "fpr, tpr, thresholds = metrics.roc_curve(measure_test, measure)\n",
    "roc_auc = metrics.auc(fpr, tpr)\n",
    "display = metrics.RocCurveDisplay(fpr=fpr, tpr=tpr, roc_auc=roc_auc,\n",
    "                                  estimator_name='AUC Estimate')\n",
    "display.plot()\n",
    "\n",
    "plt.show()"
   ]
  },
  {
   "cell_type": "markdown",
   "id": "d4d74e28",
   "metadata": {
    "papermill": {
     "duration": 0.063491,
     "end_time": "2022-03-04T14:16:28.257230",
     "exception": false,
     "start_time": "2022-03-04T14:16:28.193739",
     "status": "completed"
    },
    "tags": []
   },
   "source": [
    "### Accuracy and AUC Conclusion:\n",
    "    * The accuracy of the model is a .8\n",
    "    * The precision is .8 as well\n",
    "    * The area under the curve is approximately .6.\n",
    "        * When 0.5<AUC<1, there is a high chance that the classifier will be able to distinguish the positive class values from the negative class values (Bhandari, A. (2020)). "
   ]
  },
  {
   "cell_type": "markdown",
   "id": "f2cf72f7",
   "metadata": {
    "papermill": {
     "duration": 0.061733,
     "end_time": "2022-03-04T14:16:28.381907",
     "exception": false,
     "start_time": "2022-03-04T14:16:28.320174",
     "status": "completed"
    },
    "tags": []
   },
   "source": [
    "### Now going to attempt improve accuracy and reduce the dimensions of the model for efficiency"
   ]
  },
  {
   "cell_type": "code",
   "execution_count": 37,
   "id": "c86e223b",
   "metadata": {
    "execution": {
     "iopub.execute_input": "2022-03-04T14:16:28.510060Z",
     "iopub.status.busy": "2022-03-04T14:16:28.508655Z",
     "iopub.status.idle": "2022-03-04T14:16:28.511795Z",
     "shell.execute_reply": "2022-03-04T14:16:28.512301Z",
     "shell.execute_reply.started": "2022-01-25T11:43:05.385951Z"
    },
    "papermill": {
     "duration": 0.068619,
     "end_time": "2022-03-04T14:16:28.512484",
     "exception": false,
     "start_time": "2022-03-04T14:16:28.443865",
     "status": "completed"
    },
    "tags": []
   },
   "outputs": [],
   "source": [
    "to_be_reduced_X = X_test\n",
    "to_be_reduced_y = y_test"
   ]
  },
  {
   "cell_type": "code",
   "execution_count": 38,
   "id": "a34121a2",
   "metadata": {
    "execution": {
     "iopub.execute_input": "2022-03-04T14:16:28.639787Z",
     "iopub.status.busy": "2022-03-04T14:16:28.639146Z",
     "iopub.status.idle": "2022-03-04T14:16:28.829542Z",
     "shell.execute_reply": "2022-03-04T14:16:28.828954Z",
     "shell.execute_reply.started": "2022-01-25T11:43:05.391695Z"
    },
    "papermill": {
     "duration": 0.255018,
     "end_time": "2022-03-04T14:16:28.829700",
     "exception": false,
     "start_time": "2022-03-04T14:16:28.574682",
     "status": "completed"
    },
    "tags": []
   },
   "outputs": [
    {
     "data": {
      "text/plain": [
       "KNeighborsClassifier()"
      ]
     },
     "execution_count": 38,
     "metadata": {},
     "output_type": "execute_result"
    }
   ],
   "source": [
    "from sklearn.inspection import permutation_importance\n",
    "from sklearn.datasets import make_classification\n",
    "\n",
    "to_be_reduced_X, to_be_reduced_y = make_classification(n_samples=len(to_be_reduced_X), n_features=len(to_be_reduced_X.columns), random_state=1)\n",
    "\n",
    "# define the model\n",
    "model = KNeighborsClassifier()\n",
    "\n",
    "# fit the model\n",
    "model.fit(to_be_reduced_X, to_be_reduced_y)"
   ]
  },
  {
   "cell_type": "code",
   "execution_count": 39,
   "id": "2b4f3779",
   "metadata": {
    "execution": {
     "iopub.execute_input": "2022-03-04T14:16:28.961266Z",
     "iopub.status.busy": "2022-03-04T14:16:28.960273Z",
     "iopub.status.idle": "2022-03-04T14:17:40.218545Z",
     "shell.execute_reply": "2022-03-04T14:17:40.217989Z",
     "shell.execute_reply.started": "2022-01-25T11:43:05.585042Z"
    },
    "papermill": {
     "duration": 71.325941,
     "end_time": "2022-03-04T14:17:40.218723",
     "exception": false,
     "start_time": "2022-03-04T14:16:28.892782",
     "status": "completed"
    },
    "tags": []
   },
   "outputs": [],
   "source": [
    "# find the feature importance\n",
    "\n",
    "results = permutation_importance(model, to_be_reduced_X, to_be_reduced_y, scoring='accuracy')\n",
    "\n",
    "importance = results.importances_mean"
   ]
  },
  {
   "cell_type": "code",
   "execution_count": 40,
   "id": "ab9b240c",
   "metadata": {
    "execution": {
     "iopub.execute_input": "2022-03-04T14:17:40.351795Z",
     "iopub.status.busy": "2022-03-04T14:17:40.350742Z",
     "iopub.status.idle": "2022-03-04T14:17:40.631922Z",
     "shell.execute_reply": "2022-03-04T14:17:40.631381Z",
     "shell.execute_reply.started": "2022-01-25T11:44:16.613862Z"
    },
    "papermill": {
     "duration": 0.35013,
     "end_time": "2022-03-04T14:17:40.632068",
     "exception": false,
     "start_time": "2022-03-04T14:17:40.281938",
     "status": "completed"
    },
    "tags": []
   },
   "outputs": [
    {
     "name": "stdout",
     "output_type": "stream",
     "text": [
      "Population : 0, Score: 0.00350\n",
      "Area : 1, Score: 0.00410\n",
      "Children : 2, Score: -0.00200\n",
      "Age : 3, Score: 0.00680\n",
      "Income : 4, Score: -0.00120\n",
      "Gender : 5, Score: 0.00450\n",
      "Outage_sec_perweek : 6, Score: 0.00430\n",
      "Email : 7, Score: 0.00740\n",
      "Contacts : 8, Score: 0.27640\n",
      "Yearly_equip_failure : 9, Score: 0.00490\n",
      "Techie : 10, Score: 0.00250\n",
      "Contract : 11, Score: 0.00330\n",
      "Port_modem : 12, Score: 0.01050\n",
      "Tablet : 13, Score: 0.00020\n",
      "InternetService : 14, Score: 0.00300\n",
      "Phone : 15, Score: -0.00120\n",
      "Multiple : 16, Score: 0.00170\n",
      "OnlineSecurity : 17, Score: 0.00540\n",
      "OnlineBackup : 18, Score: -0.00290\n",
      "DeviceProtection : 19, Score: 0.00110\n",
      "TechSupport : 20, Score: 0.00430\n",
      "StreamingTV : 21, Score: 0.00070\n",
      "StreamingMovies : 22, Score: 0.00240\n",
      "PaperlessBilling : 23, Score: 0.00460\n",
      "PaymentMethod : 24, Score: 0.00750\n",
      "Tenure : 25, Score: -0.00050\n",
      "MonthlyCharge : 26, Score: 0.00420\n",
      "Bandwidth_GB_Year : 27, Score: 0.00070\n",
      "TimelyResponse : 28, Score: 0.00920\n",
      "TimelyFixes : 29, Score: 0.00080\n",
      "TimelyReplacements : 30, Score: -0.00140\n",
      "Reliability : 31, Score: 0.00010\n",
      "Options : 32, Score: 0.00080\n",
      "RespectfulResponse : 33, Score: 0.00670\n",
      "CourteousExchange : 34, Score: 0.00340\n",
      "EvidenceOfActiveListening : 35, Score: 0.00250\n"
     ]
    },
    {
     "data": {
      "image/png": "[encoded data removed]",
      "text/plain": [
       "<Figure size 720x720 with 1 Axes>"
      ]
     },
     "metadata": {
      "needs_background": "light"
     },
     "output_type": "display_data"
    }
   ],
   "source": [
    "# summarize feature importance\n",
    "\n",
    "for i,v in enumerate(importance):\n",
    "    print(X_test.columns[i], ': %0d, Score: %.5f' % (i,v))\n",
    "    \n",
    "# plot feature importance\n",
    "plt.figure(figsize=(10, 10))\n",
    "plt.bar([x for x in range(len(importance))], importance)\n",
    "plt.show()"
   ]
  },
  {
   "cell_type": "code",
   "execution_count": 41,
   "id": "0ace7d8d",
   "metadata": {
    "execution": {
     "iopub.execute_input": "2022-03-04T14:17:40.761910Z",
     "iopub.status.busy": "2022-03-04T14:17:40.761244Z",
     "iopub.status.idle": "2022-03-04T14:17:40.771374Z",
     "shell.execute_reply": "2022-03-04T14:17:40.772291Z",
     "shell.execute_reply.started": "2022-01-25T11:44:16.906466Z"
    },
    "papermill": {
     "duration": 0.0773,
     "end_time": "2022-03-04T14:17:40.772526",
     "exception": false,
     "start_time": "2022-03-04T14:17:40.695226",
     "status": "completed"
    },
    "tags": []
   },
   "outputs": [
    {
     "name": "stdout",
     "output_type": "stream",
     "text": [
      "Population : 0, Score: 0.00350\n",
      "Area : 1, Score: 0.00410\n",
      "Age : 3, Score: 0.00680\n",
      "Gender : 5, Score: 0.00450\n",
      "Outage_sec_perweek : 6, Score: 0.00430\n",
      "Email : 7, Score: 0.00740\n",
      "Contacts : 8, Score: 0.27640\n",
      "Yearly_equip_failure : 9, Score: 0.00490\n",
      "Contract : 11, Score: 0.00330\n",
      "Port_modem : 12, Score: 0.01050\n",
      "InternetService : 14, Score: 0.00300\n",
      "OnlineSecurity : 17, Score: 0.00540\n",
      "TechSupport : 20, Score: 0.00430\n",
      "PaperlessBilling : 23, Score: 0.00460\n",
      "PaymentMethod : 24, Score: 0.00750\n",
      "MonthlyCharge : 26, Score: 0.00420\n",
      "TimelyResponse : 28, Score: 0.00920\n",
      "RespectfulResponse : 33, Score: 0.00670\n",
      "CourteousExchange : 34, Score: 0.00340\n",
      "19\n"
     ]
    }
   ],
   "source": [
    "feats = []\n",
    "for i,v in enumerate(importance):\n",
    "    if v > 0.003:\n",
    "        feats.append(X_test.columns[i])\n",
    "        print(X_test.columns[i], ': %0d, Score: %.5f' % (i,v))\n",
    "print(len(feats))"
   ]
  },
  {
   "cell_type": "code",
   "execution_count": 42,
   "id": "89fca10f",
   "metadata": {
    "execution": {
     "iopub.execute_input": "2022-03-04T14:17:40.927239Z",
     "iopub.status.busy": "2022-03-04T14:17:40.926275Z",
     "iopub.status.idle": "2022-03-04T14:17:40.934164Z",
     "shell.execute_reply": "2022-03-04T14:17:40.935070Z",
     "shell.execute_reply.started": "2022-01-25T11:44:16.918025Z"
    },
    "papermill": {
     "duration": 0.092122,
     "end_time": "2022-03-04T14:17:40.935317",
     "exception": false,
     "start_time": "2022-03-04T14:17:40.843195",
     "status": "completed"
    },
    "tags": []
   },
   "outputs": [
    {
     "data": {
      "text/plain": [
       "['Population',\n",
       " 'Area',\n",
       " 'Age',\n",
       " 'Gender',\n",
       " 'Outage_sec_perweek',\n",
       " 'Email',\n",
       " 'Contacts',\n",
       " 'Yearly_equip_failure',\n",
       " 'Contract',\n",
       " 'Port_modem',\n",
       " 'InternetService',\n",
       " 'OnlineSecurity',\n",
       " 'TechSupport',\n",
       " 'PaperlessBilling',\n",
       " 'PaymentMethod',\n",
       " 'MonthlyCharge',\n",
       " 'TimelyResponse',\n",
       " 'RespectfulResponse',\n",
       " 'CourteousExchange']"
      ]
     },
     "execution_count": 42,
     "metadata": {},
     "output_type": "execute_result"
    }
   ],
   "source": [
    "feats"
   ]
  },
  {
   "cell_type": "code",
   "execution_count": 43,
   "id": "74b596f3",
   "metadata": {
    "execution": {
     "iopub.execute_input": "2022-03-04T14:17:41.070426Z",
     "iopub.status.busy": "2022-03-04T14:17:41.069708Z",
     "iopub.status.idle": "2022-03-04T14:17:41.074428Z",
     "shell.execute_reply": "2022-03-04T14:17:41.075018Z",
     "shell.execute_reply.started": "2022-01-25T11:44:16.92951Z"
    },
    "papermill": {
     "duration": 0.073546,
     "end_time": "2022-03-04T14:17:41.075207",
     "exception": false,
     "start_time": "2022-03-04T14:17:41.001661",
     "status": "completed"
    },
    "tags": []
   },
   "outputs": [],
   "source": [
    "reduced_X_df = X_test[feats]\n",
    "reduced_y_df = y_test"
   ]
  },
  {
   "cell_type": "code",
   "execution_count": 44,
   "id": "baf8d75c",
   "metadata": {
    "execution": {
     "iopub.execute_input": "2022-03-04T14:17:41.207681Z",
     "iopub.status.busy": "2022-03-04T14:17:41.207009Z",
     "iopub.status.idle": "2022-03-04T14:17:41.234896Z",
     "shell.execute_reply": "2022-03-04T14:17:41.235442Z",
     "shell.execute_reply.started": "2022-01-25T11:44:16.941583Z"
    },
    "papermill": {
     "duration": 0.095029,
     "end_time": "2022-03-04T14:17:41.235646",
     "exception": false,
     "start_time": "2022-03-04T14:17:41.140617",
     "status": "completed"
    },
    "tags": []
   },
   "outputs": [
    {
     "data": {
      "text/html": [
       "<div>\n",
       "<style scoped>\n",
       "    .dataframe tbody tr th:only-of-type {\n",
       "        vertical-align: middle;\n",
       "    }\n",
       "\n",
       "    .dataframe tbody tr th {\n",
       "        vertical-align: top;\n",
       "    }\n",
       "\n",
       "    .dataframe thead th {\n",
       "        text-align: right;\n",
       "    }\n",
       "</style>\n",
       "<table border=\"1\" class=\"dataframe\">\n",
       "  <thead>\n",
       "    <tr style=\"text-align: right;\">\n",
       "      <th></th>\n",
       "      <th>Population</th>\n",
       "      <th>Area</th>\n",
       "      <th>Age</th>\n",
       "      <th>Gender</th>\n",
       "      <th>Outage_sec_perweek</th>\n",
       "      <th>Email</th>\n",
       "      <th>Contacts</th>\n",
       "      <th>Yearly_equip_failure</th>\n",
       "      <th>Contract</th>\n",
       "      <th>Port_modem</th>\n",
       "      <th>InternetService</th>\n",
       "      <th>OnlineSecurity</th>\n",
       "      <th>TechSupport</th>\n",
       "      <th>PaperlessBilling</th>\n",
       "      <th>PaymentMethod</th>\n",
       "      <th>MonthlyCharge</th>\n",
       "      <th>TimelyResponse</th>\n",
       "      <th>RespectfulResponse</th>\n",
       "      <th>CourteousExchange</th>\n",
       "    </tr>\n",
       "  </thead>\n",
       "  <tbody>\n",
       "    <tr>\n",
       "      <th>9394</th>\n",
       "      <td>-0.715290</td>\n",
       "      <td>-1.22591</td>\n",
       "      <td>0.286097</td>\n",
       "      <td>-0.957245</td>\n",
       "      <td>0.087226</td>\n",
       "      <td>0.325209</td>\n",
       "      <td>-1.005852</td>\n",
       "      <td>-0.625864</td>\n",
       "      <td>-0.835609</td>\n",
       "      <td>1.033770</td>\n",
       "      <td>0.181299</td>\n",
       "      <td>1.340306</td>\n",
       "      <td>1.290994</td>\n",
       "      <td>0.836721</td>\n",
       "      <td>0.396720</td>\n",
       "      <td>0.578999</td>\n",
       "      <td>-0.472948</td>\n",
       "      <td>-0.481165</td>\n",
       "      <td>-1.467742</td>\n",
       "    </tr>\n",
       "    <tr>\n",
       "      <th>898</th>\n",
       "      <td>-0.096659</td>\n",
       "      <td>1.22591</td>\n",
       "      <td>-1.501528</td>\n",
       "      <td>-0.957245</td>\n",
       "      <td>0.364507</td>\n",
       "      <td>-1.327276</td>\n",
       "      <td>-1.005852</td>\n",
       "      <td>0.946658</td>\n",
       "      <td>1.556629</td>\n",
       "      <td>-0.967333</td>\n",
       "      <td>0.181299</td>\n",
       "      <td>-0.746098</td>\n",
       "      <td>-0.774597</td>\n",
       "      <td>-1.195142</td>\n",
       "      <td>1.329960</td>\n",
       "      <td>-0.644237</td>\n",
       "      <td>-0.472948</td>\n",
       "      <td>1.453943</td>\n",
       "      <td>0.476931</td>\n",
       "    </tr>\n",
       "    <tr>\n",
       "      <th>2398</th>\n",
       "      <td>-0.715443</td>\n",
       "      <td>-1.22591</td>\n",
       "      <td>1.445638</td>\n",
       "      <td>0.881489</td>\n",
       "      <td>-1.293497</td>\n",
       "      <td>-0.996779</td>\n",
       "      <td>3.041027</td>\n",
       "      <td>-0.625864</td>\n",
       "      <td>0.360510</td>\n",
       "      <td>-0.967333</td>\n",
       "      <td>-1.177763</td>\n",
       "      <td>-0.746098</td>\n",
       "      <td>-0.774597</td>\n",
       "      <td>0.836721</td>\n",
       "      <td>-1.469759</td>\n",
       "      <td>0.640589</td>\n",
       "      <td>-1.436576</td>\n",
       "      <td>-0.481165</td>\n",
       "      <td>-1.467742</td>\n",
       "    </tr>\n",
       "    <tr>\n",
       "      <th>5906</th>\n",
       "      <td>0.433704</td>\n",
       "      <td>1.22591</td>\n",
       "      <td>-1.404900</td>\n",
       "      <td>0.881489</td>\n",
       "      <td>0.213289</td>\n",
       "      <td>-0.005288</td>\n",
       "      <td>1.017588</td>\n",
       "      <td>2.519179</td>\n",
       "      <td>-0.835609</td>\n",
       "      <td>1.033770</td>\n",
       "      <td>0.181299</td>\n",
       "      <td>1.340306</td>\n",
       "      <td>1.290994</td>\n",
       "      <td>0.836721</td>\n",
       "      <td>0.396720</td>\n",
       "      <td>0.287369</td>\n",
       "      <td>-1.436576</td>\n",
       "      <td>-0.481165</td>\n",
       "      <td>-0.495406</td>\n",
       "    </tr>\n",
       "    <tr>\n",
       "      <th>2343</th>\n",
       "      <td>-0.716357</td>\n",
       "      <td>0.00000</td>\n",
       "      <td>-1.018386</td>\n",
       "      <td>2.720222</td>\n",
       "      <td>2.312581</td>\n",
       "      <td>-0.335785</td>\n",
       "      <td>0.005868</td>\n",
       "      <td>-0.625864</td>\n",
       "      <td>-0.835609</td>\n",
       "      <td>1.033770</td>\n",
       "      <td>1.540360</td>\n",
       "      <td>1.340306</td>\n",
       "      <td>-0.774597</td>\n",
       "      <td>0.836721</td>\n",
       "      <td>0.396720</td>\n",
       "      <td>1.165656</td>\n",
       "      <td>0.490679</td>\n",
       "      <td>0.486389</td>\n",
       "      <td>1.449268</td>\n",
       "    </tr>\n",
       "    <tr>\n",
       "      <th>...</th>\n",
       "      <td>...</td>\n",
       "      <td>...</td>\n",
       "      <td>...</td>\n",
       "      <td>...</td>\n",
       "      <td>...</td>\n",
       "      <td>...</td>\n",
       "      <td>...</td>\n",
       "      <td>...</td>\n",
       "      <td>...</td>\n",
       "      <td>...</td>\n",
       "      <td>...</td>\n",
       "      <td>...</td>\n",
       "      <td>...</td>\n",
       "      <td>...</td>\n",
       "      <td>...</td>\n",
       "      <td>...</td>\n",
       "      <td>...</td>\n",
       "      <td>...</td>\n",
       "      <td>...</td>\n",
       "    </tr>\n",
       "    <tr>\n",
       "      <th>1037</th>\n",
       "      <td>1.580110</td>\n",
       "      <td>-1.22591</td>\n",
       "      <td>1.493953</td>\n",
       "      <td>-0.957245</td>\n",
       "      <td>1.113434</td>\n",
       "      <td>-0.335785</td>\n",
       "      <td>-1.005852</td>\n",
       "      <td>0.946658</td>\n",
       "      <td>1.556629</td>\n",
       "      <td>1.033770</td>\n",
       "      <td>-1.177763</td>\n",
       "      <td>-0.746098</td>\n",
       "      <td>-0.774597</td>\n",
       "      <td>0.836721</td>\n",
       "      <td>0.396720</td>\n",
       "      <td>-1.109993</td>\n",
       "      <td>0.490679</td>\n",
       "      <td>0.486389</td>\n",
       "      <td>0.476931</td>\n",
       "    </tr>\n",
       "    <tr>\n",
       "      <th>2899</th>\n",
       "      <td>0.834448</td>\n",
       "      <td>1.22591</td>\n",
       "      <td>1.397324</td>\n",
       "      <td>0.881489</td>\n",
       "      <td>0.748975</td>\n",
       "      <td>-0.996779</td>\n",
       "      <td>-1.005852</td>\n",
       "      <td>2.519179</td>\n",
       "      <td>1.556629</td>\n",
       "      <td>1.033770</td>\n",
       "      <td>1.540360</td>\n",
       "      <td>-0.746098</td>\n",
       "      <td>-0.774597</td>\n",
       "      <td>0.836721</td>\n",
       "      <td>-0.536519</td>\n",
       "      <td>-0.061892</td>\n",
       "      <td>-0.472948</td>\n",
       "      <td>-0.481165</td>\n",
       "      <td>-0.495406</td>\n",
       "    </tr>\n",
       "    <tr>\n",
       "      <th>9549</th>\n",
       "      <td>-0.500677</td>\n",
       "      <td>0.00000</td>\n",
       "      <td>1.204067</td>\n",
       "      <td>-0.957245</td>\n",
       "      <td>0.046390</td>\n",
       "      <td>-0.005288</td>\n",
       "      <td>-1.005852</td>\n",
       "      <td>0.946658</td>\n",
       "      <td>-0.835609</td>\n",
       "      <td>1.033770</td>\n",
       "      <td>0.181299</td>\n",
       "      <td>1.340306</td>\n",
       "      <td>-0.774597</td>\n",
       "      <td>0.836721</td>\n",
       "      <td>-0.536519</td>\n",
       "      <td>-0.003782</td>\n",
       "      <td>0.490679</td>\n",
       "      <td>0.486389</td>\n",
       "      <td>-0.495406</td>\n",
       "    </tr>\n",
       "    <tr>\n",
       "      <th>2740</th>\n",
       "      <td>-0.702039</td>\n",
       "      <td>0.00000</td>\n",
       "      <td>0.914182</td>\n",
       "      <td>-0.957245</td>\n",
       "      <td>0.035960</td>\n",
       "      <td>-0.666282</td>\n",
       "      <td>0.005868</td>\n",
       "      <td>0.946658</td>\n",
       "      <td>-0.835609</td>\n",
       "      <td>-0.967333</td>\n",
       "      <td>1.540360</td>\n",
       "      <td>-0.746098</td>\n",
       "      <td>1.290994</td>\n",
       "      <td>0.836721</td>\n",
       "      <td>-0.536519</td>\n",
       "      <td>-1.051440</td>\n",
       "      <td>3.381562</td>\n",
       "      <td>1.453943</td>\n",
       "      <td>0.476931</td>\n",
       "    </tr>\n",
       "    <tr>\n",
       "      <th>6690</th>\n",
       "      <td>-0.655278</td>\n",
       "      <td>1.22591</td>\n",
       "      <td>-1.598157</td>\n",
       "      <td>-0.957245</td>\n",
       "      <td>0.857410</td>\n",
       "      <td>0.655706</td>\n",
       "      <td>1.017588</td>\n",
       "      <td>0.946658</td>\n",
       "      <td>1.556629</td>\n",
       "      <td>-0.967333</td>\n",
       "      <td>0.181299</td>\n",
       "      <td>1.340306</td>\n",
       "      <td>1.290994</td>\n",
       "      <td>0.836721</td>\n",
       "      <td>-0.536519</td>\n",
       "      <td>1.103035</td>\n",
       "      <td>-1.436576</td>\n",
       "      <td>0.486389</td>\n",
       "      <td>0.476931</td>\n",
       "    </tr>\n",
       "  </tbody>\n",
       "</table>\n",
       "<p>2000 rows × 19 columns</p>\n",
       "</div>"
      ],
      "text/plain": [
       "      Population     Area       Age    Gender  Outage_sec_perweek     Email  \\\n",
       "9394   -0.715290 -1.22591  0.286097 -0.957245            0.087226  0.325209   \n",
       "898    -0.096659  1.22591 -1.501528 -0.957245            0.364507 -1.327276   \n",
       "2398   -0.715443 -1.22591  1.445638  0.881489           -1.293497 -0.996779   \n",
       "5906    0.433704  1.22591 -1.404900  0.881489            0.213289 -0.005288   \n",
       "2343   -0.716357  0.00000 -1.018386  2.720222            2.312581 -0.335785   \n",
       "...          ...      ...       ...       ...                 ...       ...   \n",
       "1037    1.580110 -1.22591  1.493953 -0.957245            1.113434 -0.335785   \n",
       "2899    0.834448  1.22591  1.397324  0.881489            0.748975 -0.996779   \n",
       "9549   -0.500677  0.00000  1.204067 -0.957245            0.046390 -0.005288   \n",
       "2740   -0.702039  0.00000  0.914182 -0.957245            0.035960 -0.666282   \n",
       "6690   -0.655278  1.22591 -1.598157 -0.957245            0.857410  0.655706   \n",
       "\n",
       "      Contacts  Yearly_equip_failure  Contract  Port_modem  InternetService  \\\n",
       "9394 -1.005852             -0.625864 -0.835609    1.033770         0.181299   \n",
       "898  -1.005852              0.946658  1.556629   -0.967333         0.181299   \n",
       "2398  3.041027             -0.625864  0.360510   -0.967333        -1.177763   \n",
       "5906  1.017588              2.519179 -0.835609    1.033770         0.181299   \n",
       "2343  0.005868             -0.625864 -0.835609    1.033770         1.540360   \n",
       "...        ...                   ...       ...         ...              ...   \n",
       "1037 -1.005852              0.946658  1.556629    1.033770        -1.177763   \n",
       "2899 -1.005852              2.519179  1.556629    1.033770         1.540360   \n",
       "9549 -1.005852              0.946658 -0.835609    1.033770         0.181299   \n",
       "2740  0.005868              0.946658 -0.835609   -0.967333         1.540360   \n",
       "6690  1.017588              0.946658  1.556629   -0.967333         0.181299   \n",
       "\n",
       "      OnlineSecurity  TechSupport  PaperlessBilling  PaymentMethod  \\\n",
       "9394        1.340306     1.290994          0.836721       0.396720   \n",
       "898        -0.746098    -0.774597         -1.195142       1.329960   \n",
       "2398       -0.746098    -0.774597          0.836721      -1.469759   \n",
       "5906        1.340306     1.290994          0.836721       0.396720   \n",
       "2343        1.340306    -0.774597          0.836721       0.396720   \n",
       "...              ...          ...               ...            ...   \n",
       "1037       -0.746098    -0.774597          0.836721       0.396720   \n",
       "2899       -0.746098    -0.774597          0.836721      -0.536519   \n",
       "9549        1.340306    -0.774597          0.836721      -0.536519   \n",
       "2740       -0.746098     1.290994          0.836721      -0.536519   \n",
       "6690        1.340306     1.290994          0.836721      -0.536519   \n",
       "\n",
       "      MonthlyCharge  TimelyResponse  RespectfulResponse  CourteousExchange  \n",
       "9394       0.578999       -0.472948           -0.481165          -1.467742  \n",
       "898       -0.644237       -0.472948            1.453943           0.476931  \n",
       "2398       0.640589       -1.436576           -0.481165          -1.467742  \n",
       "5906       0.287369       -1.436576           -0.481165          -0.495406  \n",
       "2343       1.165656        0.490679            0.486389           1.449268  \n",
       "...             ...             ...                 ...                ...  \n",
       "1037      -1.109993        0.490679            0.486389           0.476931  \n",
       "2899      -0.061892       -0.472948           -0.481165          -0.495406  \n",
       "9549      -0.003782        0.490679            0.486389          -0.495406  \n",
       "2740      -1.051440        3.381562            1.453943           0.476931  \n",
       "6690       1.103035       -1.436576            0.486389           0.476931  \n",
       "\n",
       "[2000 rows x 19 columns]"
      ]
     },
     "execution_count": 44,
     "metadata": {},
     "output_type": "execute_result"
    }
   ],
   "source": [
    "reduced_X_df"
   ]
  },
  {
   "cell_type": "code",
   "execution_count": 45,
   "id": "03ba279c",
   "metadata": {
    "execution": {
     "iopub.execute_input": "2022-03-04T14:17:41.373846Z",
     "iopub.status.busy": "2022-03-04T14:17:41.373123Z",
     "iopub.status.idle": "2022-03-04T14:17:41.378961Z",
     "shell.execute_reply": "2022-03-04T14:17:41.379648Z",
     "shell.execute_reply.started": "2022-01-25T11:44:16.978266Z"
    },
    "papermill": {
     "duration": 0.077454,
     "end_time": "2022-03-04T14:17:41.379878",
     "exception": false,
     "start_time": "2022-03-04T14:17:41.302424",
     "status": "completed"
    },
    "tags": []
   },
   "outputs": [],
   "source": [
    "reduced_X_train = X_train[feats]\n",
    "reduced_y_train = y_train"
   ]
  },
  {
   "cell_type": "code",
   "execution_count": 46,
   "id": "736e0469",
   "metadata": {
    "execution": {
     "iopub.execute_input": "2022-03-04T14:17:41.530418Z",
     "iopub.status.busy": "2022-03-04T14:17:41.517599Z",
     "iopub.status.idle": "2022-03-04T14:17:42.410634Z",
     "shell.execute_reply": "2022-03-04T14:17:42.410085Z",
     "shell.execute_reply.started": "2022-01-25T11:44:16.985801Z"
    },
    "papermill": {
     "duration": 0.964875,
     "end_time": "2022-03-04T14:17:42.410787",
     "exception": false,
     "start_time": "2022-03-04T14:17:41.445912",
     "status": "completed"
    },
    "tags": []
   },
   "outputs": [
    {
     "name": "stdout",
     "output_type": "stream",
     "text": [
      "R-squared value: 0.71\n"
     ]
    }
   ],
   "source": [
    "knn.fit(reduced_X_train, reduced_y_train)\n",
    "\n",
    "print('R-squared value:', knn.score(reduced_X_df,reduced_y_df))"
   ]
  },
  {
   "cell_type": "code",
   "execution_count": 47,
   "id": "bc5bc798",
   "metadata": {
    "execution": {
     "iopub.execute_input": "2022-03-04T14:17:42.551201Z",
     "iopub.status.busy": "2022-03-04T14:17:42.550476Z",
     "iopub.status.idle": "2022-03-04T14:17:44.216463Z",
     "shell.execute_reply": "2022-03-04T14:17:44.215918Z",
     "shell.execute_reply.started": "2022-01-25T11:44:17.823151Z"
    },
    "papermill": {
     "duration": 1.739014,
     "end_time": "2022-03-04T14:17:44.216626",
     "exception": false,
     "start_time": "2022-03-04T14:17:42.477612",
     "status": "completed"
    },
    "tags": []
   },
   "outputs": [
    {
     "name": "stdout",
     "output_type": "stream",
     "text": [
      "Initial model:\n",
      "\n",
      " Model accuracy: 0.8065 \n",
      "\n",
      " Best Possible score for MSE is 0\n",
      " MSE accuracy: 0.1935 \n",
      "\n",
      " Best Possible score for R-Squared is 1\n",
      " ('R-squared value:', 0.8065) \n",
      "\n",
      "\n",
      "\n",
      "Reduced model:\n",
      "\n",
      " Model accuracy: 0.8065\n",
      "\n",
      " Best Possible score for MSE is 0\n",
      " MSE accuracy: 0.2900\n",
      "\n",
      " Best Possible score for R-Squared is 1\n",
      " R-squared value: 0.71\n"
     ]
    }
   ],
   "source": [
    "print('Initial model:\\n\\n', \n",
    "      model_acc, \n",
    "      '\\n\\n', 'Best Possible score for MSE is 0\\n', \n",
    "      mse_acc, \n",
    "      '\\n\\n', \n",
    "      'Best Possible score for R-Squared is 1\\n', \n",
    "      r_squared, \"\\n\\n\\n\")\n",
    "\n",
    "y_pred_reduced = knn.predict(reduced_X_df)\n",
    "\n",
    "measure = le.fit_transform(y_pred_reduced)\n",
    "measure_test = le.fit_transform(reduced_y_df)\n",
    "\n",
    "mse = mean_squared_error(measure_test, measure)\n",
    "\n",
    "print('Reduced model:\\n\\n',\n",
    "      'Model accuracy: {0:0.4f}\\n\\n'. format(accuracy_score(reduced_y_df, y_pred)),\n",
    "      'Best Possible score for MSE is 0\\n',\n",
    "      'MSE accuracy: {0:0.4f}\\n\\n'. format(mse),\n",
    "      'Best Possible score for R-Squared is 1\\n',\n",
    "      'R-squared value:', knn.score(reduced_X_df,reduced_y_df)\n",
    "     )"
   ]
  },
  {
   "cell_type": "code",
   "execution_count": 48,
   "id": "15fd0900",
   "metadata": {
    "execution": {
     "iopub.execute_input": "2022-03-04T14:17:44.417293Z",
     "iopub.status.busy": "2022-03-04T14:17:44.391412Z",
     "iopub.status.idle": "2022-03-04T14:17:44.464765Z",
     "shell.execute_reply": "2022-03-04T14:17:44.464178Z",
     "shell.execute_reply.started": "2022-01-25T11:44:19.390127Z"
    },
    "papermill": {
     "duration": 0.180071,
     "end_time": "2022-03-04T14:17:44.464907",
     "exception": false,
     "start_time": "2022-03-04T14:17:44.284836",
     "status": "completed"
    },
    "tags": []
   },
   "outputs": [
    {
     "name": "stdout",
     "output_type": "stream",
     "text": [
      "Initial model report:\n",
      "               precision    recall  f1-score   support\n",
      "\n",
      "          No       0.86      0.89      0.87      1486\n",
      "         Yes       0.64      0.58      0.61       514\n",
      "\n",
      "    accuracy                           0.81      2000\n",
      "   macro avg       0.75      0.73      0.74      2000\n",
      "weighted avg       0.80      0.81      0.80      2000\n",
      " \n",
      "\n",
      "\n",
      " Reduced model report:\n",
      "               precision    recall  f1-score   support\n",
      "\n",
      "          No       0.78      0.85      0.81      1486\n",
      "         Yes       0.41      0.31      0.36       514\n",
      "\n",
      "    accuracy                           0.71      2000\n",
      "   macro avg       0.60      0.58      0.58      2000\n",
      "weighted avg       0.69      0.71      0.70      2000\n",
      "\n"
     ]
    }
   ],
   "source": [
    "# classification metrics\n",
    "\n",
    "initial_model_report\n",
    "\n",
    "reduced_model_report = classification_report(reduced_y_df, y_pred_reduced)\n",
    "\n",
    "print(\"Initial model report:\\n\", initial_model_report, \"\\n\\n\\n\", \"Reduced model report:\\n\", reduced_model_report)"
   ]
  },
  {
   "cell_type": "code",
   "execution_count": 49,
   "id": "9ca6115d",
   "metadata": {
    "execution": {
     "iopub.execute_input": "2022-03-04T14:17:44.607464Z",
     "iopub.status.busy": "2022-03-04T14:17:44.606826Z",
     "iopub.status.idle": "2022-03-04T14:17:45.493899Z",
     "shell.execute_reply": "2022-03-04T14:17:45.493227Z",
     "shell.execute_reply.started": "2022-01-25T11:44:19.500415Z"
    },
    "papermill": {
     "duration": 0.961972,
     "end_time": "2022-03-04T14:17:45.494059",
     "exception": false,
     "start_time": "2022-03-04T14:17:44.532087",
     "status": "completed"
    },
    "tags": []
   },
   "outputs": [
    {
     "data": {
      "text/plain": [
       "Churn\n",
       "No       1614\n",
       "Yes       386\n",
       "dtype: int64"
      ]
     },
     "execution_count": 49,
     "metadata": {},
     "output_type": "execute_result"
    }
   ],
   "source": [
    "y_pred_reduced = knn.predict(reduced_X_df)\n",
    "y_pred_reduced = pd.DataFrame({'Churn': y_pred_reduced})\n",
    "y_pred_reduced.value_counts()"
   ]
  },
  {
   "cell_type": "markdown",
   "id": "de959801",
   "metadata": {
    "papermill": {
     "duration": 0.066881,
     "end_time": "2022-03-04T14:17:45.628850",
     "exception": false,
     "start_time": "2022-03-04T14:17:45.561969",
     "status": "completed"
    },
    "tags": []
   },
   "source": [
    "#### E2.  Results and implications\n",
    "    * In the results from the analysis we found in a sample size of 2000 that 497 customers are predicted to churn. \n",
    "    * We oddly found that the contacts variable had the highest importance of all the features. \n",
    "    * The implication that we ran into is that the model actually ran better with more features than less. The made an initial model and found the most important features, then removed the unimportant features and the model was less accurate and had a worst MSE.\n",
    "    * The most important features were:\n",
    "     'Area',\n",
    "     'Age',\n",
    "     'Gender',\n",
    "     'Outage_sec_perweek',\n",
    "     'Email',\n",
    "     'Contacts',\n",
    "     'Yearly_equip_failure',\n",
    "     'Contract',\n",
    "     'Port_modem',\n",
    "     'Tablet',\n",
    "     'PaperlessBilling',\n",
    "     'PaymentMethod',\n",
    "     'MonthlyCharge',\n",
    "     'TimelyResponse',\n",
    "     'RespectfulResponse'\n",
    "    \n",
    "### E3.  Discuss one limitation of your data analysis.\n",
    "    * This technique could be really time consuming because of all the different variables (not features) of the model that could be configured. K can be altered, which can requires for the model to be ran every time and the feature finding algo required quite a bit of computational power. \n",
    "\n",
    "### E4.  Recommendation\n",
    "    * Based off of the information gained from the analysis, the top 3 features to the customers are the amount of contacts the customer has, if they customer has a port modem, and the kind of payment method the customer has; meaning that the company needs to focus on these features to keep the customers from churning. The accuracy of the model was not incredibly accurate, so I would recommend additional analysis with other techniques.\n",
    "    \n",
    " \n",
    "\n",
    "## Part VI: Demonstration\n",
    "\n",
    "F.  Panopto video:\n",
    " https://wgu.hosted.panopto.com/Panopto/Pages/Viewer.aspx?id=163ba291-0efe-4e87-9d4b-ae240168826b\n",
    "\n",
    "G.  Third party code:\n",
    "\n",
    "SciKit-Learn (2022). sklearn.neighbors.KNeighborsClassifier. Scikit Learn. https://scikit-learn.org/stable/modules/generated/sklearn.neighbors.KNeighborsClassifier.html\n",
    "\n",
    "H.  References:\n",
    "Bhandari, A. (2020). AUC-ROC Curve in Machine Learning Clearly Explained. Analytics Vidhya https://www.analyticsvidhya.com/blog/2020/06/auc-roc-curve-machine-learning/\n",
    "\n",
    "Thirumuruganathan, S. (2010). A Detailed Introduction to K-Nearest Neighbor (KNN) Algorithm. Wordpress. https://saravananthirumuruganathan.wordpress.com/2010/05/17/a-detailed-introduction-to-k-nearest-neighbor-knn-algorithm/"
   ]
  }
 ],
 "metadata": {
  "kernelspec": {
   "display_name": "Python 3",
   "language": "python",
   "name": "python3"
  },
  "language_info": {
   "codemirror_mode": {
    "name": "ipython",
    "version": 3
   },
   "file_extension": ".py",
   "mimetype": "text/x-python",
   "name": "python",
   "nbconvert_exporter": "python",
   "pygments_lexer": "ipython3",
   "version": "3.7.12"
  },
  "papermill": {
   "default_parameters": {},
   "duration": 102.48629,
   "end_time": "2022-03-04T14:17:46.508550",
   "environment_variables": {},
   "exception": null,
   "input_path": "__notebook__.ipynb",
   "output_path": "__notebook__.ipynb",
   "parameters": {},
   "start_time": "2022-03-04T14:16:04.022260",
   "version": "2.3.3"
  }
 },
 "nbformat": 4,
 "nbformat_minor": 5
}
