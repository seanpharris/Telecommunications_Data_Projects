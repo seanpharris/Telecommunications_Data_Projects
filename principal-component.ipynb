{
 "cells": [
  {
   "cell_type": "markdown",
   "id": "40460bc8",
   "metadata": {
    "papermill": {
     "duration": 0.0433,
     "end_time": "2022-03-17T10:30:03.754826",
     "exception": false,
     "start_time": "2022-03-17T10:30:03.711526",
     "status": "completed"
    },
    "tags": []
   },
   "source": [
    "# Sean Pharris\n",
    "# March 16, 2022\n",
    "# PCA"
   ]
  },
  {
   "cell_type": "code",
   "execution_count": 1,
   "id": "1ab2a18b",
   "metadata": {
    "_cell_guid": "b1076dfc-b9ad-4769-8c92-a6c4dae69d19",
    "_uuid": "8f2839f25d086af736a60e9eeb907d3b93b6e0e5",
    "execution": {
     "iopub.execute_input": "2022-03-17T10:30:03.858114Z",
     "iopub.status.busy": "2022-03-17T10:30:03.857342Z",
     "iopub.status.idle": "2022-03-17T10:30:05.564487Z",
     "shell.execute_reply": "2022-03-17T10:30:05.565125Z",
     "shell.execute_reply.started": "2022-03-16T11:42:58.648248Z"
    },
    "papermill": {
     "duration": 1.765842,
     "end_time": "2022-03-17T10:30:05.565486",
     "exception": false,
     "start_time": "2022-03-17T10:30:03.799644",
     "status": "completed"
    },
    "tags": []
   },
   "outputs": [
    {
     "name": "stdout",
     "output_type": "stream",
     "text": [
      "/kaggle/input/clean-churn-data/churn_clean.csv\n",
      "/kaggle/input/clean-churn-data/D207 D208 D209 Churn Data Consideration and Dictionary.pdf\n"
     ]
    }
   ],
   "source": [
    "import numpy as np # linear algebra\n",
    "import pandas as pd # data processing, CSV file I/O (e.g. pd.read_csv)\n",
    "import sklearn.preprocessing as preprocessing\n",
    "from sklearn.preprocessing import StandardScaler\n",
    "from sklearn.decomposition import PCA\n",
    "from sklearn.model_selection import train_test_split\n",
    "import seaborn as sns\n",
    "sns.set()\n",
    "\n",
    "import warnings\n",
    "warnings.filterwarnings('ignore')\n",
    "\n",
    "import os\n",
    "for dirname, _, filenames in os.walk('/kaggle/input'):\n",
    "    for filename in filenames:\n",
    "        print(os.path.join(dirname, filename))"
   ]
  },
  {
   "cell_type": "markdown",
   "id": "d8c811cc",
   "metadata": {
    "papermill": {
     "duration": 0.04502,
     "end_time": "2022-03-17T10:30:05.652195",
     "exception": false,
     "start_time": "2022-03-17T10:30:05.607175",
     "status": "completed"
    },
    "tags": []
   },
   "source": [
    "A. \n",
    "\n",
    "1. Which variables explain the most variance when it comes to customer churn?\n",
    "\n",
    "2. The goal of the data analysis is to determine which components of the data set explain the most variance in customer churn. These variables will represent the major factors that customers care about in the service.\n",
    " \n",
    "\n",
    "\n",
    "B.  \n",
    "\n",
    "1.  PCA analyzes all variables and their explained variance based on their influence of the overall data. After conducting the PCA, we can expect to find the overall sum of variance and each individual variance per feature.\n",
    "\n",
    "2.  Assumption:\n",
    "    * We will encode and normalize the data to make sure all data is continuous because it is required for analysis. We can assume that Yes/No variables will have less of an impact on the overall analysis. \n",
    "\n",
    "\n",
    "\n",
    "C.  \n",
    "\n",
    "1. \n",
    "\n",
    "Continuous:\n",
    "\n",
    "'Population', 'Children', 'Age', 'Income', 'Outage_sec_perweek', 'Email', 'Contacts', 'Yearly_equip_failure', 'Tenure', 'MonthlyCharge', 'Bandwidth_GB_Year', 'TimelyResponse', 'TimelyFixes', 'TimelyReplacements', 'Reliability', 'Options', 'RespectfulResponse', 'CourteousExchange', 'EvidenceOfActiveListening'\n",
    "\n",
    "\n",
    "2. See code below to find standardization of continuous data set variables.\n",
    "\n",
    "C1.  To see cleaned data set, see attachment \"K-means_cluster_churn.csv\"."
   ]
  },
  {
   "cell_type": "markdown",
   "id": "9c7bc275",
   "metadata": {
    "papermill": {
     "duration": 0.043114,
     "end_time": "2022-03-17T10:30:05.739534",
     "exception": false,
     "start_time": "2022-03-17T10:30:05.696420",
     "status": "completed"
    },
    "tags": []
   },
   "source": [
    "# Data preparation"
   ]
  },
  {
   "cell_type": "markdown",
   "id": "78fe60ac",
   "metadata": {
    "papermill": {
     "duration": 0.04257,
     "end_time": "2022-03-17T10:30:05.826289",
     "exception": false,
     "start_time": "2022-03-17T10:30:05.783719",
     "status": "completed"
    },
    "tags": []
   },
   "source": [
    "### Step 1: Read data in to data frame"
   ]
  },
  {
   "cell_type": "code",
   "execution_count": 2,
   "id": "c69c68c5",
   "metadata": {
    "execution": {
     "iopub.execute_input": "2022-03-17T10:30:05.913161Z",
     "iopub.status.busy": "2022-03-17T10:30:05.912291Z",
     "iopub.status.idle": "2022-03-17T10:30:06.173198Z",
     "shell.execute_reply": "2022-03-17T10:30:06.173821Z",
     "shell.execute_reply.started": "2022-03-16T11:42:58.661471Z"
    },
    "papermill": {
     "duration": 0.303686,
     "end_time": "2022-03-17T10:30:06.174019",
     "exception": false,
     "start_time": "2022-03-17T10:30:05.870333",
     "status": "completed"
    },
    "tags": []
   },
   "outputs": [],
   "source": [
    "# Read in data set into the data frame \n",
    "df = pd.read_csv('../input/clean-churn-data/churn_clean.csv')"
   ]
  },
  {
   "cell_type": "markdown",
   "id": "cd0404ab",
   "metadata": {
    "papermill": {
     "duration": 0.03974,
     "end_time": "2022-03-17T10:30:06.254790",
     "exception": false,
     "start_time": "2022-03-17T10:30:06.215050",
     "status": "completed"
    },
    "tags": []
   },
   "source": [
    "### Step 2: Drop unneeded columns"
   ]
  },
  {
   "cell_type": "code",
   "execution_count": 3,
   "id": "b3e468e8",
   "metadata": {
    "execution": {
     "iopub.execute_input": "2022-03-17T10:30:06.349740Z",
     "iopub.status.busy": "2022-03-17T10:30:06.347139Z",
     "iopub.status.idle": "2022-03-17T10:30:06.358009Z",
     "shell.execute_reply": "2022-03-17T10:30:06.358556Z",
     "shell.execute_reply.started": "2022-03-16T11:42:58.741774Z"
    },
    "papermill": {
     "duration": 0.062256,
     "end_time": "2022-03-17T10:30:06.358776",
     "exception": false,
     "start_time": "2022-03-17T10:30:06.296520",
     "status": "completed"
    },
    "tags": []
   },
   "outputs": [],
   "source": [
    "# Drop unnecessary columns\n",
    "df.drop(columns=['CaseOrder','UID', 'Customer_id','Interaction', 'Job','State','City','County','Zip','Lat','Lng', 'TimeZone', 'Marital', 'Area', 'Gender', 'Churn', 'Techie', 'Contract', 'Port_modem', 'Tablet', 'InternetService', 'Phone', 'Multiple', 'OnlineSecurity', 'OnlineBackup', 'DeviceProtection', 'TechSupport', 'StreamingTV', 'StreamingMovies', 'PaperlessBilling', 'PaymentMethod'], inplace=True)"
   ]
  },
  {
   "cell_type": "markdown",
   "id": "d9c32b52",
   "metadata": {
    "papermill": {
     "duration": 0.04007,
     "end_time": "2022-03-17T10:30:06.438375",
     "exception": false,
     "start_time": "2022-03-17T10:30:06.398305",
     "status": "completed"
    },
    "tags": []
   },
   "source": [
    "### Step 3: Change column name"
   ]
  },
  {
   "cell_type": "code",
   "execution_count": 4,
   "id": "1e55c3b7",
   "metadata": {
    "execution": {
     "iopub.execute_input": "2022-03-17T10:30:06.524992Z",
     "iopub.status.busy": "2022-03-17T10:30:06.524091Z",
     "iopub.status.idle": "2022-03-17T10:30:06.529811Z",
     "shell.execute_reply": "2022-03-17T10:30:06.530334Z",
     "shell.execute_reply.started": "2022-03-16T11:42:58.751249Z"
    },
    "papermill": {
     "duration": 0.050691,
     "end_time": "2022-03-17T10:30:06.530514",
     "exception": false,
     "start_time": "2022-03-17T10:30:06.479823",
     "status": "completed"
    },
    "tags": []
   },
   "outputs": [],
   "source": [
    "# Renaming the survey columns\n",
    "df.rename(columns = {'Item1':'TimelyResponse', \n",
    "                    'Item2':'TimelyFixes', \n",
    "                     'Item3':'TimelyReplacements', \n",
    "                     'Item4':'Reliability', \n",
    "                     'Item5':'Options', \n",
    "                     'Item6':'RespectfulResponse', \n",
    "                     'Item7':'CourteousExchange', \n",
    "                     'Item8':'EvidenceOfActiveListening'}, \n",
    "          inplace=True)"
   ]
  },
  {
   "cell_type": "markdown",
   "id": "a8c32efa",
   "metadata": {
    "papermill": {
     "duration": 0.037446,
     "end_time": "2022-03-17T10:30:06.611670",
     "exception": false,
     "start_time": "2022-03-17T10:30:06.574224",
     "status": "completed"
    },
    "tags": []
   },
   "source": [
    "### Step 4: Check for null values"
   ]
  },
  {
   "cell_type": "code",
   "execution_count": 5,
   "id": "369f880c",
   "metadata": {
    "execution": {
     "iopub.execute_input": "2022-03-17T10:30:06.699480Z",
     "iopub.status.busy": "2022-03-17T10:30:06.698796Z",
     "iopub.status.idle": "2022-03-17T10:30:06.715937Z",
     "shell.execute_reply": "2022-03-17T10:30:06.716632Z",
     "shell.execute_reply.started": "2022-03-16T11:42:58.768124Z"
    },
    "papermill": {
     "duration": 0.062557,
     "end_time": "2022-03-17T10:30:06.716857",
     "exception": false,
     "start_time": "2022-03-17T10:30:06.654300",
     "status": "completed"
    },
    "tags": []
   },
   "outputs": [
    {
     "data": {
      "text/plain": [
       "Population                   0\n",
       "Children                     0\n",
       "Age                          0\n",
       "Income                       0\n",
       "Outage_sec_perweek           0\n",
       "Email                        0\n",
       "Contacts                     0\n",
       "Yearly_equip_failure         0\n",
       "Tenure                       0\n",
       "MonthlyCharge                0\n",
       "Bandwidth_GB_Year            0\n",
       "TimelyResponse               0\n",
       "TimelyFixes                  0\n",
       "TimelyReplacements           0\n",
       "Reliability                  0\n",
       "Options                      0\n",
       "RespectfulResponse           0\n",
       "CourteousExchange            0\n",
       "EvidenceOfActiveListening    0\n",
       "dtype: int64"
      ]
     },
     "execution_count": 5,
     "metadata": {},
     "output_type": "execute_result"
    }
   ],
   "source": [
    "df.isnull().sum()"
   ]
  },
  {
   "cell_type": "markdown",
   "id": "2a926548",
   "metadata": {
    "papermill": {
     "duration": 0.044059,
     "end_time": "2022-03-17T10:30:06.806366",
     "exception": false,
     "start_time": "2022-03-17T10:30:06.762307",
     "status": "completed"
    },
    "tags": []
   },
   "source": [
    "### Step 5: Create dummy variables for categorical data types"
   ]
  },
  {
   "cell_type": "code",
   "execution_count": 6,
   "id": "8aec912b",
   "metadata": {
    "execution": {
     "iopub.execute_input": "2022-03-17T10:30:06.901109Z",
     "iopub.status.busy": "2022-03-17T10:30:06.900258Z",
     "iopub.status.idle": "2022-03-17T10:30:06.904741Z",
     "shell.execute_reply": "2022-03-17T10:30:06.905284Z",
     "shell.execute_reply.started": "2022-03-16T11:42:58.786998Z"
    },
    "papermill": {
     "duration": 0.057216,
     "end_time": "2022-03-17T10:30:06.905506",
     "exception": false,
     "start_time": "2022-03-17T10:30:06.848290",
     "status": "completed"
    },
    "tags": []
   },
   "outputs": [
    {
     "name": "stdout",
     "output_type": "stream",
     "text": [
      "There are 0 categorical variables\n",
      "\n",
      "The categorical variables are : []\n"
     ]
    }
   ],
   "source": [
    "# find categorical variables\n",
    "\n",
    "categorical = [var for var in df.columns if df[var].dtype=='O']\n",
    "\n",
    "print('There are {} categorical variables\\n'.format(len(categorical)))\n",
    "\n",
    "print('The categorical variables are :', categorical)"
   ]
  },
  {
   "cell_type": "code",
   "execution_count": 7,
   "id": "4be95210",
   "metadata": {
    "execution": {
     "iopub.execute_input": "2022-03-17T10:30:06.995241Z",
     "iopub.status.busy": "2022-03-17T10:30:06.994535Z",
     "iopub.status.idle": "2022-03-17T10:30:07.001091Z",
     "shell.execute_reply": "2022-03-17T10:30:07.000468Z",
     "shell.execute_reply.started": "2022-03-16T11:42:58.797969Z"
    },
    "papermill": {
     "duration": 0.051331,
     "end_time": "2022-03-17T10:30:07.001269",
     "exception": false,
     "start_time": "2022-03-17T10:30:06.949938",
     "status": "completed"
    },
    "tags": []
   },
   "outputs": [
    {
     "name": "stdout",
     "output_type": "stream",
     "text": [
      "[]\n"
     ]
    }
   ],
   "source": [
    "# view the categorical variables\n",
    "\n",
    "print(categorical)"
   ]
  },
  {
   "cell_type": "code",
   "execution_count": 8,
   "id": "ec1862a2",
   "metadata": {
    "execution": {
     "iopub.execute_input": "2022-03-17T10:30:07.095558Z",
     "iopub.status.busy": "2022-03-17T10:30:07.094875Z",
     "iopub.status.idle": "2022-03-17T10:30:07.120924Z",
     "shell.execute_reply": "2022-03-17T10:30:07.119952Z",
     "shell.execute_reply.started": "2022-03-16T11:42:58.811295Z"
    },
    "papermill": {
     "duration": 0.073937,
     "end_time": "2022-03-17T10:30:07.121307",
     "exception": false,
     "start_time": "2022-03-17T10:30:07.047370",
     "status": "completed"
    },
    "tags": []
   },
   "outputs": [
    {
     "name": "stdout",
     "output_type": "stream",
     "text": [
      "Population  contains  5933  labels\n",
      "Children  contains  11  labels\n",
      "Age  contains  72  labels\n",
      "Income  contains  9993  labels\n",
      "Outage_sec_perweek  contains  9986  labels\n",
      "Email  contains  23  labels\n",
      "Contacts  contains  8  labels\n",
      "Yearly_equip_failure  contains  6  labels\n",
      "Tenure  contains  9996  labels\n",
      "MonthlyCharge  contains  750  labels\n",
      "Bandwidth_GB_Year  contains  10000  labels\n",
      "TimelyResponse  contains  7  labels\n",
      "TimelyFixes  contains  7  labels\n",
      "TimelyReplacements  contains  8  labels\n",
      "Reliability  contains  7  labels\n",
      "Options  contains  7  labels\n",
      "RespectfulResponse  contains  8  labels\n",
      "CourteousExchange  contains  7  labels\n",
      "EvidenceOfActiveListening  contains  8  labels\n"
     ]
    }
   ],
   "source": [
    "# check for cardinality in categorical variables\n",
    "\n",
    "for var in df:\n",
    "    print(var, ' contains ', len(df[var].unique()), ' labels')"
   ]
  },
  {
   "cell_type": "code",
   "execution_count": 9,
   "id": "5dff83e2",
   "metadata": {
    "execution": {
     "iopub.execute_input": "2022-03-17T10:30:07.216842Z",
     "iopub.status.busy": "2022-03-17T10:30:07.215834Z",
     "iopub.status.idle": "2022-03-17T10:30:07.220047Z",
     "shell.execute_reply": "2022-03-17T10:30:07.220595Z",
     "shell.execute_reply.started": "2022-03-16T11:42:58.841557Z"
    },
    "papermill": {
     "duration": 0.056421,
     "end_time": "2022-03-17T10:30:07.220810",
     "exception": false,
     "start_time": "2022-03-17T10:30:07.164389",
     "status": "completed"
    },
    "tags": []
   },
   "outputs": [
    {
     "name": "stdout",
     "output_type": "stream",
     "text": [
      "There are 19 numerical variables\n",
      "\n",
      "The numerical variables are : ['Population', 'Children', 'Age', 'Income', 'Outage_sec_perweek', 'Email', 'Contacts', 'Yearly_equip_failure', 'Tenure', 'MonthlyCharge', 'Bandwidth_GB_Year', 'TimelyResponse', 'TimelyFixes', 'TimelyReplacements', 'Reliability', 'Options', 'RespectfulResponse', 'CourteousExchange', 'EvidenceOfActiveListening']\n"
     ]
    }
   ],
   "source": [
    "# find numerical variables\n",
    "\n",
    "numerical = [var for var in df.columns if df[var].dtype!='O']\n",
    "\n",
    "print('There are {} numerical variables\\n'.format(len(numerical)))\n",
    "\n",
    "print('The numerical variables are :', numerical)"
   ]
  },
  {
   "cell_type": "markdown",
   "id": "b4929af9",
   "metadata": {
    "papermill": {
     "duration": 0.043942,
     "end_time": "2022-03-17T10:30:07.309156",
     "exception": false,
     "start_time": "2022-03-17T10:30:07.265214",
     "status": "completed"
    },
    "tags": []
   },
   "source": [
    "### Step 6: Remove outliers"
   ]
  },
  {
   "cell_type": "code",
   "execution_count": 10,
   "id": "3ea0d94e",
   "metadata": {
    "execution": {
     "iopub.execute_input": "2022-03-17T10:30:07.404220Z",
     "iopub.status.busy": "2022-03-17T10:30:07.403517Z",
     "iopub.status.idle": "2022-03-17T10:30:07.486467Z",
     "shell.execute_reply": "2022-03-17T10:30:07.485426Z",
     "shell.execute_reply.started": "2022-03-16T11:42:58.8492Z"
    },
    "papermill": {
     "duration": 0.135823,
     "end_time": "2022-03-17T10:30:07.486938",
     "exception": false,
     "start_time": "2022-03-17T10:30:07.351115",
     "status": "completed"
    },
    "tags": []
   },
   "outputs": [
    {
     "name": "stdout",
     "output_type": "stream",
     "text": [
      "       Population  Children      Age    Income  Outage_sec_perweek    Email  \\\n",
      "count     10000.0   10000.0  10000.0   10000.0             10000.0  10000.0   \n",
      "mean       9757.0       2.0     53.0   39807.0                10.0     12.0   \n",
      "std       14433.0       2.0     21.0   28200.0                 3.0      3.0   \n",
      "min           0.0       0.0     18.0     349.0                 0.0      1.0   \n",
      "25%         738.0       0.0     35.0   19225.0                 8.0     10.0   \n",
      "50%        2910.0       1.0     53.0   33171.0                10.0     12.0   \n",
      "75%       13168.0       3.0     71.0   53246.0                12.0     14.0   \n",
      "max      111850.0      10.0     89.0  258901.0                21.0     23.0   \n",
      "\n",
      "       Contacts  Yearly_equip_failure   Tenure  MonthlyCharge  \\\n",
      "count   10000.0               10000.0  10000.0        10000.0   \n",
      "mean        1.0                   0.0     35.0          173.0   \n",
      "std         1.0                   1.0     26.0           43.0   \n",
      "min         0.0                   0.0      1.0           80.0   \n",
      "25%         0.0                   0.0      8.0          140.0   \n",
      "50%         1.0                   0.0     35.0          167.0   \n",
      "75%         2.0                   1.0     61.0          201.0   \n",
      "max         7.0                   6.0     72.0          290.0   \n",
      "\n",
      "       Bandwidth_GB_Year  TimelyResponse  TimelyFixes  TimelyReplacements  \\\n",
      "count            10000.0         10000.0      10000.0             10000.0   \n",
      "mean              3392.0             3.0          4.0                 3.0   \n",
      "std               2185.0             1.0          1.0                 1.0   \n",
      "min                156.0             1.0          1.0                 1.0   \n",
      "25%               1236.0             3.0          3.0                 3.0   \n",
      "50%               3280.0             3.0          4.0                 3.0   \n",
      "75%               5586.0             4.0          4.0                 4.0   \n",
      "max               7159.0             7.0          7.0                 8.0   \n",
      "\n",
      "       Reliability  Options  RespectfulResponse  CourteousExchange  \\\n",
      "count      10000.0  10000.0             10000.0            10000.0   \n",
      "mean           3.0      3.0                 3.0                4.0   \n",
      "std            1.0      1.0                 1.0                1.0   \n",
      "min            1.0      1.0                 1.0                1.0   \n",
      "25%            3.0      3.0                 3.0                3.0   \n",
      "50%            3.0      3.0                 3.0                4.0   \n",
      "75%            4.0      4.0                 4.0                4.0   \n",
      "max            7.0      7.0                 8.0                7.0   \n",
      "\n",
      "       EvidenceOfActiveListening  \n",
      "count                    10000.0  \n",
      "mean                         3.0  \n",
      "std                          1.0  \n",
      "min                          1.0  \n",
      "25%                          3.0  \n",
      "50%                          3.0  \n",
      "75%                          4.0  \n",
      "max                          8.0   2\n"
     ]
    }
   ],
   "source": [
    "# view summary statistics in numerical variables\n",
    "\n",
    "print(round(df.describe()),2)"
   ]
  },
  {
   "cell_type": "code",
   "execution_count": 11,
   "id": "6a3dbba1",
   "metadata": {
    "execution": {
     "iopub.execute_input": "2022-03-17T10:30:07.590475Z",
     "iopub.status.busy": "2022-03-17T10:30:07.589469Z",
     "iopub.status.idle": "2022-03-17T10:30:08.242782Z",
     "shell.execute_reply": "2022-03-17T10:30:08.242093Z",
     "shell.execute_reply.started": "2022-03-16T11:42:58.911848Z"
    },
    "papermill": {
     "duration": 0.712051,
     "end_time": "2022-03-17T10:30:08.242936",
     "exception": false,
     "start_time": "2022-03-17T10:30:07.530885",
     "status": "completed"
    },
    "tags": []
   },
   "outputs": [
    {
     "data": {
      "text/plain": [
       "Text(0, 0.5, 'Bandwidth_GB_Year')"
      ]
     },
     "execution_count": 11,
     "metadata": {},
     "output_type": "execute_result"
    },
    {
     "data": {
      "image/png": "[encoded data removed]",
      "text/plain": [
       "<Figure size 1080x720 with 3 Axes>"
      ]
     },
     "metadata": {},
     "output_type": "display_data"
    }
   ],
   "source": [
    "# draw boxplots to visualize outliers\n",
    "import matplotlib.pyplot as plt\n",
    "\n",
    "plt.figure(figsize=(15,10))\n",
    "\n",
    "\n",
    "plt.subplot(2, 2, 1)\n",
    "fig = df.boxplot(column='Population')\n",
    "fig.set_title('')\n",
    "fig.set_ylabel('Population')\n",
    "\n",
    "\n",
    "plt.subplot(2, 2, 2)\n",
    "fig = df.boxplot(column='Income')\n",
    "fig.set_title('')\n",
    "fig.set_ylabel('Income')\n",
    "\n",
    "\n",
    "plt.subplot(2, 2, 3)\n",
    "fig = df.boxplot(column='Bandwidth_GB_Year')\n",
    "fig.set_title('')\n",
    "fig.set_ylabel('Bandwidth_GB_Year')"
   ]
  },
  {
   "cell_type": "code",
   "execution_count": 12,
   "id": "effe102f",
   "metadata": {
    "execution": {
     "iopub.execute_input": "2022-03-17T10:30:08.344007Z",
     "iopub.status.busy": "2022-03-17T10:30:08.343317Z",
     "iopub.status.idle": "2022-03-17T10:30:09.224406Z",
     "shell.execute_reply": "2022-03-17T10:30:09.223350Z",
     "shell.execute_reply.started": "2022-03-16T11:42:59.301343Z"
    },
    "papermill": {
     "duration": 0.935763,
     "end_time": "2022-03-17T10:30:09.224706",
     "exception": false,
     "start_time": "2022-03-17T10:30:08.288943",
     "status": "completed"
    },
    "tags": []
   },
   "outputs": [
    {
     "data": {
      "text/plain": [
       "Text(0, 0.5, 'Churn')"
      ]
     },
     "execution_count": 12,
     "metadata": {},
     "output_type": "execute_result"
    },
    {
     "data": {
      "image/png": "[encoded data removed]",
      "text/plain": [
       "<Figure size 1080x720 with 3 Axes>"
      ]
     },
     "metadata": {},
     "output_type": "display_data"
    }
   ],
   "source": [
    "# plot histogram to check distribution\n",
    "\n",
    "plt.figure(figsize=(15,10))\n",
    "\n",
    "\n",
    "plt.subplot(2, 2, 1)\n",
    "fig = df.Population.hist(bins=10)\n",
    "fig.set_xlabel('Population')\n",
    "fig.set_ylabel('Churn')\n",
    "\n",
    "\n",
    "plt.subplot(2, 2, 2)\n",
    "fig = df.Income.hist(bins=10)\n",
    "fig.set_xlabel('Income')\n",
    "fig.set_ylabel('Churn')\n",
    "\n",
    "\n",
    "plt.subplot(2, 2, 3)\n",
    "fig = df.Bandwidth_GB_Year.hist(bins=10)\n",
    "fig.set_xlabel('Bandwidth_GB_Year')\n",
    "fig.set_ylabel('Churn')"
   ]
  },
  {
   "cell_type": "code",
   "execution_count": 13,
   "id": "b3dad720",
   "metadata": {
    "execution": {
     "iopub.execute_input": "2022-03-17T10:30:09.339129Z",
     "iopub.status.busy": "2022-03-17T10:30:09.338362Z",
     "iopub.status.idle": "2022-03-17T10:30:09.349706Z",
     "shell.execute_reply": "2022-03-17T10:30:09.350556Z",
     "shell.execute_reply.started": "2022-03-16T11:42:59.885019Z"
    },
    "papermill": {
     "duration": 0.074539,
     "end_time": "2022-03-17T10:30:09.350791",
     "exception": false,
     "start_time": "2022-03-17T10:30:09.276252",
     "status": "completed"
    },
    "tags": []
   },
   "outputs": [
    {
     "name": "stdout",
     "output_type": "stream",
     "text": [
      "Population outliers are values < -36552.0 or > 50458.0\n"
     ]
    }
   ],
   "source": [
    "# find outliers for Population\n",
    "\n",
    "IQR = df.Population.quantile(0.75) - df.Population.quantile(0.25)\n",
    "lower = df.Population.quantile(0.25) - (IQR * 3)\n",
    "upper = df.Population.quantile(0.75) + (IQR * 3)\n",
    "print('Population outliers are values < {lowerboundary} or > {upperboundary}'.format(lowerboundary=lower, upperboundary=upper))"
   ]
  },
  {
   "cell_type": "code",
   "execution_count": 14,
   "id": "a74f2a1f",
   "metadata": {
    "execution": {
     "iopub.execute_input": "2022-03-17T10:30:09.458924Z",
     "iopub.status.busy": "2022-03-17T10:30:09.457792Z",
     "iopub.status.idle": "2022-03-17T10:30:09.468698Z",
     "shell.execute_reply": "2022-03-17T10:30:09.468074Z",
     "shell.execute_reply.started": "2022-03-16T11:42:59.896916Z"
    },
    "papermill": {
     "duration": 0.069881,
     "end_time": "2022-03-17T10:30:09.469071",
     "exception": false,
     "start_time": "2022-03-17T10:30:09.399190",
     "status": "completed"
    },
    "tags": []
   },
   "outputs": [
    {
     "name": "stdout",
     "output_type": "stream",
     "text": [
      "Income outliers are values < -82839.64 or > 155310.5275\n"
     ]
    }
   ],
   "source": [
    "# find outliers for Income\n",
    "\n",
    "IQR = df.Income.quantile(0.75) - df.Income.quantile(0.25)\n",
    "lower = df.Income.quantile(0.25) - (IQR * 3)\n",
    "upper = df.Income.quantile(0.75) + (IQR * 3)\n",
    "print('Income outliers are values < {lowerboundary} or > {upperboundary}'.format(lowerboundary=lower, upperboundary=upper))"
   ]
  },
  {
   "cell_type": "code",
   "execution_count": 15,
   "id": "c009bab9",
   "metadata": {
    "execution": {
     "iopub.execute_input": "2022-03-17T10:30:09.568398Z",
     "iopub.status.busy": "2022-03-17T10:30:09.567391Z",
     "iopub.status.idle": "2022-03-17T10:30:09.576927Z",
     "shell.execute_reply": "2022-03-17T10:30:09.577501Z",
     "shell.execute_reply.started": "2022-03-16T11:42:59.910267Z"
    },
    "papermill": {
     "duration": 0.061571,
     "end_time": "2022-03-17T10:30:09.577717",
     "exception": false,
     "start_time": "2022-03-17T10:30:09.516146",
     "status": "completed"
    },
    "tags": []
   },
   "outputs": [],
   "source": [
    "def max_value(df3, variable, top):\n",
    "    return np.where(df3[variable]>top, top, df3[variable])\n",
    "\n",
    "for df3 in [df]:\n",
    "    df3['Population'] = max_value(df3, 'Population', 50458.0)\n",
    "    df3['Income'] = max_value(df3, 'Income', 155310.5275)"
   ]
  },
  {
   "cell_type": "code",
   "execution_count": 16,
   "id": "4d059c4a",
   "metadata": {
    "execution": {
     "iopub.execute_input": "2022-03-17T10:30:09.683661Z",
     "iopub.status.busy": "2022-03-17T10:30:09.682424Z",
     "iopub.status.idle": "2022-03-17T10:30:09.690414Z",
     "shell.execute_reply": "2022-03-17T10:30:09.691159Z",
     "shell.execute_reply.started": "2022-03-16T11:42:59.920577Z"
    },
    "papermill": {
     "duration": 0.06324,
     "end_time": "2022-03-17T10:30:09.691448",
     "exception": false,
     "start_time": "2022-03-17T10:30:09.628208",
     "status": "completed"
    },
    "tags": []
   },
   "outputs": [
    {
     "name": "stdout",
     "output_type": "stream",
     "text": [
      "50458.0 155310.5275\n"
     ]
    }
   ],
   "source": [
    "print(df.Population.max(), df.Income.max())"
   ]
  },
  {
   "cell_type": "code",
   "execution_count": 17,
   "id": "ac933aa9",
   "metadata": {
    "execution": {
     "iopub.execute_input": "2022-03-17T10:30:09.818874Z",
     "iopub.status.busy": "2022-03-17T10:30:09.817775Z",
     "iopub.status.idle": "2022-03-17T10:30:10.442764Z",
     "shell.execute_reply": "2022-03-17T10:30:10.441494Z",
     "shell.execute_reply.started": "2022-03-16T11:42:59.935321Z"
    },
    "papermill": {
     "duration": 0.695192,
     "end_time": "2022-03-17T10:30:10.442953",
     "exception": false,
     "start_time": "2022-03-17T10:30:09.747761",
     "status": "completed"
    },
    "tags": []
   },
   "outputs": [
    {
     "data": {
      "text/plain": [
       "Text(0, 0.5, 'Churn')"
      ]
     },
     "execution_count": 17,
     "metadata": {},
     "output_type": "execute_result"
    },
    {
     "data": {
      "image/png": "[encoded data removed]",
      "text/plain": [
       "<Figure size 1080x720 with 2 Axes>"
      ]
     },
     "metadata": {},
     "output_type": "display_data"
    }
   ],
   "source": [
    "# plot histogram to check distribution of removed outliers \n",
    "\n",
    "plt.figure(figsize=(15,10))\n",
    "\n",
    "\n",
    "plt.subplot(2, 2, 1)\n",
    "fig = df.Population.hist(bins=10)\n",
    "fig.set_xlabel('Population')\n",
    "fig.set_ylabel('Churn')\n",
    "\n",
    "\n",
    "plt.subplot(2, 2, 2)\n",
    "fig = df.Income.hist(bins=10)\n",
    "fig.set_xlabel('Income')\n",
    "fig.set_ylabel('Churn')"
   ]
  },
  {
   "cell_type": "code",
   "execution_count": 18,
   "id": "f48d97d2",
   "metadata": {
    "execution": {
     "iopub.execute_input": "2022-03-17T10:30:10.547221Z",
     "iopub.status.busy": "2022-03-17T10:30:10.545611Z",
     "iopub.status.idle": "2022-03-17T10:30:10.670412Z",
     "shell.execute_reply": "2022-03-17T10:30:10.669781Z",
     "shell.execute_reply.started": "2022-03-16T11:43:00.339715Z"
    },
    "papermill": {
     "duration": 0.179222,
     "end_time": "2022-03-17T10:30:10.670614",
     "exception": false,
     "start_time": "2022-03-17T10:30:10.491392",
     "status": "completed"
    },
    "tags": []
   },
   "outputs": [],
   "source": [
    "# Desired data set\n",
    "df.to_csv('K-means_cluster_churn.csv', index=False)"
   ]
  },
  {
   "cell_type": "markdown",
   "id": "c26ec120",
   "metadata": {
    "papermill": {
     "duration": 0.048769,
     "end_time": "2022-03-17T10:30:10.767010",
     "exception": false,
     "start_time": "2022-03-17T10:30:10.718241",
     "status": "completed"
    },
    "tags": []
   },
   "source": [
    "## PCA"
   ]
  },
  {
   "cell_type": "markdown",
   "id": "62ac19fe",
   "metadata": {
    "papermill": {
     "duration": 0.050836,
     "end_time": "2022-03-17T10:30:10.869874",
     "exception": false,
     "start_time": "2022-03-17T10:30:10.819038",
     "status": "completed"
    },
    "tags": []
   },
   "source": [
    "### D1."
   ]
  },
  {
   "cell_type": "code",
   "execution_count": 19,
   "id": "514336c1",
   "metadata": {
    "execution": {
     "iopub.execute_input": "2022-03-17T10:30:10.976546Z",
     "iopub.status.busy": "2022-03-17T10:30:10.975464Z",
     "iopub.status.idle": "2022-03-17T10:30:10.993700Z",
     "shell.execute_reply": "2022-03-17T10:30:10.994405Z",
     "shell.execute_reply.started": "2022-03-16T11:43:00.409822Z"
    },
    "papermill": {
     "duration": 0.070209,
     "end_time": "2022-03-17T10:30:10.994618",
     "exception": false,
     "start_time": "2022-03-17T10:30:10.924409",
     "status": "completed"
    },
    "tags": []
   },
   "outputs": [
    {
     "data": {
      "text/plain": [
       "array([[-0.71437651, -0.97233791,  0.72092524, ...,  0.48638938,\n",
       "        -0.49540563,  0.49038392],\n",
       "       [ 0.07827537, -0.50659192, -1.25995716, ..., -0.48116458,\n",
       "         0.47693123,  0.49038392],\n",
       "       [-0.43282059,  0.89064606, -0.14873045, ..., -0.48116458,\n",
       "        -0.49540563, -0.48182845],\n",
       "       ...,\n",
       "       [-0.68635038, -0.50659192, -0.24535886, ...,  0.48638938,\n",
       "         0.47693123,  1.46259628],\n",
       "       [ 1.99204833, -0.50659192, -0.6801867 , ..., -0.48116458,\n",
       "         1.44926808,  0.49038392],\n",
       "       [ 0.21414114, -0.50659192, -1.21164295, ..., -0.48116458,\n",
       "         0.47693123, -2.42625317]])"
      ]
     },
     "execution_count": 19,
     "metadata": {},
     "output_type": "execute_result"
    }
   ],
   "source": [
    "scaler = StandardScaler()\n",
    "df_std = df\n",
    "\n",
    "le = preprocessing.LabelEncoder()\n",
    "\n",
    "# transforming categorical datatypes into numerical types\n",
    "for feature in categorical:\n",
    "    df_std[feature] = le.fit_transform(df_std[feature])\n",
    "\n",
    "df_std = scaler.fit_transform(df_std)\n",
    "    \n",
    "df_std  "
   ]
  },
  {
   "cell_type": "code",
   "execution_count": 20,
   "id": "deec2352",
   "metadata": {
    "execution": {
     "iopub.execute_input": "2022-03-17T10:30:11.107908Z",
     "iopub.status.busy": "2022-03-17T10:30:11.106502Z",
     "iopub.status.idle": "2022-03-17T10:30:11.147411Z",
     "shell.execute_reply": "2022-03-17T10:30:11.148470Z",
     "shell.execute_reply.started": "2022-03-16T11:43:00.427268Z"
    },
    "papermill": {
     "duration": 0.100311,
     "end_time": "2022-03-17T10:30:11.148795",
     "exception": false,
     "start_time": "2022-03-17T10:30:11.048484",
     "status": "completed"
    },
    "tags": []
   },
   "outputs": [
    {
     "data": {
      "text/plain": [
       "PCA()"
      ]
     },
     "execution_count": 20,
     "metadata": {},
     "output_type": "execute_result"
    }
   ],
   "source": [
    "pca = PCA()\n",
    "pca.fit(df_std)"
   ]
  },
  {
   "cell_type": "code",
   "execution_count": 21,
   "id": "c2898266",
   "metadata": {
    "execution": {
     "iopub.execute_input": "2022-03-17T10:30:11.312149Z",
     "iopub.status.busy": "2022-03-17T10:30:11.311445Z",
     "iopub.status.idle": "2022-03-17T10:30:11.315789Z",
     "shell.execute_reply": "2022-03-17T10:30:11.315058Z",
     "shell.execute_reply.started": "2022-03-16T11:43:00.446804Z"
    },
    "papermill": {
     "duration": 0.065514,
     "end_time": "2022-03-17T10:30:11.315950",
     "exception": false,
     "start_time": "2022-03-17T10:30:11.250436",
     "status": "completed"
    },
    "tags": []
   },
   "outputs": [
    {
     "data": {
      "text/plain": [
       "array([0.15518765, 0.10510396, 0.08613855, 0.05570153, 0.05423195,\n",
       "       0.05359141, 0.05293564, 0.05260435, 0.05216304, 0.0515712 ,\n",
       "       0.05073044, 0.05054881, 0.040971  , 0.03632769, 0.03116657,\n",
       "       0.0283023 , 0.02535444, 0.01708214, 0.00028733])"
      ]
     },
     "execution_count": 21,
     "metadata": {},
     "output_type": "execute_result"
    }
   ],
   "source": [
    "pca.explained_variance_ratio_"
   ]
  },
  {
   "cell_type": "markdown",
   "id": "eea932f5",
   "metadata": {
    "papermill": {
     "duration": 0.0513,
     "end_time": "2022-03-17T10:30:11.419530",
     "exception": false,
     "start_time": "2022-03-17T10:30:11.368230",
     "status": "completed"
    },
    "tags": []
   },
   "source": [
    "### D2."
   ]
  },
  {
   "cell_type": "code",
   "execution_count": 22,
   "id": "e7acdf1a",
   "metadata": {
    "execution": {
     "iopub.execute_input": "2022-03-17T10:30:11.555598Z",
     "iopub.status.busy": "2022-03-17T10:30:11.550854Z",
     "iopub.status.idle": "2022-03-17T10:30:11.853024Z",
     "shell.execute_reply": "2022-03-17T10:30:11.852403Z",
     "shell.execute_reply.started": "2022-03-16T11:43:00.455036Z"
    },
    "papermill": {
     "duration": 0.381333,
     "end_time": "2022-03-17T10:30:11.853186",
     "exception": false,
     "start_time": "2022-03-17T10:30:11.471853",
     "status": "completed"
    },
    "tags": []
   },
   "outputs": [
    {
     "data": {
      "image/png": "[encoded data removed]",
      "text/plain": [
       "<Figure size 432x288 with 1 Axes>"
      ]
     },
     "metadata": {},
     "output_type": "display_data"
    }
   ],
   "source": [
    "plt.plot(range(0, pca.n_components_), pca.explained_variance_ratio_*100)\n",
    "plt.xlabel('Principal Component')\n",
    "plt.ylabel('Explained Variance')\n",
    "plt.show()"
   ]
  },
  {
   "cell_type": "code",
   "execution_count": 23,
   "id": "7edb81a2",
   "metadata": {
    "execution": {
     "iopub.execute_input": "2022-03-17T10:30:11.994313Z",
     "iopub.status.busy": "2022-03-17T10:30:11.993247Z",
     "iopub.status.idle": "2022-03-17T10:30:11.999171Z",
     "shell.execute_reply": "2022-03-17T10:30:12.000002Z",
     "shell.execute_reply.started": "2022-03-16T11:43:00.688382Z"
    },
    "papermill": {
     "duration": 0.086293,
     "end_time": "2022-03-17T10:30:12.000248",
     "exception": false,
     "start_time": "2022-03-17T10:30:11.913955",
     "status": "completed"
    },
    "tags": []
   },
   "outputs": [],
   "source": [
    "components = [i * 100 for i in list(pca.explained_variance_ratio_)]"
   ]
  },
  {
   "cell_type": "markdown",
   "id": "7eeb637b",
   "metadata": {
    "papermill": {
     "duration": 0.077176,
     "end_time": "2022-03-17T10:30:12.158019",
     "exception": false,
     "start_time": "2022-03-17T10:30:12.080843",
     "status": "completed"
    },
    "tags": []
   },
   "source": [
    "### D3."
   ]
  },
  {
   "cell_type": "markdown",
   "id": "ce898309",
   "metadata": {
    "papermill": {
     "duration": 0.062575,
     "end_time": "2022-03-17T10:30:12.294953",
     "exception": false,
     "start_time": "2022-03-17T10:30:12.232378",
     "status": "completed"
    },
    "tags": []
   },
   "source": [
    "### All components explained variance"
   ]
  },
  {
   "cell_type": "code",
   "execution_count": 24,
   "id": "ad7b8eaa",
   "metadata": {
    "execution": {
     "iopub.execute_input": "2022-03-17T10:30:12.421994Z",
     "iopub.status.busy": "2022-03-17T10:30:12.420941Z",
     "iopub.status.idle": "2022-03-17T10:30:12.441212Z",
     "shell.execute_reply": "2022-03-17T10:30:12.440553Z",
     "shell.execute_reply.started": "2022-03-16T11:43:00.695928Z"
    },
    "papermill": {
     "duration": 0.083258,
     "end_time": "2022-03-17T10:30:12.441360",
     "exception": false,
     "start_time": "2022-03-17T10:30:12.358102",
     "status": "completed"
    },
    "tags": []
   },
   "outputs": [
    {
     "name": "stdout",
     "output_type": "stream",
     "text": [
      "Principal Component  1  explained variance:  15.518764870671351\n",
      "Principal Component  2  explained variance:  10.510395567744322\n",
      "Principal Component  3  explained variance:  8.613855398280586\n",
      "Principal Component  4  explained variance:  5.570153075667193\n",
      "Principal Component  5  explained variance:  5.423194565342972\n",
      "Principal Component  6  explained variance:  5.359140936947409\n",
      "Principal Component  7  explained variance:  5.293564166322155\n",
      "Principal Component  8  explained variance:  5.260434519888916\n",
      "Principal Component  9  explained variance:  5.216304460061086\n",
      "Principal Component  10  explained variance:  5.157119807534598\n",
      "Principal Component  11  explained variance:  5.073043930753796\n",
      "Principal Component  12  explained variance:  5.0548813472639775\n",
      "Principal Component  13  explained variance:  4.097099685084196\n",
      "Principal Component  14  explained variance:  3.632768745593125\n",
      "Principal Component  15  explained variance:  3.1166565807373225\n",
      "Principal Component  16  explained variance:  2.8302304691317217\n",
      "Principal Component  17  explained variance:  2.535444189161128\n",
      "Principal Component  18  explained variance:  1.7082144622862987\n",
      "Principal Component  19  explained variance:  0.028733221527851453\n"
     ]
    }
   ],
   "source": [
    "for n, i in enumerate(components):\n",
    "    print('Principal Component ', n + 1, ' explained variance: ', i)"
   ]
  },
  {
   "cell_type": "markdown",
   "id": "49f13ba8",
   "metadata": {
    "papermill": {
     "duration": 0.058706,
     "end_time": "2022-03-17T10:30:12.553453",
     "exception": false,
     "start_time": "2022-03-17T10:30:12.494747",
     "status": "completed"
    },
    "tags": []
   },
   "source": [
    "### Principal components explained variance"
   ]
  },
  {
   "cell_type": "code",
   "execution_count": 25,
   "id": "66ee965f",
   "metadata": {
    "execution": {
     "iopub.execute_input": "2022-03-17T10:30:12.673714Z",
     "iopub.status.busy": "2022-03-17T10:30:12.672622Z",
     "iopub.status.idle": "2022-03-17T10:30:12.678159Z",
     "shell.execute_reply": "2022-03-17T10:30:12.678925Z",
     "shell.execute_reply.started": "2022-03-16T11:46:48.771248Z"
    },
    "papermill": {
     "duration": 0.06981,
     "end_time": "2022-03-17T10:30:12.679263",
     "exception": false,
     "start_time": "2022-03-17T10:30:12.609453",
     "status": "completed"
    },
    "tags": []
   },
   "outputs": [
    {
     "name": "stdout",
     "output_type": "stream",
     "text": [
      "Principal Component  1  explained variance:  15.518764870671351\n",
      "Principal Component  2  explained variance:  10.510395567744322\n",
      "Principal Component  3  explained variance:  8.613855398280586\n"
     ]
    }
   ],
   "source": [
    "principal_components = []\n",
    "for n, i in enumerate(components):\n",
    "    if n == 3:\n",
    "        break\n",
    "    principal_components.append(i)\n",
    "    print('Principal Component ', n + 1, ' explained variance: ', i)"
   ]
  },
  {
   "cell_type": "markdown",
   "id": "9f0c34b8",
   "metadata": {
    "papermill": {
     "duration": 0.052972,
     "end_time": "2022-03-17T10:30:12.787010",
     "exception": false,
     "start_time": "2022-03-17T10:30:12.734038",
     "status": "completed"
    },
    "tags": []
   },
   "source": [
    "### D4."
   ]
  },
  {
   "cell_type": "code",
   "execution_count": 26,
   "id": "796b9307",
   "metadata": {
    "execution": {
     "iopub.execute_input": "2022-03-17T10:30:12.904315Z",
     "iopub.status.busy": "2022-03-17T10:30:12.903257Z",
     "iopub.status.idle": "2022-03-17T10:30:12.907297Z",
     "shell.execute_reply": "2022-03-17T10:30:12.907871Z",
     "shell.execute_reply.started": "2022-03-16T11:47:13.003755Z"
    },
    "papermill": {
     "duration": 0.065244,
     "end_time": "2022-03-17T10:30:12.908059",
     "exception": false,
     "start_time": "2022-03-17T10:30:12.842815",
     "status": "completed"
    },
    "tags": []
   },
   "outputs": [
    {
     "name": "stdout",
     "output_type": "stream",
     "text": [
      "Total variance from principal components:  34.64301583669626\n"
     ]
    }
   ],
   "source": [
    "print('Total variance from principal components: ', sum(principal_components))"
   ]
  },
  {
   "cell_type": "markdown",
   "id": "ca5e6ff7",
   "metadata": {
    "papermill": {
     "duration": 0.057434,
     "end_time": "2022-03-17T10:30:13.020420",
     "exception": false,
     "start_time": "2022-03-17T10:30:12.962986",
     "status": "completed"
    },
    "tags": []
   },
   "source": [
    "### D5. Summary\n",
    "\n",
    "After performing data analysis, we found that there are 3 principal component consisting of roughly 37% of the explained variance. We could use this method to reduce the model significantly to help save computation power and demystify the importance of the features that matter to the customer. Also after reviewing the visual aid, it appears as if components 4 - 11 have hardly any influence on the data at all."
   ]
  }
 ],
 "metadata": {
  "kernelspec": {
   "display_name": "Python 3",
   "language": "python",
   "name": "python3"
  },
  "language_info": {
   "codemirror_mode": {
    "name": "ipython",
    "version": 3
   },
   "file_extension": ".py",
   "mimetype": "text/x-python",
   "name": "python",
   "nbconvert_exporter": "python",
   "pygments_lexer": "ipython3",
   "version": "3.7.12"
  },
  "papermill": {
   "default_parameters": {},
   "duration": 23.846633,
   "end_time": "2022-03-17T10:30:13.987633",
   "environment_variables": {},
   "exception": null,
   "input_path": "__notebook__.ipynb",
   "output_path": "__notebook__.ipynb",
   "parameters": {},
   "start_time": "2022-03-17T10:29:50.141000",
   "version": "2.3.3"
  }
 },
 "nbformat": 4,
 "nbformat_minor": 5
}
