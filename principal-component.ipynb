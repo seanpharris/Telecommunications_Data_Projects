{
 "cells": [
  {
   "cell_type": "markdown",
   "id": "91cee21b",
   "metadata": {
    "papermill": {
     "duration": 0.023267,
     "end_time": "2022-03-17T11:11:53.773278",
     "exception": false,
     "start_time": "2022-03-17T11:11:53.750011",
     "status": "completed"
    },
    "tags": []
   },
   "source": [
    "# Sean Pharris\n",
    "# March 16, 2022\n",
    "# PCA"
   ]
  },
  {
   "cell_type": "code",
   "execution_count": 1,
   "id": "dc9d2a46",
   "metadata": {
    "_cell_guid": "b1076dfc-b9ad-4769-8c92-a6c4dae69d19",
    "_uuid": "8f2839f25d086af736a60e9eeb907d3b93b6e0e5",
    "execution": {
     "iopub.execute_input": "2022-03-17T11:11:53.822006Z",
     "iopub.status.busy": "2022-03-17T11:11:53.821372Z",
     "iopub.status.idle": "2022-03-17T11:11:55.234856Z",
     "shell.execute_reply": "2022-03-17T11:11:55.235352Z",
     "shell.execute_reply.started": "2022-03-17T11:10:40.687554Z"
    },
    "papermill": {
     "duration": 1.441909,
     "end_time": "2022-03-17T11:11:55.235636",
     "exception": false,
     "start_time": "2022-03-17T11:11:53.793727",
     "status": "completed"
    },
    "tags": []
   },
   "outputs": [
    {
     "name": "stdout",
     "output_type": "stream",
     "text": [
      "/kaggle/input/clean-churn-data/churn_clean.csv\n",
      "/kaggle/input/clean-churn-data/D207 D208 D209 Churn Data Consideration and Dictionary.pdf\n"
     ]
    }
   ],
   "source": [
    "import numpy as np\n",
    "import pandas as pd\n",
    "import sklearn.preprocessing as preprocessing\n",
    "from sklearn.preprocessing import StandardScaler\n",
    "from sklearn.decomposition import PCA\n",
    "import matplotlib.pyplot as plt\n",
    "import seaborn as sns\n",
    "sns.set()\n",
    "\n",
    "import warnings\n",
    "warnings.filterwarnings('ignore')\n",
    "\n",
    "import os\n",
    "for dirname, _, filenames in os.walk('/kaggle/input'):\n",
    "    for filename in filenames:\n",
    "        print(os.path.join(dirname, filename))"
   ]
  },
  {
   "cell_type": "markdown",
   "id": "3c4e0a51",
   "metadata": {
    "papermill": {
     "duration": 0.015755,
     "end_time": "2022-03-17T11:11:55.269093",
     "exception": false,
     "start_time": "2022-03-17T11:11:55.253338",
     "status": "completed"
    },
    "tags": []
   },
   "source": [
    "### A. \n",
    "\n",
    "### 1. Which variables explain the most variance when it comes to customer churn?\n",
    "\n",
    "### 2. The goal of the data analysis is to determine which components of the data set explain the most variance in customer churn. These variables will represent the major factors that customers care about in the service.\n",
    " \n",
    "\n",
    "\n",
    "### B.  \n",
    "\n",
    "### 1.  PCA analyzes all variables and their explained variance based on their influence of the overall data. After conducting the PCA, we can expect to find the overall sum of variance and each individual variance per feature.\n",
    "\n",
    "### 2.  Assumption:\n",
    "    * We will encode and normalize the data to make sure all data is continuous because it is required for analysis. We can assume that Yes/No variables will have less of an impact on the overall analysis. \n",
    "\n",
    "\n",
    "\n",
    "### C.  \n",
    "\n",
    "### 1. Continuous data types:\n",
    "\n",
    "'Population', 'Children', 'Age', 'Income', 'Outage_sec_perweek', 'Email', 'Contacts', 'Yearly_equip_failure', 'Tenure', 'MonthlyCharge', 'Bandwidth_GB_Year', 'TimelyResponse', 'TimelyFixes', 'TimelyReplacements', 'Reliability', 'Options', 'RespectfulResponse', 'CourteousExchange', 'EvidenceOfActiveListening'\n",
    "\n",
    "\n",
    "### 2. See code below to find standardization of continuous data set variables.\n",
    "\n",
    "### C1.  To see cleaned data set, see attachment \"PCA_churn.csv\"."
   ]
  },
  {
   "cell_type": "markdown",
   "id": "d9e087eb",
   "metadata": {
    "papermill": {
     "duration": 0.017618,
     "end_time": "2022-03-17T11:11:55.302948",
     "exception": false,
     "start_time": "2022-03-17T11:11:55.285330",
     "status": "completed"
    },
    "tags": []
   },
   "source": [
    "# Data preparation"
   ]
  },
  {
   "cell_type": "markdown",
   "id": "f79724c6",
   "metadata": {
    "papermill": {
     "duration": 0.015907,
     "end_time": "2022-03-17T11:11:55.334944",
     "exception": false,
     "start_time": "2022-03-17T11:11:55.319037",
     "status": "completed"
    },
    "tags": []
   },
   "source": [
    "### Read data in to data frame"
   ]
  },
  {
   "cell_type": "code",
   "execution_count": 2,
   "id": "5ebc6f5e",
   "metadata": {
    "execution": {
     "iopub.execute_input": "2022-03-17T11:11:55.372237Z",
     "iopub.status.busy": "2022-03-17T11:11:55.371462Z",
     "iopub.status.idle": "2022-03-17T11:11:55.549386Z",
     "shell.execute_reply": "2022-03-17T11:11:55.548876Z",
     "shell.execute_reply.started": "2022-03-17T11:10:40.704204Z"
    },
    "papermill": {
     "duration": 0.19848,
     "end_time": "2022-03-17T11:11:55.549542",
     "exception": false,
     "start_time": "2022-03-17T11:11:55.351062",
     "status": "completed"
    },
    "tags": []
   },
   "outputs": [],
   "source": [
    "# Read in data set into the data frame \n",
    "df = pd.read_csv('../input/clean-churn-data/churn_clean.csv')"
   ]
  },
  {
   "cell_type": "markdown",
   "id": "d359b7eb",
   "metadata": {
    "papermill": {
     "duration": 0.01603,
     "end_time": "2022-03-17T11:11:55.582211",
     "exception": false,
     "start_time": "2022-03-17T11:11:55.566181",
     "status": "completed"
    },
    "tags": []
   },
   "source": [
    "### Drop categorical data type columns"
   ]
  },
  {
   "cell_type": "code",
   "execution_count": 3,
   "id": "bdc32ef5",
   "metadata": {
    "execution": {
     "iopub.execute_input": "2022-03-17T11:11:55.617624Z",
     "iopub.status.busy": "2022-03-17T11:11:55.616975Z",
     "iopub.status.idle": "2022-03-17T11:11:55.631465Z",
     "shell.execute_reply": "2022-03-17T11:11:55.631970Z",
     "shell.execute_reply.started": "2022-03-17T11:10:40.845324Z"
    },
    "papermill": {
     "duration": 0.033917,
     "end_time": "2022-03-17T11:11:55.632158",
     "exception": false,
     "start_time": "2022-03-17T11:11:55.598241",
     "status": "completed"
    },
    "tags": []
   },
   "outputs": [],
   "source": [
    "# Drop unnecessary columns\n",
    "df.drop(columns=['CaseOrder','UID', 'Customer_id','Interaction', 'Job','State','City','County','Zip','Lat','Lng', 'TimeZone', 'Marital', 'Area', 'Gender', 'Churn', 'Techie', 'Contract', 'Port_modem', 'Tablet', 'InternetService', 'Phone', 'Multiple', 'OnlineSecurity', 'OnlineBackup', 'DeviceProtection', 'TechSupport', 'StreamingTV', 'StreamingMovies', 'PaperlessBilling', 'PaymentMethod'], inplace=True)"
   ]
  },
  {
   "cell_type": "markdown",
   "id": "cb15c8c5",
   "metadata": {
    "papermill": {
     "duration": 0.016172,
     "end_time": "2022-03-17T11:11:55.666743",
     "exception": false,
     "start_time": "2022-03-17T11:11:55.650571",
     "status": "completed"
    },
    "tags": []
   },
   "source": [
    "### Change column names to make them more understandable"
   ]
  },
  {
   "cell_type": "code",
   "execution_count": 4,
   "id": "1c34232a",
   "metadata": {
    "execution": {
     "iopub.execute_input": "2022-03-17T11:11:55.705670Z",
     "iopub.status.busy": "2022-03-17T11:11:55.704897Z",
     "iopub.status.idle": "2022-03-17T11:11:55.707147Z",
     "shell.execute_reply": "2022-03-17T11:11:55.707555Z",
     "shell.execute_reply.started": "2022-03-17T11:10:40.858761Z"
    },
    "papermill": {
     "duration": 0.024803,
     "end_time": "2022-03-17T11:11:55.707730",
     "exception": false,
     "start_time": "2022-03-17T11:11:55.682927",
     "status": "completed"
    },
    "tags": []
   },
   "outputs": [],
   "source": [
    "# Renaming the survey columns\n",
    "df.rename(columns = {'Item1':'TimelyResponse', \n",
    "                    'Item2':'TimelyFixes', \n",
    "                     'Item3':'TimelyReplacements', \n",
    "                     'Item4':'Reliability', \n",
    "                     'Item5':'Options', \n",
    "                     'Item6':'RespectfulResponse', \n",
    "                     'Item7':'CourteousExchange', \n",
    "                     'Item8':'EvidenceOfActiveListening'}, \n",
    "          inplace=True)"
   ]
  },
  {
   "cell_type": "code",
   "execution_count": 5,
   "id": "aa426888",
   "metadata": {
    "execution": {
     "iopub.execute_input": "2022-03-17T11:11:55.745379Z",
     "iopub.status.busy": "2022-03-17T11:11:55.744720Z",
     "iopub.status.idle": "2022-03-17T11:11:55.817061Z",
     "shell.execute_reply": "2022-03-17T11:11:55.816508Z",
     "shell.execute_reply.started": "2022-03-17T11:10:40.874971Z"
    },
    "papermill": {
     "duration": 0.092718,
     "end_time": "2022-03-17T11:11:55.817210",
     "exception": false,
     "start_time": "2022-03-17T11:11:55.724492",
     "status": "completed"
    },
    "tags": []
   },
   "outputs": [],
   "source": [
    "# Desired data set\n",
    "df.to_csv('PCA_churn.csv', index=False)"
   ]
  },
  {
   "cell_type": "markdown",
   "id": "8d3c1a67",
   "metadata": {
    "papermill": {
     "duration": 0.015937,
     "end_time": "2022-03-17T11:11:55.849684",
     "exception": false,
     "start_time": "2022-03-17T11:11:55.833747",
     "status": "completed"
    },
    "tags": []
   },
   "source": [
    "### D1."
   ]
  },
  {
   "cell_type": "code",
   "execution_count": 6,
   "id": "6540db97",
   "metadata": {
    "execution": {
     "iopub.execute_input": "2022-03-17T11:11:55.890463Z",
     "iopub.status.busy": "2022-03-17T11:11:55.889731Z",
     "iopub.status.idle": "2022-03-17T11:11:55.900874Z",
     "shell.execute_reply": "2022-03-17T11:11:55.901360Z",
     "shell.execute_reply.started": "2022-03-17T11:10:40.994765Z"
    },
    "papermill": {
     "duration": 0.035568,
     "end_time": "2022-03-17T11:11:55.901522",
     "exception": false,
     "start_time": "2022-03-17T11:11:55.865954",
     "status": "completed"
    },
    "tags": []
   },
   "outputs": [
    {
     "data": {
      "text/plain": [
       "array([[-0.67340479, -0.97233791,  0.72092524, ...,  0.48638938,\n",
       "        -0.49540563,  0.49038392],\n",
       "       [ 0.04777153, -0.50659192, -1.25995716, ..., -0.48116458,\n",
       "         0.47693123,  0.49038392],\n",
       "       [-0.41723753,  0.89064606, -0.14873045, ..., -0.48116458,\n",
       "        -0.49540563, -0.48182845],\n",
       "       ...,\n",
       "       [-0.64790585, -0.50659192, -0.24535886, ...,  0.48638938,\n",
       "         0.47693123,  1.46259628],\n",
       "       [ 1.78897441, -0.50659192, -0.6801867 , ..., -0.48116458,\n",
       "         1.44926808,  0.49038392],\n",
       "       [ 0.17138592, -0.50659192, -1.21164295, ..., -0.48116458,\n",
       "         0.47693123, -2.42625317]])"
      ]
     },
     "execution_count": 6,
     "metadata": {},
     "output_type": "execute_result"
    }
   ],
   "source": [
    "scaler = StandardScaler()\n",
    "df_std = df\n",
    "\n",
    "le = preprocessing.LabelEncoder()\n",
    "\n",
    "# transforming categorical datatypes into numerical types\n",
    "'''for feature in categorical:\n",
    "    df_std[feature] = le.fit_transform(df_std[feature])'''\n",
    "\n",
    "df_std = scaler.fit_transform(df_std)\n",
    "    \n",
    "df_std  "
   ]
  },
  {
   "cell_type": "code",
   "execution_count": 7,
   "id": "181a0f89",
   "metadata": {
    "execution": {
     "iopub.execute_input": "2022-03-17T11:11:55.937853Z",
     "iopub.status.busy": "2022-03-17T11:11:55.937165Z",
     "iopub.status.idle": "2022-03-17T11:11:55.966772Z",
     "shell.execute_reply": "2022-03-17T11:11:55.967747Z",
     "shell.execute_reply.started": "2022-03-17T11:10:41.014709Z"
    },
    "papermill": {
     "duration": 0.050006,
     "end_time": "2022-03-17T11:11:55.968017",
     "exception": false,
     "start_time": "2022-03-17T11:11:55.918011",
     "status": "completed"
    },
    "tags": []
   },
   "outputs": [
    {
     "data": {
      "text/plain": [
       "PCA()"
      ]
     },
     "execution_count": 7,
     "metadata": {},
     "output_type": "execute_result"
    }
   ],
   "source": [
    "pca = PCA()\n",
    "pca.fit(df_std)"
   ]
  },
  {
   "cell_type": "code",
   "execution_count": 8,
   "id": "6a5ff9c2",
   "metadata": {
    "execution": {
     "iopub.execute_input": "2022-03-17T11:11:56.043951Z",
     "iopub.status.busy": "2022-03-17T11:11:56.042915Z",
     "iopub.status.idle": "2022-03-17T11:11:56.047048Z",
     "shell.execute_reply": "2022-03-17T11:11:56.047871Z",
     "shell.execute_reply.started": "2022-03-17T11:10:41.046875Z"
    },
    "papermill": {
     "duration": 0.047109,
     "end_time": "2022-03-17T11:11:56.048140",
     "exception": false,
     "start_time": "2022-03-17T11:11:56.001031",
     "status": "completed"
    },
    "tags": []
   },
   "outputs": [
    {
     "data": {
      "text/plain": [
       "array([0.15518775, 0.10510063, 0.0861344 , 0.0556271 , 0.05420493,\n",
       "       0.05364404, 0.05287854, 0.05258933, 0.05218578, 0.05161265,\n",
       "       0.05075795, 0.05057251, 0.04098201, 0.0363229 , 0.0311726 ,\n",
       "       0.02830243, 0.02535407, 0.01708302, 0.00028734])"
      ]
     },
     "execution_count": 8,
     "metadata": {},
     "output_type": "execute_result"
    }
   ],
   "source": [
    "pca.explained_variance_ratio_"
   ]
  },
  {
   "cell_type": "markdown",
   "id": "96fa9415",
   "metadata": {
    "papermill": {
     "duration": 0.017263,
     "end_time": "2022-03-17T11:11:56.099025",
     "exception": false,
     "start_time": "2022-03-17T11:11:56.081762",
     "status": "completed"
    },
    "tags": []
   },
   "source": [
    "### D2."
   ]
  },
  {
   "cell_type": "code",
   "execution_count": 9,
   "id": "e73e358a",
   "metadata": {
    "execution": {
     "iopub.execute_input": "2022-03-17T11:11:56.142730Z",
     "iopub.status.busy": "2022-03-17T11:11:56.142118Z",
     "iopub.status.idle": "2022-03-17T11:11:56.351368Z",
     "shell.execute_reply": "2022-03-17T11:11:56.351916Z",
     "shell.execute_reply.started": "2022-03-17T11:10:41.069170Z"
    },
    "papermill": {
     "duration": 0.235562,
     "end_time": "2022-03-17T11:11:56.352088",
     "exception": false,
     "start_time": "2022-03-17T11:11:56.116526",
     "status": "completed"
    },
    "tags": []
   },
   "outputs": [
    {
     "data": {
      "image/png": "[encoded data removed]",
      "text/plain": [
       "<Figure size 432x288 with 1 Axes>"
      ]
     },
     "metadata": {},
     "output_type": "display_data"
    }
   ],
   "source": [
    "plt.plot(range(0, pca.n_components_), pca.explained_variance_ratio_*100)\n",
    "plt.xlabel('Principal Component')\n",
    "plt.ylabel('Explained Variance')\n",
    "plt.show()"
   ]
  },
  {
   "cell_type": "code",
   "execution_count": 10,
   "id": "acb4a151",
   "metadata": {
    "execution": {
     "iopub.execute_input": "2022-03-17T11:11:56.392425Z",
     "iopub.status.busy": "2022-03-17T11:11:56.391474Z",
     "iopub.status.idle": "2022-03-17T11:11:56.395315Z",
     "shell.execute_reply": "2022-03-17T11:11:56.395735Z",
     "shell.execute_reply.started": "2022-03-17T11:10:41.425820Z"
    },
    "papermill": {
     "duration": 0.025637,
     "end_time": "2022-03-17T11:11:56.395905",
     "exception": false,
     "start_time": "2022-03-17T11:11:56.370268",
     "status": "completed"
    },
    "tags": []
   },
   "outputs": [],
   "source": [
    "components = [i * 100 for i in list(pca.explained_variance_ratio_)]"
   ]
  },
  {
   "cell_type": "markdown",
   "id": "5803b74d",
   "metadata": {
    "papermill": {
     "duration": 0.017723,
     "end_time": "2022-03-17T11:11:56.431777",
     "exception": false,
     "start_time": "2022-03-17T11:11:56.414054",
     "status": "completed"
    },
    "tags": []
   },
   "source": [
    "### D3."
   ]
  },
  {
   "cell_type": "markdown",
   "id": "9ea7014d",
   "metadata": {
    "papermill": {
     "duration": 0.017755,
     "end_time": "2022-03-17T11:11:56.467614",
     "exception": false,
     "start_time": "2022-03-17T11:11:56.449859",
     "status": "completed"
    },
    "tags": []
   },
   "source": [
    "### All components explained variance"
   ]
  },
  {
   "cell_type": "code",
   "execution_count": 11,
   "id": "fe34bb3a",
   "metadata": {
    "execution": {
     "iopub.execute_input": "2022-03-17T11:11:56.513647Z",
     "iopub.status.busy": "2022-03-17T11:11:56.512659Z",
     "iopub.status.idle": "2022-03-17T11:11:56.517327Z",
     "shell.execute_reply": "2022-03-17T11:11:56.516520Z",
     "shell.execute_reply.started": "2022-03-17T11:10:41.433286Z"
    },
    "papermill": {
     "duration": 0.031179,
     "end_time": "2022-03-17T11:11:56.517534",
     "exception": false,
     "start_time": "2022-03-17T11:11:56.486355",
     "status": "completed"
    },
    "tags": []
   },
   "outputs": [
    {
     "name": "stdout",
     "output_type": "stream",
     "text": [
      "Principal Component  1  explained variance:  15.518775354130712\n",
      "Principal Component  2  explained variance:  10.51006312846736\n",
      "Principal Component  3  explained variance:  8.613440016406944\n",
      "Principal Component  4  explained variance:  5.562709862251329\n",
      "Principal Component  5  explained variance:  5.420493349832502\n",
      "Principal Component  6  explained variance:  5.36440404363624\n",
      "Principal Component  7  explained variance:  5.28785410313537\n",
      "Principal Component  8  explained variance:  5.25893304534812\n",
      "Principal Component  9  explained variance:  5.218578270985741\n",
      "Principal Component  10  explained variance:  5.16126522770154\n",
      "Principal Component  11  explained variance:  5.075795398769438\n",
      "Principal Component  12  explained variance:  5.0572514473764745\n",
      "Principal Component  13  explained variance:  4.098201449696796\n",
      "Principal Component  14  explained variance:  3.6322895896714598\n",
      "Principal Component  15  explained variance:  3.1172602865929875\n",
      "Principal Component  16  explained variance:  2.830243121668613\n",
      "Principal Component  17  explained variance:  2.5354069288230927\n",
      "Principal Component  18  explained variance:  1.7083017616135767\n",
      "Principal Component  19  explained variance:  0.028733613891715117\n"
     ]
    }
   ],
   "source": [
    "for n, i in enumerate(components):\n",
    "    print('Principal Component ', n + 1, ' explained variance: ', i)"
   ]
  },
  {
   "cell_type": "markdown",
   "id": "a853eeca",
   "metadata": {
    "papermill": {
     "duration": 0.01815,
     "end_time": "2022-03-17T11:11:56.557181",
     "exception": false,
     "start_time": "2022-03-17T11:11:56.539031",
     "status": "completed"
    },
    "tags": []
   },
   "source": [
    "### Principal components explained variance"
   ]
  },
  {
   "cell_type": "code",
   "execution_count": 12,
   "id": "0214ac42",
   "metadata": {
    "execution": {
     "iopub.execute_input": "2022-03-17T11:11:56.601274Z",
     "iopub.status.busy": "2022-03-17T11:11:56.600246Z",
     "iopub.status.idle": "2022-03-17T11:11:56.603885Z",
     "shell.execute_reply": "2022-03-17T11:11:56.604338Z",
     "shell.execute_reply.started": "2022-03-17T11:10:41.464470Z"
    },
    "papermill": {
     "duration": 0.028604,
     "end_time": "2022-03-17T11:11:56.604504",
     "exception": false,
     "start_time": "2022-03-17T11:11:56.575900",
     "status": "completed"
    },
    "tags": []
   },
   "outputs": [
    {
     "name": "stdout",
     "output_type": "stream",
     "text": [
      "Principal Component  1  explained variance:  15.518775354130712\n",
      "Principal Component  2  explained variance:  10.51006312846736\n",
      "Principal Component  3  explained variance:  8.613440016406944\n"
     ]
    }
   ],
   "source": [
    "principal_components = []\n",
    "for n, i in enumerate(components):\n",
    "    if n == 3:\n",
    "        break\n",
    "    principal_components.append(i)\n",
    "    print('Principal Component ', n + 1, ' explained variance: ', i)"
   ]
  },
  {
   "cell_type": "markdown",
   "id": "c8544795",
   "metadata": {
    "papermill": {
     "duration": 0.018409,
     "end_time": "2022-03-17T11:11:56.642278",
     "exception": false,
     "start_time": "2022-03-17T11:11:56.623869",
     "status": "completed"
    },
    "tags": []
   },
   "source": [
    "### D4."
   ]
  },
  {
   "cell_type": "code",
   "execution_count": 13,
   "id": "f0d120a5",
   "metadata": {
    "execution": {
     "iopub.execute_input": "2022-03-17T11:11:56.683525Z",
     "iopub.status.busy": "2022-03-17T11:11:56.682902Z",
     "iopub.status.idle": "2022-03-17T11:11:56.688204Z",
     "shell.execute_reply": "2022-03-17T11:11:56.688763Z",
     "shell.execute_reply.started": "2022-03-17T11:10:41.472991Z"
    },
    "papermill": {
     "duration": 0.027912,
     "end_time": "2022-03-17T11:11:56.688928",
     "exception": false,
     "start_time": "2022-03-17T11:11:56.661016",
     "status": "completed"
    },
    "tags": []
   },
   "outputs": [
    {
     "name": "stdout",
     "output_type": "stream",
     "text": [
      "Total variance from principal components:  34.642278499005016\n"
     ]
    }
   ],
   "source": [
    "print('Total variance from principal components: ', sum(principal_components))"
   ]
  },
  {
   "cell_type": "markdown",
   "id": "f8167c3b",
   "metadata": {
    "papermill": {
     "duration": 0.018661,
     "end_time": "2022-03-17T11:11:56.726698",
     "exception": false,
     "start_time": "2022-03-17T11:11:56.708037",
     "status": "completed"
    },
    "tags": []
   },
   "source": [
    "### D5. Summary\n",
    "\n",
    "After performing data analysis, we found that there are 3 principal component consisting of roughly 35% of the explained variance. We could use this method to reduce the model significantly to help save computation power and demystify the importance of the features that matter to the customer. Also after reviewing the visual aid, it appears as if components 4 - 11 have hardly any influence on the data at all."
   ]
  }
 ],
 "metadata": {
  "kernelspec": {
   "display_name": "Python 3",
   "language": "python",
   "name": "python3"
  },
  "language_info": {
   "codemirror_mode": {
    "name": "ipython",
    "version": 3
   },
   "file_extension": ".py",
   "mimetype": "text/x-python",
   "name": "python",
   "nbconvert_exporter": "python",
   "pygments_lexer": "ipython3",
   "version": "3.7.12"
  },
  "papermill": {
   "default_parameters": {},
   "duration": 12.746039,
   "end_time": "2022-03-17T11:11:57.456799",
   "environment_variables": {},
   "exception": null,
   "input_path": "__notebook__.ipynb",
   "output_path": "__notebook__.ipynb",
   "parameters": {},
   "start_time": "2022-03-17T11:11:44.710760",
   "version": "2.3.3"
  }
 },
 "nbformat": 4,
 "nbformat_minor": 5
}
